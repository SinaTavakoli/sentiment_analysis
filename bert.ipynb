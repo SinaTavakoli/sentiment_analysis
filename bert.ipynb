{
 "cells": [
  {
   "cell_type": "code",
   "execution_count": 1,
   "id": "a7063b6a",
   "metadata": {
    "execution": {
     "iopub.execute_input": "2022-02-15T08:48:30.262953Z",
     "iopub.status.busy": "2022-02-15T08:48:30.261342Z",
     "iopub.status.idle": "2022-02-15T08:48:30.265570Z",
     "shell.execute_reply": "2022-02-15T08:48:30.265050Z",
     "shell.execute_reply.started": "2022-02-15T08:44:15.820159Z"
    },
    "id": "IhELEVRLuWnn",
    "outputId": "787bc463-43fc-4b66-8873-f06b6d6a375c",
    "papermill": {
     "duration": 0.027266,
     "end_time": "2022-02-15T08:48:30.265696",
     "exception": false,
     "start_time": "2022-02-15T08:48:30.238430",
     "status": "completed"
    },
    "tags": []
   },
   "outputs": [],
   "source": [
    "# !pip install transformers"
   ]
  },
  {
   "cell_type": "code",
   "execution_count": 1,
   "id": "455134a0",
   "metadata": {
    "execution": {
     "iopub.execute_input": "2022-02-15T08:48:30.314065Z",
     "iopub.status.busy": "2022-02-15T08:48:30.313545Z",
     "iopub.status.idle": "2022-02-15T08:48:37.921640Z",
     "shell.execute_reply": "2022-02-15T08:48:37.922223Z",
     "shell.execute_reply.started": "2022-02-15T08:44:15.844949Z"
    },
    "id": "4V_-MTB3sagm",
    "outputId": "024655d4-cd2e-45e0-c68d-fc0515c75991",
    "papermill": {
     "duration": 7.638182,
     "end_time": "2022-02-15T08:48:37.922433",
     "exception": false,
     "start_time": "2022-02-15T08:48:30.284251",
     "status": "completed"
    },
    "tags": []
   },
   "outputs": [],
   "source": [
    "import warnings\n",
    "warnings.filterwarnings(\"ignore\")\n",
    "\n",
    "import re\n",
    "import gc\n",
    "import os\n",
    "import pickle\n",
    "import torch\n",
    "import random\n",
    "from torch.nn import BCEWithLogitsLoss, BCELoss\n",
    "import numpy as np\n",
    "import pandas as pd\n",
    "import matplotlib.pyplot as plt\n",
    "from sklearn.manifold import TSNE\n",
    "from sklearn.model_selection import KFold,StratifiedKFold, train_test_split\n",
    "from torch.utils.data import TensorDataset, DataLoader, RandomSampler, SequentialSampler\n",
    "from sklearn.utils import shuffle\n",
    "from sklearn.preprocessing import OneHotEncoder\n",
    "from tqdm import tqdm, trange\n",
    "from sklearn.metrics import roc_auc_score, f1_score, confusion_matrix, roc_curve\n",
    "from sklearn.metrics import accuracy_score,confusion_matrix, classification_report,f1_score\n",
    "from transformers import AutoModel,BertTokenizerFast as BertTokenizer, BertModel, AdamW, get_linear_schedule_with_warmup,BertForSequenceClassification\n",
    "from sklearn.model_selection import StratifiedKFold,RepeatedStratifiedKFold,KFold\n",
    "from torch.nn.functional import softmax\n",
    "from transformers import logging\n",
    "logging.set_verbosity_warning()\n",
    "from transformers import AutoConfig, AutoTokenizer, AutoModel\n",
    "import time\n",
    "import datetime\n",
    "import seaborn as sns\n",
    "from preprocess_ import cleaner\n",
    "\n",
    "\n",
    "tqdm.pandas()"
   ]
  },
  {
   "cell_type": "code",
   "execution_count": 2,
   "id": "692d126a",
   "metadata": {},
   "outputs": [
    {
     "name": "stderr",
     "output_type": "stream",
     "text": [
      "100%|██████████████████████████████| 2554911/2554911 [00:49<00:00, 51974.18it/s]\n"
     ]
    }
   ],
   "source": [
    "import re\n",
    "df = pd.read_csv(\"./df_drop_duplicates.csv\", index_col=0)\n",
    "\n",
    "df = df[~df.sentiment.isna()]\n",
    "df = df[df.sentiment != \"در مورد خرید این محصول مطمئن نیستم\"]\n",
    "df.reset_index(inplace=True, drop=True)\n",
    "df['comments'] = df['comments'].astype(str).progress_apply(lambda x: cleaner(x))"
   ]
  },
  {
   "cell_type": "code",
   "execution_count": 4,
   "id": "75d4a05b",
   "metadata": {},
   "outputs": [
    {
     "data": {
      "text/plain": [
       "(2554911, 2)"
      ]
     },
     "execution_count": 4,
     "metadata": {},
     "output_type": "execute_result"
    }
   ],
   "source": [
    "df.shape"
   ]
  },
  {
   "cell_type": "code",
   "execution_count": 5,
   "id": "3fb4c05d",
   "metadata": {},
   "outputs": [
    {
     "data": {
      "text/plain": [
       "sentiment\n",
       "خرید این محصول را توصیه می‌کنم     2145345\n",
       "خرید این محصول را توصیه نمی‌کنم     409566\n",
       "Name: count, dtype: int64"
      ]
     },
     "execution_count": 5,
     "metadata": {},
     "output_type": "execute_result"
    }
   ],
   "source": [
    "df.sentiment.value_counts()"
   ]
  },
  {
   "cell_type": "code",
   "execution_count": 7,
   "id": "f9833db6",
   "metadata": {},
   "outputs": [
    {
     "data": {
      "text/plain": [
       "{'خرید این محصول را توصیه می\\u200cکنم': 0,\n",
       " 'خرید این محصول را توصیه نمی\\u200cکنم': 1}"
      ]
     },
     "execution_count": 7,
     "metadata": {},
     "output_type": "execute_result"
    }
   ],
   "source": [
    "cat_mapper = dict(zip(df.sentiment.unique(), [0,1]))\n",
    "\n",
    "df.sentiment = df.sentiment.map(cat_mapper)\n",
    "cat_mapper"
   ]
  },
  {
   "cell_type": "code",
   "execution_count": 8,
   "id": "8a2a0857",
   "metadata": {
    "execution": {
     "iopub.execute_input": "2022-02-15T08:48:38.011873Z",
     "iopub.status.busy": "2022-02-15T08:48:38.011126Z",
     "iopub.status.idle": "2022-02-15T08:48:38.013835Z",
     "shell.execute_reply": "2022-02-15T08:48:38.013366Z",
     "shell.execute_reply.started": "2022-02-15T08:44:23.282097Z"
    },
    "id": "Gqa3_nWFsagt",
    "papermill": {
     "duration": 0.072211,
     "end_time": "2022-02-15T08:48:38.013945",
     "exception": false,
     "start_time": "2022-02-15T08:48:37.941734",
     "status": "completed"
    },
    "tags": []
   },
   "outputs": [
    {
     "data": {
      "text/plain": [
       "sentiment\n",
       "0    2145345\n",
       "1     409566\n",
       "Name: count, dtype: int64"
      ]
     },
     "execution_count": 8,
     "metadata": {},
     "output_type": "execute_result"
    }
   ],
   "source": [
    "device = torch.device(\"cuda\")\n",
    "n_gpu = torch.cuda.device_count()\n",
    "\n",
    "df = df.dropna()\n",
    "\n",
    "X = df.loc[:,[\"comments\"]]\n",
    "Y = df.sentiment\n",
    "Y.value_counts()"
   ]
  },
  {
   "cell_type": "code",
   "execution_count": 9,
   "id": "f3ed4fa1",
   "metadata": {
    "execution": {
     "iopub.execute_input": "2022-02-15T08:48:46.621563Z",
     "iopub.status.busy": "2022-02-15T08:48:46.621012Z",
     "iopub.status.idle": "2022-02-15T08:49:21.290627Z",
     "shell.execute_reply": "2022-02-15T08:49:21.291181Z",
     "shell.execute_reply.started": "2022-02-15T08:44:31.415440Z"
    },
    "id": "aPzvTB1Xsag3",
    "papermill": {
     "duration": 34.69359,
     "end_time": "2022-02-15T08:49:21.291397",
     "exception": false,
     "start_time": "2022-02-15T08:48:46.597807",
     "status": "completed"
    },
    "tags": []
   },
   "outputs": [
    {
     "data": {
      "application/vnd.jupyter.widget-view+json": {
       "model_id": "c2bdbca9db4c4a029adcbe0cc102a386",
       "version_major": 2,
       "version_minor": 0
      },
      "text/plain": [
       "config.json:   0%|          | 0.00/434 [00:00<?, ?B/s]"
      ]
     },
     "metadata": {},
     "output_type": "display_data"
    },
    {
     "data": {
      "application/vnd.jupyter.widget-view+json": {
       "model_id": "b48de2e2fb0749a593beefc498b6ece5",
       "version_major": 2,
       "version_minor": 0
      },
      "text/plain": [
       "vocab.txt:   0%|          | 0.00/1.22M [00:00<?, ?B/s]"
      ]
     },
     "metadata": {},
     "output_type": "display_data"
    },
    {
     "data": {
      "application/vnd.jupyter.widget-view+json": {
       "model_id": "075811e4468d45beaa38a56b25578171",
       "version_major": 2,
       "version_minor": 0
      },
      "text/plain": [
       "pytorch_model.bin:   0%|          | 0.00/654M [00:00<?, ?B/s]"
      ]
     },
     "metadata": {},
     "output_type": "display_data"
    },
    {
     "name": "stderr",
     "output_type": "stream",
     "text": [
      "Some weights of the model checkpoint at HooshvareLab/bert-base-parsbert-uncased were not used when initializing BertModel: ['cls.predictions.transform.dense.bias', 'cls.seq_relationship.bias', 'cls.predictions.decoder.weight', 'cls.predictions.decoder.bias', 'cls.predictions.bias', 'cls.predictions.transform.LayerNorm.bias', 'cls.predictions.transform.LayerNorm.weight', 'cls.predictions.transform.dense.weight', 'cls.seq_relationship.weight']\n",
      "- This IS expected if you are initializing BertModel from the checkpoint of a model trained on another task or with another architecture (e.g. initializing a BertForSequenceClassification model from a BertForPreTraining model).\n",
      "- This IS NOT expected if you are initializing BertModel from the checkpoint of a model that you expect to be exactly identical (initializing a BertForSequenceClassification model from a BertForSequenceClassification model).\n"
     ]
    }
   ],
   "source": [
    "config = AutoConfig.from_pretrained(\"HooshvareLab/bert-base-parsbert-uncased\")\n",
    "tokenizer = AutoTokenizer.from_pretrained(\"HooshvareLab/bert-base-parsbert-uncased\")\n",
    "model = AutoModel.from_pretrained(\"HooshvareLab/bert-base-parsbert-uncased\")"
   ]
  },
  {
   "cell_type": "code",
   "execution_count": 10,
   "id": "70d0c42f",
   "metadata": {
    "execution": {
     "iopub.execute_input": "2022-02-15T08:49:21.403306Z",
     "iopub.status.busy": "2022-02-15T08:49:21.402518Z",
     "iopub.status.idle": "2022-02-15T08:49:23.425119Z",
     "shell.execute_reply": "2022-02-15T08:49:23.424685Z",
     "shell.execute_reply.started": "2022-02-15T08:45:00.657576Z"
    },
    "id": "gPd13jhVsag4",
    "papermill": {
     "duration": 2.061984,
     "end_time": "2022-02-15T08:49:23.425241",
     "exception": false,
     "start_time": "2022-02-15T08:49:21.363257",
     "status": "completed"
    },
    "tags": []
   },
   "outputs": [
    {
     "data": {
      "text/plain": [
       "<AxesSubplot:>"
      ]
     },
     "execution_count": 10,
     "metadata": {},
     "output_type": "execute_result"
    },
    {
     "data": {
      "image/png": "[encoded data removed]",
      "text/plain": [
       "<Figure size 432x288 with 1 Axes>"
      ]
     },
     "metadata": {
      "needs_background": "light"
     },
     "output_type": "display_data"
    }
   ],
   "source": [
    "seq_len = [len(i.split()) for i in X['comments']]\n",
    "pd.Series(seq_len).hist(bins = 300)"
   ]
  },
  {
   "cell_type": "code",
   "execution_count": 11,
   "id": "63228f98",
   "metadata": {
    "execution": {
     "iopub.execute_input": "2022-02-15T08:49:23.474274Z",
     "iopub.status.busy": "2022-02-15T08:49:23.473785Z",
     "iopub.status.idle": "2022-02-15T08:49:23.477297Z",
     "shell.execute_reply": "2022-02-15T08:49:23.476876Z",
     "shell.execute_reply.started": "2022-02-15T08:45:03.429542Z"
    },
    "id": "LyS_seKVsag6",
    "papermill": {
     "duration": 0.029272,
     "end_time": "2022-02-15T08:49:23.477424",
     "exception": false,
     "start_time": "2022-02-15T08:49:23.448152",
     "status": "completed"
    },
    "tags": []
   },
   "outputs": [],
   "source": [
    "max_length = 64\n",
    "num_labels = 2"
   ]
  },
  {
   "cell_type": "code",
   "execution_count": 12,
   "id": "c09fec72",
   "metadata": {
    "execution": {
     "iopub.execute_input": "2022-02-15T08:49:23.562502Z",
     "iopub.status.busy": "2022-02-15T08:49:23.561801Z",
     "iopub.status.idle": "2022-02-15T08:49:23.585920Z",
     "shell.execute_reply": "2022-02-15T08:49:23.586319Z",
     "shell.execute_reply.started": "2022-02-15T08:45:03.434987Z"
    },
    "id": "Dw6MNv7tgA7w",
    "outputId": "f3ff8dd6-3460-47f0-f641-c83c3a77063e",
    "papermill": {
     "duration": 0.086228,
     "end_time": "2022-02-15T08:49:23.586483",
     "exception": false,
     "start_time": "2022-02-15T08:49:23.500255",
     "status": "completed"
    },
    "tags": []
   },
   "outputs": [],
   "source": [
    "X['len'] = seq_len\n",
    "X.loc[X['len']>max_length,'comments'] = X.loc[X['len']>max_length,'comments'].str[-max_length:]\n",
    "X = X['comments']\n"
   ]
  },
  {
   "cell_type": "code",
   "execution_count": 13,
   "id": "f0229f6d",
   "metadata": {
    "execution": {
     "iopub.execute_input": "2022-02-15T08:49:23.639693Z",
     "iopub.status.busy": "2022-02-15T08:49:23.638842Z",
     "iopub.status.idle": "2022-02-15T08:49:23.641438Z",
     "shell.execute_reply": "2022-02-15T08:49:23.641028Z",
     "shell.execute_reply.started": "2022-02-15T08:45:03.454326Z"
    },
    "id": "1j-oY8kEsag6",
    "papermill": {
     "duration": 0.031782,
     "end_time": "2022-02-15T08:49:23.641545",
     "exception": false,
     "start_time": "2022-02-15T08:49:23.609763",
     "status": "completed"
    },
    "tags": []
   },
   "outputs": [],
   "source": [
    "def make_model():\n",
    "    model = BertForSequenceClassification.from_pretrained(\"HooshvareLab/bert-base-parsbert-uncased\",num_labels=23,output_hidden_states = False)\n",
    "    model = model.to(device)\n",
    "    param_optimizer = list(model.named_parameters())\n",
    "    no_decay = ['bias', 'gamma', 'beta']\n",
    "    optimizer_grouped_parameters = [\n",
    "        {'params': [p for n, p in param_optimizer if not any(nd in n for nd in no_decay)],\n",
    "         'weight_decay_rate': 0.01},\n",
    "        {'params': [p for n, p in param_optimizer if any(nd in n for nd in no_decay)],\n",
    "         'weight_decay_rate': 0.0}\n",
    "        ]\n",
    "    optimizer = AdamW(optimizer_grouped_parameters,lr=2e-5,eps = 1e-8,correct_bias=True)\n",
    "    return model, optimizer"
   ]
  },
  {
   "cell_type": "code",
   "execution_count": 14,
   "id": "0ee8ec78",
   "metadata": {
    "execution": {
     "iopub.execute_input": "2022-02-15T08:49:23.693337Z",
     "iopub.status.busy": "2022-02-15T08:49:23.692544Z",
     "iopub.status.idle": "2022-02-15T08:49:23.694894Z",
     "shell.execute_reply": "2022-02-15T08:49:23.694472Z",
     "shell.execute_reply.started": "2022-02-15T08:45:03.464850Z"
    },
    "id": "d4GO2cNWsag6",
    "papermill": {
     "duration": 0.030546,
     "end_time": "2022-02-15T08:49:23.694993",
     "exception": false,
     "start_time": "2022-02-15T08:49:23.664447",
     "status": "completed"
    },
    "tags": []
   },
   "outputs": [],
   "source": [
    "def flat_evaluation(preds, preds_, labels):\n",
    "    preds = np.array(preds)\n",
    "    labels = np.array(labels)\n",
    "    pred_flat = np.argmax(preds, axis=1).flatten()\n",
    "    labels_flat = labels.flatten()\n",
    "    acc = np.sum(pred_flat == labels_flat) / len(labels_flat)\n",
    "    f1_micro = f1_score(labels_flat,pred_flat,average=\"micro\")\n",
    "    f1_macro = f1_score(labels_flat,pred_flat,average=\"macro\")\n",
    "\n",
    "    preds_ = [i[1] for i in preds_]\n",
    "    auc = roc_auc_score(labels_flat,preds_)\n",
    "\n",
    "    return acc, f1_micro ,f1_macro ,auc"
   ]
  },
  {
   "cell_type": "code",
   "execution_count": 15,
   "id": "cb998ad9",
   "metadata": {
    "execution": {
     "iopub.execute_input": "2022-02-15T08:49:23.769406Z",
     "iopub.status.busy": "2022-02-15T08:49:23.768543Z",
     "iopub.status.idle": "2022-02-15T08:49:23.775549Z",
     "shell.execute_reply": "2022-02-15T08:49:23.776623Z",
     "shell.execute_reply.started": "2022-02-15T08:45:03.474590Z"
    },
    "id": "2MmqRw4vsag7",
    "papermill": {
     "duration": 0.050779,
     "end_time": "2022-02-15T08:49:23.776822",
     "exception": false,
     "start_time": "2022-02-15T08:49:23.726043",
     "status": "completed"
    },
    "tags": []
   },
   "outputs": [],
   "source": [
    "def format_time(elapsed):\n",
    "    '''\n",
    "    Takes a time in seconds and returns a string hh:mm:ss\n",
    "    '''\n",
    "    # Round to the nearest second.\n",
    "    elapsed_rounded = int(round((elapsed)))\n",
    "    \n",
    "    # Format as hh:mm:ss\n",
    "    return str(datetime.timedelta(seconds=elapsed_rounded))"
   ]
  },
  {
   "cell_type": "code",
   "execution_count": null,
   "id": "3ae955f2",
   "metadata": {
    "execution": {
     "iopub.execute_input": "2022-02-15T08:49:23.865072Z",
     "iopub.status.busy": "2022-02-15T08:49:23.863729Z",
     "iopub.status.idle": "2022-02-15T20:33:57.408764Z",
     "shell.execute_reply": "2022-02-15T20:33:57.409257Z",
     "shell.execute_reply.started": "2022-02-15T08:45:03.488750Z"
    },
    "id": "vgyNy73-sag7",
    "outputId": "19596f70-5bc4-4160-d136-627f2dd565a5",
    "papermill": {
     "duration": 42273.5948,
     "end_time": "2022-02-15T20:33:57.410404",
     "exception": false,
     "start_time": "2022-02-15T08:49:23.815604",
     "status": "completed"
    },
    "scrolled": true,
    "tags": []
   },
   "outputs": [
    {
     "name": "stderr",
     "output_type": "stream",
     "text": [
      "Some weights of the model checkpoint at HooshvareLab/bert-base-parsbert-uncased were not used when initializing BertForSequenceClassification: ['cls.predictions.transform.LayerNorm.weight', 'cls.seq_relationship.bias', 'cls.predictions.decoder.bias', 'cls.predictions.transform.LayerNorm.bias', 'cls.seq_relationship.weight', 'cls.predictions.decoder.weight', 'cls.predictions.transform.dense.weight', 'cls.predictions.transform.dense.bias', 'cls.predictions.bias']\n",
      "- This IS expected if you are initializing BertForSequenceClassification from the checkpoint of a model trained on another task or with another architecture (e.g. initializing a BertForSequenceClassification model from a BertForPreTraining model).\n",
      "- This IS NOT expected if you are initializing BertForSequenceClassification from the checkpoint of a model that you expect to be exactly identical (initializing a BertForSequenceClassification model from a BertForSequenceClassification model).\n",
      "Some weights of BertForSequenceClassification were not initialized from the model checkpoint at HooshvareLab/bert-base-parsbert-uncased and are newly initialized: ['classifier.weight', 'classifier.bias']\n",
      "You should probably TRAIN this model on a down-stream task to be able to use it for predictions and inference.\n",
      "Truncation was not explicitly activated but `max_length` is provided a specific value, please use `truncation=True` to explicitly truncate examples to max length. Defaulting to 'longest_first' truncation strategy. If you encode pairs of sequences (GLUE-style) with the tokenizer you can select this strategy more precisely by providing a specific strategy to `truncation`.\n"
     ]
    }
   ],
   "source": [
    "all_LOGITS = []\n",
    "all_LOGITS_ = []\n",
    "all_LABELS = []\n",
    "\n",
    "batch_size = 64\n",
    "train_loss_set = []\n",
    "loss_values = []\n",
    "ACC,AUC =[],[]\n",
    "pred=[]\n",
    "valid=[]\n",
    "predprob_li_logits=[]\n",
    "predprob_li_logits_=[]\n",
    "predprob_li_labels=[]\n",
    "counter = -1\n",
    "epochs = 4\n",
    "\n",
    "del df\n",
    "gc.collect()\n",
    "# skf=KFold(n_splits=5,random_state=2)\n",
    "kf = StratifiedKFold(n_splits=5, shuffle=True, random_state=2)\n",
    "fold=0\n",
    "for i,(train_index, test_index) in enumerate(kf.split(X , Y)):\n",
    "\n",
    "    model, optimizer = make_model()\n",
    "    X_train, X_test = X.iloc[train_index].values, X.iloc[test_index].values\n",
    "    y_train, y_test = Y.iloc[train_index].values, Y.iloc[test_index].values\n",
    "    valid.append(test_index)\n",
    "    encodings_train = tokenizer.batch_encode_plus(X_train.tolist(),max_length=max_length,pad_to_max_length=True)\n",
    "    encodings_test = tokenizer.batch_encode_plus(X_test.tolist(),max_length=max_length,pad_to_max_length=True)\n",
    "                                     \n",
    "    input_ids = encodings_train['input_ids']# tokenized and encoded sentences\n",
    "    token_type_ids = encodings_train['token_type_ids'] # token type ids\n",
    "    attention_masks = encodings_train['attention_mask'] # attention masks\n",
    "\n",
    "    input_ids_ = encodings_test['input_ids']# tokenized and encoded sentences\n",
    "    token_type_ids_ = encodings_test['token_type_ids'] # token type ids\n",
    "    attention_masks_ = encodings_test['attention_mask']\n",
    "\n",
    "    train_inputs = torch.tensor(input_ids)\n",
    "    train_labels = torch.tensor(y_train)\n",
    "    train_masks = torch.tensor(attention_masks)\n",
    "    train_token_types = torch.tensor(token_type_ids)\n",
    "\n",
    "    test_inputs = torch.tensor(input_ids_)\n",
    "    test_labels = torch.tensor(y_test)\n",
    "    test_masks = torch.tensor(attention_masks_)\n",
    "    test_token_types = torch.tensor(token_type_ids_)\n",
    "\n",
    "\n",
    "    train_data = TensorDataset(train_inputs, train_masks, train_labels, train_token_types)\n",
    "    train_sampler = RandomSampler(train_data)\n",
    "    train_dataloader = DataLoader(train_data, sampler=train_sampler, batch_size=batch_size)\n",
    "\n",
    "    validation_data = TensorDataset(test_inputs, test_masks, test_labels, test_token_types)\n",
    "    validation_sampler = SequentialSampler(validation_data)\n",
    "    validation_dataloader = DataLoader(validation_data, sampler=validation_sampler, batch_size=batch_size)\n",
    "\n",
    "    total_steps = len(train_dataloader) * epochs\n",
    "    scheduler = get_linear_schedule_with_warmup(optimizer, \n",
    "                                            num_warmup_steps = 0, # Default value in run_glue.py\n",
    "                                            num_training_steps = total_steps)\n",
    "\n",
    "    for epoch_i in range(0, epochs):\n",
    "\n",
    "        # ========================================\n",
    "        #               Training\n",
    "        # ========================================\n",
    "\n",
    "        # Perform one full pass over the training set.\n",
    "\n",
    "        print(\"\")\n",
    "        print('======== Epoch {:} / {:} ========'.format(epoch_i + 1, epochs))\n",
    "        print('Training...')\n",
    "\n",
    "        # Measure how long the training epoch takes.\n",
    "        t0 = time.time()\n",
    "\n",
    "        # Reset the total loss for this epoch.\n",
    "        total_loss = 0\n",
    "        model.train()\n",
    "        \n",
    "\n",
    "        # For each batch of training data...\n",
    "        for step, batch in enumerate(train_dataloader):\n",
    "\n",
    "            # Progress update every 40 batches.\n",
    "            if step % 400 == 1 and not step == 0:\n",
    "                # Calculate elapsed time in minutes.\n",
    "                elapsed = format_time(time.time() - t0)\n",
    "\n",
    "                # Report progress.\n",
    "                print('  Batch {:>5,}  of  {:>5,}.    Elapsed: {:}.'.format(step, len(train_dataloader), elapsed))\n",
    "\n",
    "            b_input_ids = batch[0].to(device)\n",
    "            b_input_mask = batch[1].to(device)\n",
    "            b_labels = batch[2].to(device)\n",
    "            model.zero_grad()        \n",
    "            outputs = model(b_input_ids, \n",
    "                        token_type_ids=None, \n",
    "                        attention_mask=b_input_mask, \n",
    "                        labels=b_labels)\n",
    "\n",
    "            loss = outputs[0]\n",
    "            total_loss += loss.item()\n",
    "            loss.backward()\n",
    "            torch.nn.utils.clip_grad_norm_(model.parameters(), 1.0)\n",
    "            optimizer.step()\n",
    "\n",
    "            # Update the learning rate.\n",
    "            scheduler.step()\n",
    "\n",
    "        # Calculate the average loss over the training data.\n",
    "        avg_train_loss = total_loss / len(train_dataloader)            \n",
    "\n",
    "        # Store the loss value for plotting the learning curve.\n",
    "        loss_values.append(avg_train_loss)\n",
    "\n",
    "        print(\"\")\n",
    "        print(\"  Average training loss: {0:.5f}\".format(avg_train_loss))\n",
    "        print(\"  Training epcoh took: {:}\".format(format_time(time.time() - t0)))\n",
    "\n",
    "        # ========================================\n",
    "        #               Validation\n",
    "        # ========================================\n",
    "        # After the completion of each training epoch, measure our performance on\n",
    "        # our validation set.\n",
    "\n",
    "        print(\"\")\n",
    "        print(\"Running Validation...\")\n",
    "\n",
    "        t0 = time.time()\n",
    "        model.eval()\n",
    "\n",
    "        # Tracking variables \n",
    "        eval_loss, eval_accuracy,eval_f1,eval_auc = 0, 0,0,0\n",
    "        nb_eval_steps, nb_f1_eval_steps ,nb_eval_examples, nb_auc_eval_steps = 0, 0 ,0, 0\n",
    "\n",
    "        LOGITS, LOGITS_, LABELS = [], [], []\n",
    "        # Evaluate data for one epoch\n",
    "        for batch in validation_dataloader:\n",
    "\n",
    "            # Add batch to GPU\n",
    "            batch = tuple(t.to(device) for t in batch)\n",
    "            b_input_ids, b_input_mask, b_labels ,b_token_types= batch\n",
    "            with torch.no_grad():        \n",
    "                outputs = model(b_input_ids, \n",
    "                                token_type_ids=None, \n",
    "                                attention_mask=b_input_mask)\n",
    "\n",
    "            logits = outputs[0]\n",
    "            logits_ = softmax(logits)\n",
    "#             print(logits)\n",
    "            # Move logits and labels to CPU\n",
    "            LOGITS += list(logits.detach().cpu().numpy().tolist())\n",
    "            LOGITS_ += list(logits_.detach().cpu().numpy())\n",
    "            LABELS += list(b_labels.to('cpu').numpy().tolist())\n",
    "        predprob_li_logits.append(LOGITS)\n",
    "        predprob_li_logits_.append(LOGITS_)\n",
    "        predprob_li_labels.append(LABELS)\n",
    "          \n",
    "        acc, f1_micro ,f1_macro ,auc = flat_evaluation(LOGITS, LOGITS_, LABELS)\n",
    "        print(\"  Accuracy: {0:.5f}\".format(acc))\n",
    "        print(\"  f1: {0:.5f}\".format(f1_micro))\n",
    "        print(\"  AUC: {0:.5f}\".format(auc))\n",
    "        print(\"  Validation took: {:}\".format(format_time(time.time() - t0)))\n",
    "        torch.save(model.state_dict(),'./model_{}_{}'.format(i,epoch_i))\n",
    "\n",
    "    all_LOGITS += LOGITS\n",
    "    all_LOGITS_ += LOGITS_\n",
    "    all_LABELS += LABELS\n",
    "    print(\"\")\n",
    "    print(\"Training complete!\")    \n",
    "    \n",
    "    del X_train, y_train\n",
    "    gc.collect()\n",
    "    "
   ]
  },
  {
   "cell_type": "code",
   "execution_count": null,
   "id": "7cdb6b5a",
   "metadata": {},
   "outputs": [],
   "source": []
  }
 ],
 "metadata": {
  "kernelspec": {
   "display_name": "Python 3 (ipykernel)",
   "language": "python",
   "name": "python3"
  },
  "language_info": {
   "codemirror_mode": {
    "name": "ipython",
    "version": 3
   },
   "file_extension": ".py",
   "mimetype": "text/x-python",
   "name": "python",
   "nbconvert_exporter": "python",
   "pygments_lexer": "ipython3",
   "version": "3.9.7"
  },
  "papermill": {
   "default_parameters": {},
   "duration": 42341.849528,
   "end_time": "2022-02-15T20:34:03.654803",
   "environment_variables": {},
   "exception": null,
   "input_path": "__notebook__.ipynb",
   "output_path": "__notebook__.ipynb",
   "parameters": {},
   "start_time": "2022-02-15T08:48:21.805275",
   "version": "2.3.3"
  },
  "widgets": {
   "application/vnd.jupyter.widget-state+json": {
    "state": {
     "05a36f00b1114dd3b30e4e2b1274b8f7": {
      "model_module": "@jupyter-widgets/base",
      "model_module_version": "1.2.0",
      "model_name": "LayoutModel",
      "state": {
       "_model_module": "@jupyter-widgets/base",
       "_model_module_version": "1.2.0",
       "_model_name": "LayoutModel",
       "_view_count": null,
       "_view_module": "@jupyter-widgets/base",
       "_view_module_version": "1.2.0",
       "_view_name": "LayoutView",
       "align_content": null,
       "align_items": null,
       "align_self": null,
       "border": null,
       "bottom": null,
       "display": null,
       "flex": null,
       "flex_flow": null,
       "grid_area": null,
       "grid_auto_columns": null,
       "grid_auto_flow": null,
       "grid_auto_rows": null,
       "grid_column": null,
       "grid_gap": null,
       "grid_row": null,
       "grid_template_areas": null,
       "grid_template_columns": null,
       "grid_template_rows": null,
       "height": null,
       "justify_content": null,
       "justify_items": null,
       "left": null,
       "margin": null,
       "max_height": null,
       "max_width": null,
       "min_height": null,
       "min_width": null,
       "object_fit": null,
       "object_position": null,
       "order": null,
       "overflow": null,
       "overflow_x": null,
       "overflow_y": null,
       "padding": null,
       "right": null,
       "top": null,
       "visibility": null,
       "width": null
      }
     },
     "0952deb3bae5408bab6e3450b5cb1c46": {
      "model_module": "@jupyter-widgets/controls",
      "model_module_version": "1.5.0",
      "model_name": "DescriptionStyleModel",
      "state": {
       "_model_module": "@jupyter-widgets/controls",
       "_model_module_version": "1.5.0",
       "_model_name": "DescriptionStyleModel",
       "_view_count": null,
       "_view_module": "@jupyter-widgets/base",
       "_view_module_version": "1.2.0",
       "_view_name": "StyleView",
       "description_width": ""
      }
     },
     "11f01b978861466aa04eb8172ae8a5e0": {
      "model_module": "@jupyter-widgets/controls",
      "model_module_version": "1.5.0",
      "model_name": "ProgressStyleModel",
      "state": {
       "_model_module": "@jupyter-widgets/controls",
       "_model_module_version": "1.5.0",
       "_model_name": "ProgressStyleModel",
       "_view_count": null,
       "_view_module": "@jupyter-widgets/base",
       "_view_module_version": "1.2.0",
       "_view_name": "StyleView",
       "bar_color": null,
       "description_width": ""
      }
     },
     "128a21b8be07402d8b6b63613afcd32d": {
      "model_module": "@jupyter-widgets/base",
      "model_module_version": "1.2.0",
      "model_name": "LayoutModel",
      "state": {
       "_model_module": "@jupyter-widgets/base",
       "_model_module_version": "1.2.0",
       "_model_name": "LayoutModel",
       "_view_count": null,
       "_view_module": "@jupyter-widgets/base",
       "_view_module_version": "1.2.0",
       "_view_name": "LayoutView",
       "align_content": null,
       "align_items": null,
       "align_self": null,
       "border": null,
       "bottom": null,
       "display": null,
       "flex": null,
       "flex_flow": null,
       "grid_area": null,
       "grid_auto_columns": null,
       "grid_auto_flow": null,
       "grid_auto_rows": null,
       "grid_column": null,
       "grid_gap": null,
       "grid_row": null,
       "grid_template_areas": null,
       "grid_template_columns": null,
       "grid_template_rows": null,
       "height": null,
       "justify_content": null,
       "justify_items": null,
       "left": null,
       "margin": null,
       "max_height": null,
       "max_width": null,
       "min_height": null,
       "min_width": null,
       "object_fit": null,
       "object_position": null,
       "order": null,
       "overflow": null,
       "overflow_x": null,
       "overflow_y": null,
       "padding": null,
       "right": null,
       "top": null,
       "visibility": null,
       "width": null
      }
     },
     "1da66234069640459a8724acca4ccdea": {
      "model_module": "@jupyter-widgets/controls",
      "model_module_version": "1.5.0",
      "model_name": "FloatProgressModel",
      "state": {
       "_dom_classes": [],
       "_model_module": "@jupyter-widgets/controls",
       "_model_module_version": "1.5.0",
       "_model_name": "FloatProgressModel",
       "_view_count": null,
       "_view_module": "@jupyter-widgets/controls",
       "_view_module_version": "1.5.0",
       "_view_name": "ProgressView",
       "bar_style": "success",
       "description": "",
       "description_tooltip": null,
       "layout": "IPY_MODEL_5586d75f74694ddc857847ee462bd6ab",
       "max": 1215509,
       "min": 0,
       "orientation": "horizontal",
       "style": "IPY_MODEL_6c3ebb9dd7544c7287e285dfb0cde344",
       "value": 1215509
      }
     },
     "217247b0e257484a9145804d1528a986": {
      "model_module": "@jupyter-widgets/controls",
      "model_module_version": "1.5.0",
      "model_name": "ProgressStyleModel",
      "state": {
       "_model_module": "@jupyter-widgets/controls",
       "_model_module_version": "1.5.0",
       "_model_name": "ProgressStyleModel",
       "_view_count": null,
       "_view_module": "@jupyter-widgets/base",
       "_view_module_version": "1.2.0",
       "_view_name": "StyleView",
       "bar_color": null,
       "description_width": ""
      }
     },
     "21e4903a22924b6288bb55bad9a79d68": {
      "model_module": "@jupyter-widgets/controls",
      "model_module_version": "1.5.0",
      "model_name": "HBoxModel",
      "state": {
       "_dom_classes": [],
       "_model_module": "@jupyter-widgets/controls",
       "_model_module_version": "1.5.0",
       "_model_name": "HBoxModel",
       "_view_count": null,
       "_view_module": "@jupyter-widgets/controls",
       "_view_module_version": "1.5.0",
       "_view_name": "HBoxView",
       "box_style": "",
       "children": [
        "IPY_MODEL_ddd391d93dca4b3bb7c7b552b8a86bbc",
        "IPY_MODEL_7936a083e11b4821b10e3c11eeb7f14a",
        "IPY_MODEL_a2f9cd8aab8047e08646655f3ee2a428"
       ],
       "layout": "IPY_MODEL_ad13730054de4025823179eeb9558683"
      }
     },
     "280a9e8a855c47a1bbd7b6f51688190a": {
      "model_module": "@jupyter-widgets/controls",
      "model_module_version": "1.5.0",
      "model_name": "FloatProgressModel",
      "state": {
       "_dom_classes": [],
       "_model_module": "@jupyter-widgets/controls",
       "_model_module_version": "1.5.0",
       "_model_name": "FloatProgressModel",
       "_view_count": null,
       "_view_module": "@jupyter-widgets/controls",
       "_view_module_version": "1.5.0",
       "_view_name": "ProgressView",
       "bar_style": "success",
       "description": "",
       "description_tooltip": null,
       "layout": "IPY_MODEL_ada590ab889048a3be9a336c89f496a6",
       "max": 654186735,
       "min": 0,
       "orientation": "horizontal",
       "style": "IPY_MODEL_217247b0e257484a9145804d1528a986",
       "value": 654186735
      }
     },
     "2a5bf185186e41dc8872a0250fd1d0bd": {
      "model_module": "@jupyter-widgets/base",
      "model_module_version": "1.2.0",
      "model_name": "LayoutModel",
      "state": {
       "_model_module": "@jupyter-widgets/base",
       "_model_module_version": "1.2.0",
       "_model_name": "LayoutModel",
       "_view_count": null,
       "_view_module": "@jupyter-widgets/base",
       "_view_module_version": "1.2.0",
       "_view_name": "LayoutView",
       "align_content": null,
       "align_items": null,
       "align_self": null,
       "border": null,
       "bottom": null,
       "display": null,
       "flex": null,
       "flex_flow": null,
       "grid_area": null,
       "grid_auto_columns": null,
       "grid_auto_flow": null,
       "grid_auto_rows": null,
       "grid_column": null,
       "grid_gap": null,
       "grid_row": null,
       "grid_template_areas": null,
       "grid_template_columns": null,
       "grid_template_rows": null,
       "height": null,
       "justify_content": null,
       "justify_items": null,
       "left": null,
       "margin": null,
       "max_height": null,
       "max_width": null,
       "min_height": null,
       "min_width": null,
       "object_fit": null,
       "object_position": null,
       "order": null,
       "overflow": null,
       "overflow_x": null,
       "overflow_y": null,
       "padding": null,
       "right": null,
       "top": null,
       "visibility": null,
       "width": null
      }
     },
     "31054ae78379429886fd9e40033ad610": {
      "model_module": "@jupyter-widgets/controls",
      "model_module_version": "1.5.0",
      "model_name": "HBoxModel",
      "state": {
       "_dom_classes": [],
       "_model_module": "@jupyter-widgets/controls",
       "_model_module_version": "1.5.0",
       "_model_name": "HBoxModel",
       "_view_count": null,
       "_view_module": "@jupyter-widgets/controls",
       "_view_module_version": "1.5.0",
       "_view_name": "HBoxView",
       "box_style": "",
       "children": [
        "IPY_MODEL_56117ee962ae4457b288cff1cc1489d6",
        "IPY_MODEL_1da66234069640459a8724acca4ccdea",
        "IPY_MODEL_94af5af82b6344e086222a8fdd424f05"
       ],
       "layout": "IPY_MODEL_4b2cc9a5c3424a75874d4f7c8f5d5320"
      }
     },
     "42c47ae7da6447fa98343dd7d8ded94a": {
      "model_module": "@jupyter-widgets/base",
      "model_module_version": "1.2.0",
      "model_name": "LayoutModel",
      "state": {
       "_model_module": "@jupyter-widgets/base",
       "_model_module_version": "1.2.0",
       "_model_name": "LayoutModel",
       "_view_count": null,
       "_view_module": "@jupyter-widgets/base",
       "_view_module_version": "1.2.0",
       "_view_name": "LayoutView",
       "align_content": null,
       "align_items": null,
       "align_self": null,
       "border": null,
       "bottom": null,
       "display": null,
       "flex": null,
       "flex_flow": null,
       "grid_area": null,
       "grid_auto_columns": null,
       "grid_auto_flow": null,
       "grid_auto_rows": null,
       "grid_column": null,
       "grid_gap": null,
       "grid_row": null,
       "grid_template_areas": null,
       "grid_template_columns": null,
       "grid_template_rows": null,
       "height": null,
       "justify_content": null,
       "justify_items": null,
       "left": null,
       "margin": null,
       "max_height": null,
       "max_width": null,
       "min_height": null,
       "min_width": null,
       "object_fit": null,
       "object_position": null,
       "order": null,
       "overflow": null,
       "overflow_x": null,
       "overflow_y": null,
       "padding": null,
       "right": null,
       "top": null,
       "visibility": null,
       "width": null
      }
     },
     "4847066104764f4b978801ce8b710730": {
      "model_module": "@jupyter-widgets/base",
      "model_module_version": "1.2.0",
      "model_name": "LayoutModel",
      "state": {
       "_model_module": "@jupyter-widgets/base",
       "_model_module_version": "1.2.0",
       "_model_name": "LayoutModel",
       "_view_count": null,
       "_view_module": "@jupyter-widgets/base",
       "_view_module_version": "1.2.0",
       "_view_name": "LayoutView",
       "align_content": null,
       "align_items": null,
       "align_self": null,
       "border": null,
       "bottom": null,
       "display": null,
       "flex": null,
       "flex_flow": null,
       "grid_area": null,
       "grid_auto_columns": null,
       "grid_auto_flow": null,
       "grid_auto_rows": null,
       "grid_column": null,
       "grid_gap": null,
       "grid_row": null,
       "grid_template_areas": null,
       "grid_template_columns": null,
       "grid_template_rows": null,
       "height": null,
       "justify_content": null,
       "justify_items": null,
       "left": null,
       "margin": null,
       "max_height": null,
       "max_width": null,
       "min_height": null,
       "min_width": null,
       "object_fit": null,
       "object_position": null,
       "order": null,
       "overflow": null,
       "overflow_x": null,
       "overflow_y": null,
       "padding": null,
       "right": null,
       "top": null,
       "visibility": null,
       "width": null
      }
     },
     "489b1904103d496097ddac169c9c81d0": {
      "model_module": "@jupyter-widgets/base",
      "model_module_version": "1.2.0",
      "model_name": "LayoutModel",
      "state": {
       "_model_module": "@jupyter-widgets/base",
       "_model_module_version": "1.2.0",
       "_model_name": "LayoutModel",
       "_view_count": null,
       "_view_module": "@jupyter-widgets/base",
       "_view_module_version": "1.2.0",
       "_view_name": "LayoutView",
       "align_content": null,
       "align_items": null,
       "align_self": null,
       "border": null,
       "bottom": null,
       "display": null,
       "flex": null,
       "flex_flow": null,
       "grid_area": null,
       "grid_auto_columns": null,
       "grid_auto_flow": null,
       "grid_auto_rows": null,
       "grid_column": null,
       "grid_gap": null,
       "grid_row": null,
       "grid_template_areas": null,
       "grid_template_columns": null,
       "grid_template_rows": null,
       "height": null,
       "justify_content": null,
       "justify_items": null,
       "left": null,
       "margin": null,
       "max_height": null,
       "max_width": null,
       "min_height": null,
       "min_width": null,
       "object_fit": null,
       "object_position": null,
       "order": null,
       "overflow": null,
       "overflow_x": null,
       "overflow_y": null,
       "padding": null,
       "right": null,
       "top": null,
       "visibility": null,
       "width": null
      }
     },
     "4b2cc9a5c3424a75874d4f7c8f5d5320": {
      "model_module": "@jupyter-widgets/base",
      "model_module_version": "1.2.0",
      "model_name": "LayoutModel",
      "state": {
       "_model_module": "@jupyter-widgets/base",
       "_model_module_version": "1.2.0",
       "_model_name": "LayoutModel",
       "_view_count": null,
       "_view_module": "@jupyter-widgets/base",
       "_view_module_version": "1.2.0",
       "_view_name": "LayoutView",
       "align_content": null,
       "align_items": null,
       "align_self": null,
       "border": null,
       "bottom": null,
       "display": null,
       "flex": null,
       "flex_flow": null,
       "grid_area": null,
       "grid_auto_columns": null,
       "grid_auto_flow": null,
       "grid_auto_rows": null,
       "grid_column": null,
       "grid_gap": null,
       "grid_row": null,
       "grid_template_areas": null,
       "grid_template_columns": null,
       "grid_template_rows": null,
       "height": null,
       "justify_content": null,
       "justify_items": null,
       "left": null,
       "margin": null,
       "max_height": null,
       "max_width": null,
       "min_height": null,
       "min_width": null,
       "object_fit": null,
       "object_position": null,
       "order": null,
       "overflow": null,
       "overflow_x": null,
       "overflow_y": null,
       "padding": null,
       "right": null,
       "top": null,
       "visibility": null,
       "width": null
      }
     },
     "5586d75f74694ddc857847ee462bd6ab": {
      "model_module": "@jupyter-widgets/base",
      "model_module_version": "1.2.0",
      "model_name": "LayoutModel",
      "state": {
       "_model_module": "@jupyter-widgets/base",
       "_model_module_version": "1.2.0",
       "_model_name": "LayoutModel",
       "_view_count": null,
       "_view_module": "@jupyter-widgets/base",
       "_view_module_version": "1.2.0",
       "_view_name": "LayoutView",
       "align_content": null,
       "align_items": null,
       "align_self": null,
       "border": null,
       "bottom": null,
       "display": null,
       "flex": null,
       "flex_flow": null,
       "grid_area": null,
       "grid_auto_columns": null,
       "grid_auto_flow": null,
       "grid_auto_rows": null,
       "grid_column": null,
       "grid_gap": null,
       "grid_row": null,
       "grid_template_areas": null,
       "grid_template_columns": null,
       "grid_template_rows": null,
       "height": null,
       "justify_content": null,
       "justify_items": null,
       "left": null,
       "margin": null,
       "max_height": null,
       "max_width": null,
       "min_height": null,
       "min_width": null,
       "object_fit": null,
       "object_position": null,
       "order": null,
       "overflow": null,
       "overflow_x": null,
       "overflow_y": null,
       "padding": null,
       "right": null,
       "top": null,
       "visibility": null,
       "width": null
      }
     },
     "56117ee962ae4457b288cff1cc1489d6": {
      "model_module": "@jupyter-widgets/controls",
      "model_module_version": "1.5.0",
      "model_name": "HTMLModel",
      "state": {
       "_dom_classes": [],
       "_model_module": "@jupyter-widgets/controls",
       "_model_module_version": "1.5.0",
       "_model_name": "HTMLModel",
       "_view_count": null,
       "_view_module": "@jupyter-widgets/controls",
       "_view_module_version": "1.5.0",
       "_view_name": "HTMLView",
       "description": "",
       "description_tooltip": null,
       "layout": "IPY_MODEL_05a36f00b1114dd3b30e4e2b1274b8f7",
       "placeholder": "​",
       "style": "IPY_MODEL_e7b182501fc040eba793ca927cfd5402",
       "value": "Downloading: 100%"
      }
     },
     "581372bad9d14fbea1c05b034bb5cd83": {
      "model_module": "@jupyter-widgets/controls",
      "model_module_version": "1.5.0",
      "model_name": "DescriptionStyleModel",
      "state": {
       "_model_module": "@jupyter-widgets/controls",
       "_model_module_version": "1.5.0",
       "_model_name": "DescriptionStyleModel",
       "_view_count": null,
       "_view_module": "@jupyter-widgets/base",
       "_view_module_version": "1.2.0",
       "_view_name": "StyleView",
       "description_width": ""
      }
     },
     "6c3ebb9dd7544c7287e285dfb0cde344": {
      "model_module": "@jupyter-widgets/controls",
      "model_module_version": "1.5.0",
      "model_name": "ProgressStyleModel",
      "state": {
       "_model_module": "@jupyter-widgets/controls",
       "_model_module_version": "1.5.0",
       "_model_name": "ProgressStyleModel",
       "_view_count": null,
       "_view_module": "@jupyter-widgets/base",
       "_view_module_version": "1.2.0",
       "_view_name": "StyleView",
       "bar_color": null,
       "description_width": ""
      }
     },
     "7936a083e11b4821b10e3c11eeb7f14a": {
      "model_module": "@jupyter-widgets/controls",
      "model_module_version": "1.5.0",
      "model_name": "FloatProgressModel",
      "state": {
       "_dom_classes": [],
       "_model_module": "@jupyter-widgets/controls",
       "_model_module_version": "1.5.0",
       "_model_name": "FloatProgressModel",
       "_view_count": null,
       "_view_module": "@jupyter-widgets/controls",
       "_view_module_version": "1.5.0",
       "_view_name": "ProgressView",
       "bar_style": "success",
       "description": "",
       "description_tooltip": null,
       "layout": "IPY_MODEL_c7c875e07419428db73274ff8732c73a",
       "max": 434,
       "min": 0,
       "orientation": "horizontal",
       "style": "IPY_MODEL_11f01b978861466aa04eb8172ae8a5e0",
       "value": 434
      }
     },
     "7c5f454a13e7483e8b6c7d7d59b79757": {
      "model_module": "@jupyter-widgets/controls",
      "model_module_version": "1.5.0",
      "model_name": "HBoxModel",
      "state": {
       "_dom_classes": [],
       "_model_module": "@jupyter-widgets/controls",
       "_model_module_version": "1.5.0",
       "_model_name": "HBoxModel",
       "_view_count": null,
       "_view_module": "@jupyter-widgets/controls",
       "_view_module_version": "1.5.0",
       "_view_name": "HBoxView",
       "box_style": "",
       "children": [
        "IPY_MODEL_e03ada3ee1d54e8c9b9e0fa521a21528",
        "IPY_MODEL_280a9e8a855c47a1bbd7b6f51688190a",
        "IPY_MODEL_ea40730f922b4df0a79a47d3102f3529"
       ],
       "layout": "IPY_MODEL_4847066104764f4b978801ce8b710730"
      }
     },
     "8a575a2251884204ba1360ef52961d62": {
      "model_module": "@jupyter-widgets/controls",
      "model_module_version": "1.5.0",
      "model_name": "DescriptionStyleModel",
      "state": {
       "_model_module": "@jupyter-widgets/controls",
       "_model_module_version": "1.5.0",
       "_model_name": "DescriptionStyleModel",
       "_view_count": null,
       "_view_module": "@jupyter-widgets/base",
       "_view_module_version": "1.2.0",
       "_view_name": "StyleView",
       "description_width": ""
      }
     },
     "94af5af82b6344e086222a8fdd424f05": {
      "model_module": "@jupyter-widgets/controls",
      "model_module_version": "1.5.0",
      "model_name": "HTMLModel",
      "state": {
       "_dom_classes": [],
       "_model_module": "@jupyter-widgets/controls",
       "_model_module_version": "1.5.0",
       "_model_name": "HTMLModel",
       "_view_count": null,
       "_view_module": "@jupyter-widgets/controls",
       "_view_module_version": "1.5.0",
       "_view_name": "HTMLView",
       "description": "",
       "description_tooltip": null,
       "layout": "IPY_MODEL_d0127e9da2204153bd272fb95bd81290",
       "placeholder": "​",
       "style": "IPY_MODEL_581372bad9d14fbea1c05b034bb5cd83",
       "value": " 1.16M/1.16M [00:00&lt;00:00, 1.87MB/s]"
      }
     },
     "a2f9cd8aab8047e08646655f3ee2a428": {
      "model_module": "@jupyter-widgets/controls",
      "model_module_version": "1.5.0",
      "model_name": "HTMLModel",
      "state": {
       "_dom_classes": [],
       "_model_module": "@jupyter-widgets/controls",
       "_model_module_version": "1.5.0",
       "_model_name": "HTMLModel",
       "_view_count": null,
       "_view_module": "@jupyter-widgets/controls",
       "_view_module_version": "1.5.0",
       "_view_name": "HTMLView",
       "description": "",
       "description_tooltip": null,
       "layout": "IPY_MODEL_128a21b8be07402d8b6b63613afcd32d",
       "placeholder": "​",
       "style": "IPY_MODEL_8a575a2251884204ba1360ef52961d62",
       "value": " 434/434 [00:00&lt;00:00, 16.5kB/s]"
      }
     },
     "ad13730054de4025823179eeb9558683": {
      "model_module": "@jupyter-widgets/base",
      "model_module_version": "1.2.0",
      "model_name": "LayoutModel",
      "state": {
       "_model_module": "@jupyter-widgets/base",
       "_model_module_version": "1.2.0",
       "_model_name": "LayoutModel",
       "_view_count": null,
       "_view_module": "@jupyter-widgets/base",
       "_view_module_version": "1.2.0",
       "_view_name": "LayoutView",
       "align_content": null,
       "align_items": null,
       "align_self": null,
       "border": null,
       "bottom": null,
       "display": null,
       "flex": null,
       "flex_flow": null,
       "grid_area": null,
       "grid_auto_columns": null,
       "grid_auto_flow": null,
       "grid_auto_rows": null,
       "grid_column": null,
       "grid_gap": null,
       "grid_row": null,
       "grid_template_areas": null,
       "grid_template_columns": null,
       "grid_template_rows": null,
       "height": null,
       "justify_content": null,
       "justify_items": null,
       "left": null,
       "margin": null,
       "max_height": null,
       "max_width": null,
       "min_height": null,
       "min_width": null,
       "object_fit": null,
       "object_position": null,
       "order": null,
       "overflow": null,
       "overflow_x": null,
       "overflow_y": null,
       "padding": null,
       "right": null,
       "top": null,
       "visibility": null,
       "width": null
      }
     },
     "ada590ab889048a3be9a336c89f496a6": {
      "model_module": "@jupyter-widgets/base",
      "model_module_version": "1.2.0",
      "model_name": "LayoutModel",
      "state": {
       "_model_module": "@jupyter-widgets/base",
       "_model_module_version": "1.2.0",
       "_model_name": "LayoutModel",
       "_view_count": null,
       "_view_module": "@jupyter-widgets/base",
       "_view_module_version": "1.2.0",
       "_view_name": "LayoutView",
       "align_content": null,
       "align_items": null,
       "align_self": null,
       "border": null,
       "bottom": null,
       "display": null,
       "flex": null,
       "flex_flow": null,
       "grid_area": null,
       "grid_auto_columns": null,
       "grid_auto_flow": null,
       "grid_auto_rows": null,
       "grid_column": null,
       "grid_gap": null,
       "grid_row": null,
       "grid_template_areas": null,
       "grid_template_columns": null,
       "grid_template_rows": null,
       "height": null,
       "justify_content": null,
       "justify_items": null,
       "left": null,
       "margin": null,
       "max_height": null,
       "max_width": null,
       "min_height": null,
       "min_width": null,
       "object_fit": null,
       "object_position": null,
       "order": null,
       "overflow": null,
       "overflow_x": null,
       "overflow_y": null,
       "padding": null,
       "right": null,
       "top": null,
       "visibility": null,
       "width": null
      }
     },
     "c7c875e07419428db73274ff8732c73a": {
      "model_module": "@jupyter-widgets/base",
      "model_module_version": "1.2.0",
      "model_name": "LayoutModel",
      "state": {
       "_model_module": "@jupyter-widgets/base",
       "_model_module_version": "1.2.0",
       "_model_name": "LayoutModel",
       "_view_count": null,
       "_view_module": "@jupyter-widgets/base",
       "_view_module_version": "1.2.0",
       "_view_name": "LayoutView",
       "align_content": null,
       "align_items": null,
       "align_self": null,
       "border": null,
       "bottom": null,
       "display": null,
       "flex": null,
       "flex_flow": null,
       "grid_area": null,
       "grid_auto_columns": null,
       "grid_auto_flow": null,
       "grid_auto_rows": null,
       "grid_column": null,
       "grid_gap": null,
       "grid_row": null,
       "grid_template_areas": null,
       "grid_template_columns": null,
       "grid_template_rows": null,
       "height": null,
       "justify_content": null,
       "justify_items": null,
       "left": null,
       "margin": null,
       "max_height": null,
       "max_width": null,
       "min_height": null,
       "min_width": null,
       "object_fit": null,
       "object_position": null,
       "order": null,
       "overflow": null,
       "overflow_x": null,
       "overflow_y": null,
       "padding": null,
       "right": null,
       "top": null,
       "visibility": null,
       "width": null
      }
     },
     "d0127e9da2204153bd272fb95bd81290": {
      "model_module": "@jupyter-widgets/base",
      "model_module_version": "1.2.0",
      "model_name": "LayoutModel",
      "state": {
       "_model_module": "@jupyter-widgets/base",
       "_model_module_version": "1.2.0",
       "_model_name": "LayoutModel",
       "_view_count": null,
       "_view_module": "@jupyter-widgets/base",
       "_view_module_version": "1.2.0",
       "_view_name": "LayoutView",
       "align_content": null,
       "align_items": null,
       "align_self": null,
       "border": null,
       "bottom": null,
       "display": null,
       "flex": null,
       "flex_flow": null,
       "grid_area": null,
       "grid_auto_columns": null,
       "grid_auto_flow": null,
       "grid_auto_rows": null,
       "grid_column": null,
       "grid_gap": null,
       "grid_row": null,
       "grid_template_areas": null,
       "grid_template_columns": null,
       "grid_template_rows": null,
       "height": null,
       "justify_content": null,
       "justify_items": null,
       "left": null,
       "margin": null,
       "max_height": null,
       "max_width": null,
       "min_height": null,
       "min_width": null,
       "object_fit": null,
       "object_position": null,
       "order": null,
       "overflow": null,
       "overflow_x": null,
       "overflow_y": null,
       "padding": null,
       "right": null,
       "top": null,
       "visibility": null,
       "width": null
      }
     },
     "ddd391d93dca4b3bb7c7b552b8a86bbc": {
      "model_module": "@jupyter-widgets/controls",
      "model_module_version": "1.5.0",
      "model_name": "HTMLModel",
      "state": {
       "_dom_classes": [],
       "_model_module": "@jupyter-widgets/controls",
       "_model_module_version": "1.5.0",
       "_model_name": "HTMLModel",
       "_view_count": null,
       "_view_module": "@jupyter-widgets/controls",
       "_view_module_version": "1.5.0",
       "_view_name": "HTMLView",
       "description": "",
       "description_tooltip": null,
       "layout": "IPY_MODEL_2a5bf185186e41dc8872a0250fd1d0bd",
       "placeholder": "​",
       "style": "IPY_MODEL_f5926e786ffd4e70bb59003073842503",
       "value": "Downloading: 100%"
      }
     },
     "e03ada3ee1d54e8c9b9e0fa521a21528": {
      "model_module": "@jupyter-widgets/controls",
      "model_module_version": "1.5.0",
      "model_name": "HTMLModel",
      "state": {
       "_dom_classes": [],
       "_model_module": "@jupyter-widgets/controls",
       "_model_module_version": "1.5.0",
       "_model_name": "HTMLModel",
       "_view_count": null,
       "_view_module": "@jupyter-widgets/controls",
       "_view_module_version": "1.5.0",
       "_view_name": "HTMLView",
       "description": "",
       "description_tooltip": null,
       "layout": "IPY_MODEL_489b1904103d496097ddac169c9c81d0",
       "placeholder": "​",
       "style": "IPY_MODEL_0952deb3bae5408bab6e3450b5cb1c46",
       "value": "Downloading: 100%"
      }
     },
     "e7b182501fc040eba793ca927cfd5402": {
      "model_module": "@jupyter-widgets/controls",
      "model_module_version": "1.5.0",
      "model_name": "DescriptionStyleModel",
      "state": {
       "_model_module": "@jupyter-widgets/controls",
       "_model_module_version": "1.5.0",
       "_model_name": "DescriptionStyleModel",
       "_view_count": null,
       "_view_module": "@jupyter-widgets/base",
       "_view_module_version": "1.2.0",
       "_view_name": "StyleView",
       "description_width": ""
      }
     },
     "ea40730f922b4df0a79a47d3102f3529": {
      "model_module": "@jupyter-widgets/controls",
      "model_module_version": "1.5.0",
      "model_name": "HTMLModel",
      "state": {
       "_dom_classes": [],
       "_model_module": "@jupyter-widgets/controls",
       "_model_module_version": "1.5.0",
       "_model_name": "HTMLModel",
       "_view_count": null,
       "_view_module": "@jupyter-widgets/controls",
       "_view_module_version": "1.5.0",
       "_view_name": "HTMLView",
       "description": "",
       "description_tooltip": null,
       "layout": "IPY_MODEL_42c47ae7da6447fa98343dd7d8ded94a",
       "placeholder": "​",
       "style": "IPY_MODEL_ff7c7537b5864d4e9634415e3df41c3e",
       "value": " 624M/624M [00:22&lt;00:00, 31.3MB/s]"
      }
     },
     "f5926e786ffd4e70bb59003073842503": {
      "model_module": "@jupyter-widgets/controls",
      "model_module_version": "1.5.0",
      "model_name": "DescriptionStyleModel",
      "state": {
       "_model_module": "@jupyter-widgets/controls",
       "_model_module_version": "1.5.0",
       "_model_name": "DescriptionStyleModel",
       "_view_count": null,
       "_view_module": "@jupyter-widgets/base",
       "_view_module_version": "1.2.0",
       "_view_name": "StyleView",
       "description_width": ""
      }
     },
     "ff7c7537b5864d4e9634415e3df41c3e": {
      "model_module": "@jupyter-widgets/controls",
      "model_module_version": "1.5.0",
      "model_name": "DescriptionStyleModel",
      "state": {
       "_model_module": "@jupyter-widgets/controls",
       "_model_module_version": "1.5.0",
       "_model_name": "DescriptionStyleModel",
       "_view_count": null,
       "_view_module": "@jupyter-widgets/base",
       "_view_module_version": "1.2.0",
       "_view_name": "StyleView",
       "description_width": ""
      }
     }
    },
    "version_major": 2,
    "version_minor": 0
   }
  }
 },
 "nbformat": 4,
 "nbformat_minor": 5
}
