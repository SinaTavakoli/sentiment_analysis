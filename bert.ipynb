{
 "cells": [
  {
   "cell_type": "code",
   "execution_count": 1,
   "metadata": {
    "execution": {
     "iopub.execute_input": "2022-02-15T08:48:30.262953Z",
     "iopub.status.busy": "2022-02-15T08:48:30.261342Z",
     "iopub.status.idle": "2022-02-15T08:48:30.265570Z",
     "shell.execute_reply": "2022-02-15T08:48:30.265050Z",
     "shell.execute_reply.started": "2022-02-15T08:44:15.820159Z"
    },
    "id": "IhELEVRLuWnn",
    "outputId": "787bc463-43fc-4b66-8873-f06b6d6a375c",
    "papermill": {
     "duration": 0.027266,
     "end_time": "2022-02-15T08:48:30.265696",
     "exception": false,
     "start_time": "2022-02-15T08:48:30.238430",
     "status": "completed"
    },
    "tags": []
   },
   "outputs": [],
   "source": [
    "# !pip install transformers"
   ]
  },
  {
   "cell_type": "code",
   "execution_count": 1,
   "metadata": {
    "execution": {
     "iopub.execute_input": "2022-02-15T08:48:30.314065Z",
     "iopub.status.busy": "2022-02-15T08:48:30.313545Z",
     "iopub.status.idle": "2022-02-15T08:48:37.921640Z",
     "shell.execute_reply": "2022-02-15T08:48:37.922223Z",
     "shell.execute_reply.started": "2022-02-15T08:44:15.844949Z"
    },
    "id": "4V_-MTB3sagm",
    "outputId": "024655d4-cd2e-45e0-c68d-fc0515c75991",
    "papermill": {
     "duration": 7.638182,
     "end_time": "2022-02-15T08:48:37.922433",
     "exception": false,
     "start_time": "2022-02-15T08:48:30.284251",
     "status": "completed"
    },
    "tags": []
   },
   "outputs": [
    {
     "name": "stderr",
     "output_type": "stream",
     "text": [
      "\n",
      "Bad key savefig.frameon in file D:\\anaconda\\lib\\site-packages\\matplotlib\\mpl-data\\stylelib\\_classic_test.mplstyle, line 421 ('savefig.frameon : True')\n",
      "You probably need to get an updated matplotlibrc file from\n",
      "https://github.com/matplotlib/matplotlib/blob/v3.3.4/matplotlibrc.template\n",
      "or from the matplotlib source distribution\n",
      "\n",
      "Bad key verbose.level in file D:\\anaconda\\lib\\site-packages\\matplotlib\\mpl-data\\stylelib\\_classic_test.mplstyle, line 472 ('verbose.level  : silent      # one of silent, helpful, debug, debug-annoying')\n",
      "You probably need to get an updated matplotlibrc file from\n",
      "https://github.com/matplotlib/matplotlib/blob/v3.3.4/matplotlibrc.template\n",
      "or from the matplotlib source distribution\n",
      "\n",
      "Bad key verbose.fileo in file D:\\anaconda\\lib\\site-packages\\matplotlib\\mpl-data\\stylelib\\_classic_test.mplstyle, line 473 ('verbose.fileo  : sys.stdout  # a log filename, sys.stdout or sys.stderr')\n",
      "You probably need to get an updated matplotlibrc file from\n",
      "https://github.com/matplotlib/matplotlib/blob/v3.3.4/matplotlibrc.template\n",
      "or from the matplotlib source distribution\n",
      "In D:\\anaconda\\lib\\site-packages\\matplotlib\\mpl-data\\stylelib\\_classic_test.mplstyle: \n",
      "The text.latex.preview rcparam was deprecated in Matplotlib 3.3 and will be removed two minor releases later.\n",
      "In D:\\anaconda\\lib\\site-packages\\matplotlib\\mpl-data\\stylelib\\_classic_test.mplstyle: \n",
      "The mathtext.fallback_to_cm rcparam was deprecated in Matplotlib 3.3 and will be removed two minor releases later.\n",
      "In D:\\anaconda\\lib\\site-packages\\matplotlib\\mpl-data\\stylelib\\_classic_test.mplstyle: Support for setting the 'mathtext.fallback_to_cm' rcParam is deprecated since 3.3 and will be removed two minor releases later; use 'mathtext.fallback : 'cm' instead.\n",
      "In D:\\anaconda\\lib\\site-packages\\matplotlib\\mpl-data\\stylelib\\_classic_test.mplstyle: \n",
      "The validate_bool_maybe_none function was deprecated in Matplotlib 3.3 and will be removed two minor releases later.\n",
      "In D:\\anaconda\\lib\\site-packages\\matplotlib\\mpl-data\\stylelib\\_classic_test.mplstyle: \n",
      "The savefig.jpeg_quality rcparam was deprecated in Matplotlib 3.3 and will be removed two minor releases later.\n",
      "In D:\\anaconda\\lib\\site-packages\\matplotlib\\mpl-data\\stylelib\\_classic_test.mplstyle: \n",
      "The keymap.all_axes rcparam was deprecated in Matplotlib 3.3 and will be removed two minor releases later.\n",
      "In D:\\anaconda\\lib\\site-packages\\matplotlib\\mpl-data\\stylelib\\_classic_test.mplstyle: \n",
      "The animation.avconv_path rcparam was deprecated in Matplotlib 3.3 and will be removed two minor releases later.\n",
      "In D:\\anaconda\\lib\\site-packages\\matplotlib\\mpl-data\\stylelib\\_classic_test.mplstyle: \n",
      "The animation.avconv_args rcparam was deprecated in Matplotlib 3.3 and will be removed two minor releases later.\n"
     ]
    }
   ],
   "source": [
    "import re\n",
    "import gc\n",
    "import os\n",
    "import pickle\n",
    "import torch\n",
    "import random\n",
    "from torch.nn import BCEWithLogitsLoss, BCELoss\n",
    "import numpy as np\n",
    "import pandas as pd\n",
    "import matplotlib.pyplot as plt\n",
    "from sklearn.manifold import TSNE\n",
    "from sklearn.model_selection import KFold,StratifiedKFold, train_test_split\n",
    "from torch.utils.data import TensorDataset, DataLoader, RandomSampler, SequentialSampler\n",
    "from sklearn.utils import shuffle\n",
    "from sklearn.preprocessing import OneHotEncoder\n",
    "from tqdm import tqdm, trange\n",
    "from sklearn.metrics import roc_auc_score, f1_score, confusion_matrix, roc_curve\n",
    "from sklearn.metrics import accuracy_score,confusion_matrix, classification_report,f1_score\n",
    "from transformers import AutoModel,BertTokenizerFast as BertTokenizer, BertModel, AdamW, get_linear_schedule_with_warmup,BertForSequenceClassification\n",
    "from sklearn.model_selection import StratifiedKFold,RepeatedStratifiedKFold,KFold\n",
    "from torch.nn.functional import softmax\n",
    "from transformers import logging\n",
    "logging.set_verbosity_warning()\n",
    "from transformers import AutoConfig, AutoTokenizer, AutoModel\n",
    "import time\n",
    "import datetime\n",
    "import seaborn as sns\n",
    "from preprocess_ import preprocess\n",
    "\n",
    "# pd.set_option('display.max_columns',None)\n",
    "# pd.set_option('display.max_rows',None)\n",
    "# pd.set_option('display.max_colwidth',-1)\n",
    "tqdm.pandas()\n",
    "import warnings\n",
    "warnings.filterwarnings(\"ignore\")"
   ]
  },
  {
   "cell_type": "code",
   "execution_count": 2,
   "metadata": {},
   "outputs": [],
   "source": [
    "char_mappings = {\n",
    "\"٥\": \"5\",\n",
    "\"ڈ\": \"د\",\n",
    "\"ڇ\": \"چ\",\n",
    "# Persian numbers (will be replaced by english one)\n",
    "\"۰\": \"0\",\n",
    "\"۱\": \"1\",\n",
    "\"۲\": \"2\",\n",
    "\"۳\": \"3\",\n",
    "\"۴\": \"4\",\n",
    "\"۵\": \"5\",\n",
    "\"۶\": \"6\",\n",
    "\"۷\": \"7\",\n",
    "\"۸\": \"8\",\n",
    "\"۹\": \"9\",\n",
    "\".\": \".\",\n",
    "# Arabic numbers (will be replaced by english one)\n",
    "\"٠\": \"0\",\n",
    "\"١\": \"1\",\n",
    "\"٢\": \"2\",\n",
    "\"٣\": \"3\",\n",
    "\"٤\": \"4\",\n",
    "\"٥\": \"5\",\n",
    "\"٦\": \"6\",\n",
    "\"٧\": \"7\",\n",
    "\"٨\": \"8\",\n",
    "\"٩\": \"9\",\n",
    "# Special Arabic Characters (will be replaced by persian one)\n",
    "\"ك\": \"ک\",\n",
    "\"ى\": \"ی\",\n",
    "\"ي\": \"ی\",\n",
    "\"ؤ\": \"و\",\n",
    "\"ئ\": \"ی\",\n",
    "\"إ\": \"ا\",\n",
    "\"أ\": \"ا\",\n",
    "\"آ\": \"آ\",\n",
    "\"ة\": \"ه\",\n",
    "\"ء\": \"ی\",\n",
    "# Arabic Presentation Forms-A (will be replaced by persian one)\n",
    "\"ﭐ\": \"ا\",\n",
    "\"ﭑ\": \"ا\",\n",
    "\"ﭖ\": \"پ\",\n",
    "\"ﭗ\": \"پ\",\n",
    "\"ﭘ\": \"پ\",\n",
    "\"ﭙ\": \"پ\",\n",
    "\"ﭞ\": \"ت\",\n",
    "\"ﭟ\": \"ت\",\n",
    "\"ﭠ\": \"ت\",\n",
    "\"ﭡ\": \"ت\",\n",
    "\"ﭺ\": \"چ\",\n",
    "\"ﭻ\": \"چ\",\n",
    "\"ﭼ\": \"چ\",\n",
    "\"ﭽ\": \"چ\",\n",
    "\"ﮊ\": \"ژ\",\n",
    "\"ﮋ\": \"ژ\",\n",
    "\"ﮎ\": \"ک\",\n",
    "\"ﮏ\": \"ک\",\n",
    "\"ﮐ\": \"ک\",\n",
    "\"ﮑ\": \"ک\",\n",
    "\"ﮒ\": \"گ\",\n",
    "\"ﮓ\": \"گ\",\n",
    "\"ﮔ\": \"گ\",\n",
    "\"ﮕ\": \"گ\",\n",
    "\"ﮤ\": \"ه\",\n",
    "\"ﮥ\": \"ه\",\n",
    "\"ﮦ\": \"ه\",\n",
    "\"ﮪ\": \"ه\",\n",
    "\"ﮫ\": \"ه\",\n",
    "\"ﮬ\": \"ه\",\n",
    "\"ﮭ\": \"ه\",\n",
    "\"ﮮ\": \"ی\",\n",
    "\"ﮯ\": \"ی\",\n",
    "\"ﮰ\": \"ی\",\n",
    "\"ﮱ\": \"ی\",\n",
    "\"ﯼ\": \"ی\",\n",
    "\"ﯽ\": \"ی\",\n",
    "\"ﯾ\": \"ی\",\n",
    "\"ﯿ\": \"ی\",\n",
    "# Arabic Presentation Forms-B (will be replaced by persian one)\n",
    "\"ﺀ\": \"ی\",\n",
    "\"ﺁ\": \"آ\",\n",
    "\"ﺂ\": \"ا\",\n",
    "\"ﺃ\": \"ا\",\n",
    "\"ﺄ\": \"ا\",\n",
    "\"ﺅ\": \"و\",\n",
    "\"ﺆ\": \"و\",\n",
    "\"ﺇ\": \"ا\",\n",
    "\"ﺈ\": \"ا\",\n",
    "\"ﺉ\": \"ی\",\n",
    "\"ﺊ\": \"ی\",\n",
    "\"ﺋ\": \"ی\",\n",
    "\"ﺌ\": \"ی\",\n",
    "\"ﺍ\": \"ا\",\n",
    "\"ﺎ\": \"ا\",\n",
    "\"ﺏ\": \"ب\",\n",
    "\"ﺐ\": \"ب\",\n",
    "\"ﺑ\": \"ب\",\n",
    "\"ﺒ\": \"ب\",\n",
    "\"ﺓ\": \"ه\",\n",
    "\"ﺔ\": \"ه\",\n",
    "\"ﺕ\": \"ت\",\n",
    "\"ﺖ\": \"ت\",\n",
    "\"ﺗ\": \"ت\",\n",
    "\"ﺘ\": \"ت\",\n",
    "\"ﺙ\": \"ث\",\n",
    "\"ﺚ\": \"ث\",\n",
    "\"ﺛ\": \"ث\",\n",
    "\"ﺜ\": \"ث\",\n",
    "\"ﺝ\": \"ج\",\n",
    "\"ﺞ\": \"ج\",\n",
    "\"ﺟ\": \"ج\",\n",
    "\"ﺠ\": \"ج\",\n",
    "\"ﺡ\": \"ح\",\n",
    "\"ﺢ\": \"ح\",\n",
    "\"ﺣ\": \"ح\",\n",
    "\"ﺤ\": \"ح\",\n",
    "\"ﺥ\": \"خ\",\n",
    "\"ﺦ\": \"خ\",\n",
    "\"ﺧ\": \"خ\",\n",
    "\"ﺨ\": \"خ\",\n",
    "\"ﺩ\": \"د\",\n",
    "\"ﺪ\": \"د\",\n",
    "\"ﺫ\": \"ذ\",\n",
    "\"ﺬ\": \"ذ\",\n",
    "\"ﺭ\": \"ر\",\n",
    "\"ﺮ\": \"ر\",\n",
    "\"ﺯ\": \"ز\",\n",
    "\"ﺰ\": \"ز\",\n",
    "\"ﺱ\": \"س\",\n",
    "\"ﺲ\": \"س\",\n",
    "\"ﺳ\": \"س\",\n",
    "\"ﺴ\": \"س\",\n",
    "\"ﺵ\": \"ش\",\n",
    "\"ﺶ\": \"ش\",\n",
    "\"ﺷ\": \"ش\",\n",
    "\"ﺸ\": \"ش\",\n",
    "\"ﺹ\": \"ص\",\n",
    "\"ﺺ\": \"ص\",\n",
    "\"ﺻ\": \"ص\",\n",
    "\"ﺼ\": \"ص\",\n",
    "\"ﺽ\": \"ض\",\n",
    "\"ﺾ\": \"ض\",\n",
    "\"ﺿ\": \"ض\",\n",
    "\"ﻀ\": \"ض\",\n",
    "\"ﻁ\": \"ط\",\n",
    "\"ﻂ\": \"ط\",\n",
    "\"ﻃ\": \"ط\",\n",
    "\"ﻄ\": \"ط\",\n",
    "\"ﻅ\": \"ظ\",\n",
    "\"ﻆ\": \"ظ\",\n",
    "\"ﻇ\": \"ظ\",\n",
    "\"ﻈ\": \"ظ\",\n",
    "\"ﻉ\": \"ع\",\n",
    "\"ﻊ\": \"ع\",\n",
    "\"ﻋ\": \"ع\",\n",
    "\"ﻌ\": \"ع\",\n",
    "\"ﻍ\": \"غ\",\n",
    "\"ﻎ\": \"غ\",\n",
    "\"ﻏ\": \"غ\",\n",
    "\"ﻐ\": \"غ\",\n",
    "\"ﻑ\": \"ف\",\n",
    "\"ﻒ\": \"ف\",\n",
    "\"ﻓ\": \"ف\",\n",
    "\"ﻔ\": \"ف\",\n",
    "\"ﻕ\": \"ق\",\n",
    "\"ﻖ\": \"ق\",\n",
    "\"ﻗ\": \"ق\",\n",
    "\"ﻘ\": \"ق\",\n",
    "\"ﻙ\": \"ک\",\n",
    "\"ﻚ\": \"ک\",\n",
    "\"ﻛ\": \"ک\",\n",
    "\"ﻜ\": \"ک\",\n",
    "\"ﻝ\": \"ل\",\n",
    "\"ﻞ\": \"ل\",\n",
    "\"ﻟ\": \"ل\",\n",
    "\"ﻠ\": \"ل\",\n",
    "\"ﻡ\": \"م\",\n",
    "\"ﻢ\": \"م\",\n",
    "\"ﻣ\": \"م\",\n",
    "\"ﻤ\": \"م\",\n",
    "\"ﻥ\": \"ن\",\n",
    "\"ﻦ\": \"ن\",\n",
    "\"ﻧ\": \"ن\",\n",
    "\"ﻨ\": \"ن\",\n",
    "\"ﻩ\": \"ه\",\n",
    "\"ﻪ\": \"ه\",\n",
    "\"ﻫ\": \"ه\",\n",
    "\"ﻬ\": \"ه\",\n",
    "\"ﻭ\": \"و\",\n",
    "\"ﻮ\": \"و\",\n",
    "\"ﻯ\": \"ی\",\n",
    "\"ﻰ\": \"ی\",\n",
    "\"ﻱ\": \"ی\",\n",
    "\"ﻲ\": \"ی\",\n",
    "\"ﻳ\": \"ی\",\n",
    "\"ﻴ\": \"ی\",\n",
    "\"ﻵ\": \"لا\",\n",
    "\"ﻶ\": \"لا\",\n",
    "\"ﻷ\": \"لا\",\n",
    "\"ﻸ\": \"لا\",\n",
    "\"ﻹ\": \"لا\",\n",
    "\"ﻺ\": \"لا\",\n",
    "\"ﻻ\": \"لا\",\n",
    "\"ﻼ\": \"لا\",\n",
    "}\n",
    "\n",
    "def cleaner(x):\n",
    "    x = \"\".join([char_mappings[xx] if xx in char_mappings else xx for xx in x])\n",
    "\n",
    "    x = re.sub(r\"([0-9]+(\\.[0-9]+)?)\",r\" \\1 \", x).strip()\n",
    "    x = re.sub('([.,!?؟()!\\\\/\\+\\-\\=\\|:\"،])', r' \\1 ', x)\n",
    "\n",
    "    x = x.replace('\\u200c', ' ').replace('\\n', ' ').replace('\\t', ' ').replace('\\r', ' ')\n",
    "    \n",
    "    x = re.sub('\\/', ' ', x)\n",
    "    x = re.sub('«', ' ', x)\n",
    "    x = re.sub('»', ' ', x)\n",
    "    \n",
    "    x = re.sub('\\s{2,}', ' ', x)\n",
    "    return x.strip()"
   ]
  },
  {
   "cell_type": "code",
   "execution_count": null,
   "metadata": {},
   "outputs": [],
   "source": [
    "yazd = 2932747 \n",
    "yazd_drop_duplicate = 1016958 \n",
    "yazd_drop_duplicate + drop so so = 658915 \n",
    "\n",
    "my data = 3136344 \n",
    "my data drop_duplicate after prep = 3081903 \n",
    "my data drop_duplicate + drop so so = 2526809 \n",
    "\n",
    "خرید این محصول را توصیه می‌کنم     2122429\n",
    "خرید این محصول را توصیه نمی‌کنم     404380\n",
    "\n",
    "0    2145345\n",
    "1     409566\n",
    "\n",
    "خرید این محصول را توصیه می‌کنم     2145345\n",
    "خرید این محصول را توصیه نمی‌کنم     409566\n",
    "\n",
    "1====99178\n",
    "0====224709"
   ]
  },
  {
   "cell_type": "code",
   "execution_count": 4,
   "metadata": {},
   "outputs": [
    {
     "data": {
      "text/plain": [
       "2526809"
      ]
     },
     "execution_count": 4,
     "metadata": {},
     "output_type": "execute_result"
    }
   ],
   "source": [
    "2122429+404380"
   ]
  },
  {
   "cell_type": "code",
   "execution_count": 3,
   "metadata": {},
   "outputs": [
    {
     "name": "stderr",
     "output_type": "stream",
     "text": [
      "100%|█████████████████████████████████████████████████████████████████████| 2554911/2554911 [00:41<00:00, 61745.10it/s]\n"
     ]
    }
   ],
   "source": [
    "df = pd.read_csv(\"E:/Work/Data/sentiment/df_drop_duplicates.csv\", index_col=0)\n",
    "\n",
    "\n",
    "prep = preprocess()\n",
    "df = df[~df.sentiment.isna()]\n",
    "df = df[df.sentiment != \"در مورد خرید این محصول مطمئن نیستم\"]\n",
    "df.reset_index(inplace=True, drop=True)\n",
    "df['comments'] = df['comments'].astype(str).progress_apply(lambda x: cleaner(x))"
   ]
  },
  {
   "cell_type": "code",
   "execution_count": 4,
   "metadata": {},
   "outputs": [
    {
     "data": {
      "text/html": [
       "<div>\n",
       "<style scoped>\n",
       "    .dataframe tbody tr th:only-of-type {\n",
       "        vertical-align: middle;\n",
       "    }\n",
       "\n",
       "    .dataframe tbody tr th {\n",
       "        vertical-align: top;\n",
       "    }\n",
       "\n",
       "    .dataframe thead th {\n",
       "        text-align: right;\n",
       "    }\n",
       "</style>\n",
       "<table border=\"1\" class=\"dataframe\">\n",
       "  <thead>\n",
       "    <tr style=\"text-align: right;\">\n",
       "      <th></th>\n",
       "      <th>comments</th>\n",
       "      <th>sentiment</th>\n",
       "    </tr>\n",
       "  </thead>\n",
       "  <tbody>\n",
       "    <tr>\n",
       "      <th>0</th>\n",
       "      <td>این پد فوق العادس چون دوردوزی داره اصلا دولایه...</td>\n",
       "      <td>خرید این محصول را توصیه می‌کنم</td>\n",
       "    </tr>\n",
       "    <tr>\n",
       "      <th>1</th>\n",
       "      <td>پد خوبیه نسبت به قیمتش</td>\n",
       "      <td>خرید این محصول را توصیه می‌کنم</td>\n",
       "    </tr>\n",
       "    <tr>\n",
       "      <th>2</th>\n",
       "      <td>خوب و بدرد بخور . دور دوخت نیستن</td>\n",
       "      <td>خرید این محصول را توصیه می‌کنم</td>\n",
       "    </tr>\n",
       "    <tr>\n",
       "      <th>3</th>\n",
       "      <td>پد خوبیه نرمه و خوب مواد رو به خودش جذب میکنه ...</td>\n",
       "      <td>خرید این محصول را توصیه می‌کنم</td>\n",
       "    </tr>\n",
       "    <tr>\n",
       "      <th>4</th>\n",
       "      <td>مشتری همیشگیش هستم</td>\n",
       "      <td>خرید این محصول را توصیه می‌کنم</td>\n",
       "    </tr>\n",
       "    <tr>\n",
       "      <th>5</th>\n",
       "      <td>خیلی خیلی راضی هستم</td>\n",
       "      <td>خرید این محصول را توصیه می‌کنم</td>\n",
       "    </tr>\n",
       "    <tr>\n",
       "      <th>6</th>\n",
       "      <td>مثل همیشه خوب و کاربردی</td>\n",
       "      <td>خرید این محصول را توصیه می‌کنم</td>\n",
       "    </tr>\n",
       "    <tr>\n",
       "      <th>7</th>\n",
       "      <td>کیفیتش خوبه</td>\n",
       "      <td>خرید این محصول را توصیه می‌کنم</td>\n",
       "    </tr>\n",
       "    <tr>\n",
       "      <th>8</th>\n",
       "      <td>کیفیت مناسبی داره</td>\n",
       "      <td>خرید این محصول را توصیه می‌کنم</td>\n",
       "    </tr>\n",
       "    <tr>\n",
       "      <th>9</th>\n",
       "      <td>خیلی خوبه ولی ای کاش یکم ضخامتش بیشتر بود بسته...</td>\n",
       "      <td>خرید این محصول را توصیه می‌کنم</td>\n",
       "    </tr>\n",
       "    <tr>\n",
       "      <th>10</th>\n",
       "      <td>خیلی خوبه از خریدش راضیم</td>\n",
       "      <td>خرید این محصول را توصیه می‌کنم</td>\n",
       "    </tr>\n",
       "    <tr>\n",
       "      <th>11</th>\n",
       "      <td>عالی از هر نظر تو خریدش شک نکنین</td>\n",
       "      <td>خرید این محصول را توصیه می‌کنم</td>\n",
       "    </tr>\n",
       "    <tr>\n",
       "      <th>12</th>\n",
       "      <td>خیلی خوب بود</td>\n",
       "      <td>خرید این محصول را توصیه می‌کنم</td>\n",
       "    </tr>\n",
       "    <tr>\n",
       "      <th>13</th>\n",
       "      <td>پداش خیلی خوبه فقط دور دوخت نیست</td>\n",
       "      <td>خرید این محصول را توصیه می‌کنم</td>\n",
       "    </tr>\n",
       "    <tr>\n",
       "      <th>14</th>\n",
       "      <td>خوب بود راضیم</td>\n",
       "      <td>خرید این محصول را توصیه می‌کنم</td>\n",
       "    </tr>\n",
       "    <tr>\n",
       "      <th>15</th>\n",
       "      <td>کیفیت قبل رو نداره ولی اکیه</td>\n",
       "      <td>خرید این محصول را توصیه می‌کنم</td>\n",
       "    </tr>\n",
       "    <tr>\n",
       "      <th>16</th>\n",
       "      <td>عالییییییییییییی</td>\n",
       "      <td>خرید این محصول را توصیه می‌کنم</td>\n",
       "    </tr>\n",
       "    <tr>\n",
       "      <th>17</th>\n",
       "      <td>خوب و کاربردی</td>\n",
       "      <td>خرید این محصول را توصیه می‌کنم</td>\n",
       "    </tr>\n",
       "    <tr>\n",
       "      <th>18</th>\n",
       "      <td>خوب بود . با توجه به اینکه واسه روتین روزانه ح...</td>\n",
       "      <td>خرید این محصول را توصیه می‌کنم</td>\n",
       "    </tr>\n",
       "    <tr>\n",
       "      <th>19</th>\n",
       "      <td>نیازی به تعریف نداره چندساله استفاده میکنم عالیه</td>\n",
       "      <td>خرید این محصول را توصیه می‌کنم</td>\n",
       "    </tr>\n",
       "    <tr>\n",
       "      <th>20</th>\n",
       "      <td>عالی . . . . . . . . .</td>\n",
       "      <td>خرید این محصول را توصیه می‌کنم</td>\n",
       "    </tr>\n",
       "    <tr>\n",
       "      <th>21</th>\n",
       "      <td>همه جوره عالی بود واقعا توصیه میکنم دوختش هم ع...</td>\n",
       "      <td>خرید این محصول را توصیه می‌کنم</td>\n",
       "    </tr>\n",
       "    <tr>\n",
       "      <th>22</th>\n",
       "      <td>کیفیت خوبی داره من راضیم</td>\n",
       "      <td>خرید این محصول را توصیه می‌کنم</td>\n",
       "    </tr>\n",
       "    <tr>\n",
       "      <th>23</th>\n",
       "      <td>پیشنهاد میکنم قیمت مناسبی هم داره</td>\n",
       "      <td>خرید این محصول را توصیه می‌کنم</td>\n",
       "    </tr>\n",
       "    <tr>\n",
       "      <th>24</th>\n",
       "      <td>خوبه من برای روتین پوستی استفاده می کنم . راضیم</td>\n",
       "      <td>خرید این محصول را توصیه می‌کنم</td>\n",
       "    </tr>\n",
       "    <tr>\n",
       "      <th>25</th>\n",
       "      <td>پیشنهاد میکنم ، حتما بخرید</td>\n",
       "      <td>خرید این محصول را توصیه می‌کنم</td>\n",
       "    </tr>\n",
       "    <tr>\n",
       "      <th>26</th>\n",
       "      <td>برای روزمره به درد بخوره پاک کنندگیشم خوبه</td>\n",
       "      <td>خرید این محصول را توصیه می‌کنم</td>\n",
       "    </tr>\n",
       "    <tr>\n",
       "      <th>27</th>\n",
       "      <td>راضی میباشم حتما بخرید</td>\n",
       "      <td>خرید این محصول را توصیه می‌کنم</td>\n",
       "    </tr>\n",
       "    <tr>\n",
       "      <th>28</th>\n",
       "      <td>دور دوخت داره شل و ول نیست جدا نمیشه . خیبی خو...</td>\n",
       "      <td>خرید این محصول را توصیه می‌کنم</td>\n",
       "    </tr>\n",
       "    <tr>\n",
       "      <th>29</th>\n",
       "      <td>خوب بودش بنطرم</td>\n",
       "      <td>خرید این محصول را توصیه می‌کنم</td>\n",
       "    </tr>\n",
       "    <tr>\n",
       "      <th>...</th>\n",
       "      <td>...</td>\n",
       "      <td>...</td>\n",
       "    </tr>\n",
       "    <tr>\n",
       "      <th>2554881</th>\n",
       "      <td>خوبه چند ماه استفاده کردم عالی بودش از همه نظر</td>\n",
       "      <td>خرید این محصول را توصیه می‌کنم</td>\n",
       "    </tr>\n",
       "    <tr>\n",
       "      <th>2554882</th>\n",
       "      <td>فعلا که گیرندگی خوبی داره . ولی شاید توش اب بر...</td>\n",
       "      <td>خرید این محصول را توصیه می‌کنم</td>\n",
       "    </tr>\n",
       "    <tr>\n",
       "      <th>2554883</th>\n",
       "      <td>سیگنالش از آنتن های معمولی بشقابی و میله ای به...</td>\n",
       "      <td>خرید این محصول را توصیه می‌کنم</td>\n",
       "    </tr>\n",
       "    <tr>\n",
       "      <th>2554884</th>\n",
       "      <td>عالیه فقطدوتا خریدم یکیش تعداد میله هاش فرق دا...</td>\n",
       "      <td>خرید این محصول را توصیه می‌کنم</td>\n",
       "    </tr>\n",
       "    <tr>\n",
       "      <th>2554885</th>\n",
       "      <td>مصداق فلفل نبین چه ریزه هستش . . . . من راضی ب...</td>\n",
       "      <td>خرید این محصول را توصیه می‌کنم</td>\n",
       "    </tr>\n",
       "    <tr>\n",
       "      <th>2554886</th>\n",
       "      <td>من این کالا را چند روز پیش از دیجی عزیز خریدم ...</td>\n",
       "      <td>خرید این محصول را توصیه می‌کنم</td>\n",
       "    </tr>\n",
       "    <tr>\n",
       "      <th>2554887</th>\n",
       "      <td>قیمت خوب ایرانی بودنش خوب هم میگیره سیگنال رو</td>\n",
       "      <td>خرید این محصول را توصیه می‌کنم</td>\n",
       "    </tr>\n",
       "    <tr>\n",
       "      <th>2554888</th>\n",
       "      <td>کاملا راضی هستم از هر انتنی قوی تره</td>\n",
       "      <td>خرید این محصول را توصیه می‌کنم</td>\n",
       "    </tr>\n",
       "    <tr>\n",
       "      <th>2554889</th>\n",
       "      <td>آنتن خوبیه و نسبت به قیمت کیفیت خوبی داره تمام...</td>\n",
       "      <td>خرید این محصول را توصیه می‌کنم</td>\n",
       "    </tr>\n",
       "    <tr>\n",
       "      <th>2554890</th>\n",
       "      <td>بجای اینکه هزینه زیادی بابت خرید آنتن کنیم همی...</td>\n",
       "      <td>خرید این محصول را توصیه می‌کنم</td>\n",
       "    </tr>\n",
       "    <tr>\n",
       "      <th>2554891</th>\n",
       "      <td>تو طبقه اول نسبتا خوبه</td>\n",
       "      <td>خرید این محصول را توصیه می‌کنم</td>\n",
       "    </tr>\n",
       "    <tr>\n",
       "      <th>2554892</th>\n",
       "      <td>دل محصول خوب و کاربردی و کار راه اندازی بود نص...</td>\n",
       "      <td>خرید این محصول را توصیه می‌کنم</td>\n",
       "    </tr>\n",
       "    <tr>\n",
       "      <th>2554893</th>\n",
       "      <td>سیگنالش خیلی ضعیفه ، اتصالات ضعیف ، نوک شاخه ه...</td>\n",
       "      <td>خرید این محصول را توصیه نمی‌کنم</td>\n",
       "    </tr>\n",
       "    <tr>\n",
       "      <th>2554894</th>\n",
       "      <td>آنتن مذکور از نظر دریافت سیگنال که از آنالوگ ب...</td>\n",
       "      <td>خرید این محصول را توصیه می‌کنم</td>\n",
       "    </tr>\n",
       "    <tr>\n",
       "      <th>2554895</th>\n",
       "      <td>قیمت مناسب و آنتن دهی خوب و کوچک و جمع و جور</td>\n",
       "      <td>خرید این محصول را توصیه می‌کنم</td>\n",
       "    </tr>\n",
       "    <tr>\n",
       "      <th>2554896</th>\n",
       "      <td>خیلی هم عالی بود . بدون پارازیت . این دوستانی ...</td>\n",
       "      <td>خرید این محصول را توصیه می‌کنم</td>\n",
       "    </tr>\n",
       "    <tr>\n",
       "      <th>2554897</th>\n",
       "      <td>اصلا راضی نیستم . کاش بتونم پس بدمش</td>\n",
       "      <td>خرید این محصول را توصیه نمی‌کنم</td>\n",
       "    </tr>\n",
       "    <tr>\n",
       "      <th>2554898</th>\n",
       "      <td>کیفیتش خیلی خوبه . نصبشم نکردم و نبستمش رو هوا...</td>\n",
       "      <td>خرید این محصول را توصیه می‌کنم</td>\n",
       "    </tr>\n",
       "    <tr>\n",
       "      <th>2554899</th>\n",
       "      <td>نسبتا خوبه ، گیرندگیش خوبه</td>\n",
       "      <td>خرید این محصول را توصیه می‌کنم</td>\n",
       "    </tr>\n",
       "    <tr>\n",
       "      <th>2554900</th>\n",
       "      <td>با کارایی و کیفیت مناسب بود .</td>\n",
       "      <td>خرید این محصول را توصیه می‌کنم</td>\n",
       "    </tr>\n",
       "    <tr>\n",
       "      <th>2554901</th>\n",
       "      <td>کیفیت ساخت متوسط - دارای طراحی خوب و قیمت مناس...</td>\n",
       "      <td>خرید این محصول را توصیه می‌کنم</td>\n",
       "    </tr>\n",
       "    <tr>\n",
       "      <th>2554902</th>\n",
       "      <td>سبک بودن . کمتر جا میگیره</td>\n",
       "      <td>خرید این محصول را توصیه می‌کنم</td>\n",
       "    </tr>\n",
       "    <tr>\n",
       "      <th>2554903</th>\n",
       "      <td>سیگنال رو باقدرت میگیره</td>\n",
       "      <td>خرید این محصول را توصیه می‌کنم</td>\n",
       "    </tr>\n",
       "    <tr>\n",
       "      <th>2554904</th>\n",
       "      <td>سبک و خوبه نویز هم نداره در صورت تکان خوردن</td>\n",
       "      <td>خرید این محصول را توصیه می‌کنم</td>\n",
       "    </tr>\n",
       "    <tr>\n",
       "      <th>2554905</th>\n",
       "      <td>اگر انتن هوایی دارید عالیه واسه خرید . هزینه ز...</td>\n",
       "      <td>خرید این محصول را توصیه می‌کنم</td>\n",
       "    </tr>\n",
       "    <tr>\n",
       "      <th>2554906</th>\n",
       "      <td>سلام متاسفانه بسته بندی بدی داشت و کارتون دو ت...</td>\n",
       "      <td>خرید این محصول را توصیه می‌کنم</td>\n",
       "    </tr>\n",
       "    <tr>\n",
       "      <th>2554907</th>\n",
       "      <td>کیفیت متوسط داشت من برای تلوزیون دیجیتال خریدم...</td>\n",
       "      <td>خرید این محصول را توصیه می‌کنم</td>\n",
       "    </tr>\n",
       "    <tr>\n",
       "      <th>2554908</th>\n",
       "      <td>من به دلیل 4 کاناله بودنش و مشخصاتی که داشت بر...</td>\n",
       "      <td>خرید این محصول را توصیه نمی‌کنم</td>\n",
       "    </tr>\n",
       "    <tr>\n",
       "      <th>2554909</th>\n",
       "      <td>عدم وجود محافظ دکمه های حهتی</td>\n",
       "      <td>خرید این محصول را توصیه می‌کنم</td>\n",
       "    </tr>\n",
       "    <tr>\n",
       "      <th>2554910</th>\n",
       "      <td>امروز خریدم حتی 20 دقیقه هم شارژ نگه نداشت میخ...</td>\n",
       "      <td>خرید این محصول را توصیه نمی‌کنم</td>\n",
       "    </tr>\n",
       "  </tbody>\n",
       "</table>\n",
       "<p>2554911 rows × 2 columns</p>\n",
       "</div>"
      ],
      "text/plain": [
       "                                                  comments  \\\n",
       "0        این پد فوق العادس چون دوردوزی داره اصلا دولایه...   \n",
       "1                                   پد خوبیه نسبت به قیمتش   \n",
       "2                         خوب و بدرد بخور . دور دوخت نیستن   \n",
       "3        پد خوبیه نرمه و خوب مواد رو به خودش جذب میکنه ...   \n",
       "4                                       مشتری همیشگیش هستم   \n",
       "5                                      خیلی خیلی راضی هستم   \n",
       "6                                  مثل همیشه خوب و کاربردی   \n",
       "7                                              کیفیتش خوبه   \n",
       "8                                        کیفیت مناسبی داره   \n",
       "9        خیلی خوبه ولی ای کاش یکم ضخامتش بیشتر بود بسته...   \n",
       "10                                خیلی خوبه از خریدش راضیم   \n",
       "11                        عالی از هر نظر تو خریدش شک نکنین   \n",
       "12                                            خیلی خوب بود   \n",
       "13                        پداش خیلی خوبه فقط دور دوخت نیست   \n",
       "14                                           خوب بود راضیم   \n",
       "15                             کیفیت قبل رو نداره ولی اکیه   \n",
       "16                                        عالییییییییییییی   \n",
       "17                                           خوب و کاربردی   \n",
       "18       خوب بود . با توجه به اینکه واسه روتین روزانه ح...   \n",
       "19        نیازی به تعریف نداره چندساله استفاده میکنم عالیه   \n",
       "20                                  عالی . . . . . . . . .   \n",
       "21       همه جوره عالی بود واقعا توصیه میکنم دوختش هم ع...   \n",
       "22                                کیفیت خوبی داره من راضیم   \n",
       "23                       پیشنهاد میکنم قیمت مناسبی هم داره   \n",
       "24         خوبه من برای روتین پوستی استفاده می کنم . راضیم   \n",
       "25                              پیشنهاد میکنم ، حتما بخرید   \n",
       "26              برای روزمره به درد بخوره پاک کنندگیشم خوبه   \n",
       "27                                  راضی میباشم حتما بخرید   \n",
       "28       دور دوخت داره شل و ول نیست جدا نمیشه . خیبی خو...   \n",
       "29                                          خوب بودش بنطرم   \n",
       "...                                                    ...   \n",
       "2554881     خوبه چند ماه استفاده کردم عالی بودش از همه نظر   \n",
       "2554882  فعلا که گیرندگی خوبی داره . ولی شاید توش اب بر...   \n",
       "2554883  سیگنالش از آنتن های معمولی بشقابی و میله ای به...   \n",
       "2554884  عالیه فقطدوتا خریدم یکیش تعداد میله هاش فرق دا...   \n",
       "2554885  مصداق فلفل نبین چه ریزه هستش . . . . من راضی ب...   \n",
       "2554886  من این کالا را چند روز پیش از دیجی عزیز خریدم ...   \n",
       "2554887      قیمت خوب ایرانی بودنش خوب هم میگیره سیگنال رو   \n",
       "2554888                کاملا راضی هستم از هر انتنی قوی تره   \n",
       "2554889  آنتن خوبیه و نسبت به قیمت کیفیت خوبی داره تمام...   \n",
       "2554890  بجای اینکه هزینه زیادی بابت خرید آنتن کنیم همی...   \n",
       "2554891                             تو طبقه اول نسبتا خوبه   \n",
       "2554892  دل محصول خوب و کاربردی و کار راه اندازی بود نص...   \n",
       "2554893  سیگنالش خیلی ضعیفه ، اتصالات ضعیف ، نوک شاخه ه...   \n",
       "2554894  آنتن مذکور از نظر دریافت سیگنال که از آنالوگ ب...   \n",
       "2554895       قیمت مناسب و آنتن دهی خوب و کوچک و جمع و جور   \n",
       "2554896  خیلی هم عالی بود . بدون پارازیت . این دوستانی ...   \n",
       "2554897                اصلا راضی نیستم . کاش بتونم پس بدمش   \n",
       "2554898  کیفیتش خیلی خوبه . نصبشم نکردم و نبستمش رو هوا...   \n",
       "2554899                         نسبتا خوبه ، گیرندگیش خوبه   \n",
       "2554900                      با کارایی و کیفیت مناسب بود .   \n",
       "2554901  کیفیت ساخت متوسط - دارای طراحی خوب و قیمت مناس...   \n",
       "2554902                          سبک بودن . کمتر جا میگیره   \n",
       "2554903                            سیگنال رو باقدرت میگیره   \n",
       "2554904        سبک و خوبه نویز هم نداره در صورت تکان خوردن   \n",
       "2554905  اگر انتن هوایی دارید عالیه واسه خرید . هزینه ز...   \n",
       "2554906  سلام متاسفانه بسته بندی بدی داشت و کارتون دو ت...   \n",
       "2554907  کیفیت متوسط داشت من برای تلوزیون دیجیتال خریدم...   \n",
       "2554908  من به دلیل 4 کاناله بودنش و مشخصاتی که داشت بر...   \n",
       "2554909                       عدم وجود محافظ دکمه های حهتی   \n",
       "2554910  امروز خریدم حتی 20 دقیقه هم شارژ نگه نداشت میخ...   \n",
       "\n",
       "                               sentiment  \n",
       "0         خرید این محصول را توصیه می‌کنم  \n",
       "1         خرید این محصول را توصیه می‌کنم  \n",
       "2         خرید این محصول را توصیه می‌کنم  \n",
       "3         خرید این محصول را توصیه می‌کنم  \n",
       "4         خرید این محصول را توصیه می‌کنم  \n",
       "5         خرید این محصول را توصیه می‌کنم  \n",
       "6         خرید این محصول را توصیه می‌کنم  \n",
       "7         خرید این محصول را توصیه می‌کنم  \n",
       "8         خرید این محصول را توصیه می‌کنم  \n",
       "9         خرید این محصول را توصیه می‌کنم  \n",
       "10        خرید این محصول را توصیه می‌کنم  \n",
       "11        خرید این محصول را توصیه می‌کنم  \n",
       "12        خرید این محصول را توصیه می‌کنم  \n",
       "13        خرید این محصول را توصیه می‌کنم  \n",
       "14        خرید این محصول را توصیه می‌کنم  \n",
       "15        خرید این محصول را توصیه می‌کنم  \n",
       "16        خرید این محصول را توصیه می‌کنم  \n",
       "17        خرید این محصول را توصیه می‌کنم  \n",
       "18        خرید این محصول را توصیه می‌کنم  \n",
       "19        خرید این محصول را توصیه می‌کنم  \n",
       "20        خرید این محصول را توصیه می‌کنم  \n",
       "21        خرید این محصول را توصیه می‌کنم  \n",
       "22        خرید این محصول را توصیه می‌کنم  \n",
       "23        خرید این محصول را توصیه می‌کنم  \n",
       "24        خرید این محصول را توصیه می‌کنم  \n",
       "25        خرید این محصول را توصیه می‌کنم  \n",
       "26        خرید این محصول را توصیه می‌کنم  \n",
       "27        خرید این محصول را توصیه می‌کنم  \n",
       "28        خرید این محصول را توصیه می‌کنم  \n",
       "29        خرید این محصول را توصیه می‌کنم  \n",
       "...                                  ...  \n",
       "2554881   خرید این محصول را توصیه می‌کنم  \n",
       "2554882   خرید این محصول را توصیه می‌کنم  \n",
       "2554883   خرید این محصول را توصیه می‌کنم  \n",
       "2554884   خرید این محصول را توصیه می‌کنم  \n",
       "2554885   خرید این محصول را توصیه می‌کنم  \n",
       "2554886   خرید این محصول را توصیه می‌کنم  \n",
       "2554887   خرید این محصول را توصیه می‌کنم  \n",
       "2554888   خرید این محصول را توصیه می‌کنم  \n",
       "2554889   خرید این محصول را توصیه می‌کنم  \n",
       "2554890   خرید این محصول را توصیه می‌کنم  \n",
       "2554891   خرید این محصول را توصیه می‌کنم  \n",
       "2554892   خرید این محصول را توصیه می‌کنم  \n",
       "2554893  خرید این محصول را توصیه نمی‌کنم  \n",
       "2554894   خرید این محصول را توصیه می‌کنم  \n",
       "2554895   خرید این محصول را توصیه می‌کنم  \n",
       "2554896   خرید این محصول را توصیه می‌کنم  \n",
       "2554897  خرید این محصول را توصیه نمی‌کنم  \n",
       "2554898   خرید این محصول را توصیه می‌کنم  \n",
       "2554899   خرید این محصول را توصیه می‌کنم  \n",
       "2554900   خرید این محصول را توصیه می‌کنم  \n",
       "2554901   خرید این محصول را توصیه می‌کنم  \n",
       "2554902   خرید این محصول را توصیه می‌کنم  \n",
       "2554903   خرید این محصول را توصیه می‌کنم  \n",
       "2554904   خرید این محصول را توصیه می‌کنم  \n",
       "2554905   خرید این محصول را توصیه می‌کنم  \n",
       "2554906   خرید این محصول را توصیه می‌کنم  \n",
       "2554907   خرید این محصول را توصیه می‌کنم  \n",
       "2554908  خرید این محصول را توصیه نمی‌کنم  \n",
       "2554909   خرید این محصول را توصیه می‌کنم  \n",
       "2554910  خرید این محصول را توصیه نمی‌کنم  \n",
       "\n",
       "[2554911 rows x 2 columns]"
      ]
     },
     "execution_count": 4,
     "metadata": {},
     "output_type": "execute_result"
    }
   ],
   "source": [
    "df"
   ]
  },
  {
   "cell_type": "code",
   "execution_count": 5,
   "metadata": {},
   "outputs": [
    {
     "data": {
      "text/plain": [
       "(2554911, 2)"
      ]
     },
     "execution_count": 5,
     "metadata": {},
     "output_type": "execute_result"
    }
   ],
   "source": [
    "df.shape"
   ]
  },
  {
   "cell_type": "code",
   "execution_count": 6,
   "metadata": {},
   "outputs": [
    {
     "data": {
      "text/plain": [
       "خرید این محصول را توصیه می‌کنم     2145345\n",
       "خرید این محصول را توصیه نمی‌کنم     409566\n",
       "Name: sentiment, dtype: int64"
      ]
     },
     "execution_count": 6,
     "metadata": {},
     "output_type": "execute_result"
    }
   ],
   "source": [
    "df.sentiment.value_counts()"
   ]
  },
  {
   "cell_type": "code",
   "execution_count": 7,
   "metadata": {},
   "outputs": [
    {
     "data": {
      "text/plain": [
       "{'خرید این محصول را توصیه می\\u200cکنم': 0,\n",
       " 'خرید این محصول را توصیه نمی\\u200cکنم': 1}"
      ]
     },
     "execution_count": 7,
     "metadata": {},
     "output_type": "execute_result"
    }
   ],
   "source": [
    "cat_mapper = dict(zip(df.sentiment.unique(), [0,1]))\n",
    "\n",
    "df.sentiment = df.sentiment.map(cat_mapper)\n",
    "cat_mapper"
   ]
  },
  {
   "cell_type": "code",
   "execution_count": 14,
   "metadata": {},
   "outputs": [
    {
     "data": {
      "text/html": [
       "<div>\n",
       "<style scoped>\n",
       "    .dataframe tbody tr th:only-of-type {\n",
       "        vertical-align: middle;\n",
       "    }\n",
       "\n",
       "    .dataframe tbody tr th {\n",
       "        vertical-align: top;\n",
       "    }\n",
       "\n",
       "    .dataframe thead th {\n",
       "        text-align: right;\n",
       "    }\n",
       "</style>\n",
       "<table border=\"1\" class=\"dataframe\">\n",
       "  <thead>\n",
       "    <tr style=\"text-align: right;\">\n",
       "      <th></th>\n",
       "      <th>comments</th>\n",
       "      <th>sentiment</th>\n",
       "    </tr>\n",
       "  </thead>\n",
       "  <tbody>\n",
       "    <tr>\n",
       "      <th>111701</th>\n",
       "      <td>خیلی خوب و باکیفیت بود میزان پاک کنندگی عالی داره</td>\n",
       "      <td>0</td>\n",
       "    </tr>\n",
       "    <tr>\n",
       "      <th>1900243</th>\n",
       "      <td>یک جنس اشغال و غیر قابل استفاده و نصب بسیار بس...</td>\n",
       "      <td>1</td>\n",
       "    </tr>\n",
       "    <tr>\n",
       "      <th>516284</th>\n",
       "      <td>برای کنترل تلویزیون گرفتم که خوب بود</td>\n",
       "      <td>0</td>\n",
       "    </tr>\n",
       "    <tr>\n",
       "      <th>355462</th>\n",
       "      <td>قشنگه ولی یه مقدار ابی تر از عکسه ولی خیلی رنگ...</td>\n",
       "      <td>0</td>\n",
       "    </tr>\n",
       "    <tr>\n",
       "      <th>263907</th>\n",
       "      <td>من قبلا از بیرون مارک های دیگه میگرفتم که وقتی...</td>\n",
       "      <td>1</td>\n",
       "    </tr>\n",
       "    <tr>\n",
       "      <th>918027</th>\n",
       "      <td>نسبتا خوب وخوش طعم می باشد .</td>\n",
       "      <td>0</td>\n",
       "    </tr>\n",
       "    <tr>\n",
       "      <th>1717204</th>\n",
       "      <td>خیلی قشنگه ولی کیفیت دورش یه ذره پایینه</td>\n",
       "      <td>0</td>\n",
       "    </tr>\n",
       "    <tr>\n",
       "      <th>1923828</th>\n",
       "      <td>10 روز اول خیییلی خوب کار کرد و فست شارژ بود ا...</td>\n",
       "      <td>1</td>\n",
       "    </tr>\n",
       "    <tr>\n",
       "      <th>721184</th>\n",
       "      <td>درجه یکه ، حرف نداره ، یک سشوار همه چی تمومه ....</td>\n",
       "      <td>0</td>\n",
       "    </tr>\n",
       "    <tr>\n",
       "      <th>2476145</th>\n",
       "      <td>من از خریدم راضی نیستم این پلاستیک روی کنترل خ...</td>\n",
       "      <td>1</td>\n",
       "    </tr>\n",
       "    <tr>\n",
       "      <th>2127192</th>\n",
       "      <td>متاسفانه دوخت پارچه خوب نبود و جمع میشه ( شورت...</td>\n",
       "      <td>1</td>\n",
       "    </tr>\n",
       "    <tr>\n",
       "      <th>231820</th>\n",
       "      <td>اصلا کالای کاربردی نیست ، خریدش پول دور ریختنه !</td>\n",
       "      <td>1</td>\n",
       "    </tr>\n",
       "    <tr>\n",
       "      <th>418130</th>\n",
       "      <td>کم کیفیت</td>\n",
       "      <td>1</td>\n",
       "    </tr>\n",
       "    <tr>\n",
       "      <th>2056251</th>\n",
       "      <td>واسه بازی کودکانه خوبه</td>\n",
       "      <td>0</td>\n",
       "    </tr>\n",
       "    <tr>\n",
       "      <th>1999806</th>\n",
       "      <td>در مجموع گوشی خوبی هستش من به شخصه پیشنهاد خری...</td>\n",
       "      <td>0</td>\n",
       "    </tr>\n",
       "  </tbody>\n",
       "</table>\n",
       "</div>"
      ],
      "text/plain": [
       "                                                  comments  sentiment\n",
       "111701   خیلی خوب و باکیفیت بود میزان پاک کنندگی عالی داره          0\n",
       "1900243  یک جنس اشغال و غیر قابل استفاده و نصب بسیار بس...          1\n",
       "516284                برای کنترل تلویزیون گرفتم که خوب بود          0\n",
       "355462   قشنگه ولی یه مقدار ابی تر از عکسه ولی خیلی رنگ...          0\n",
       "263907   من قبلا از بیرون مارک های دیگه میگرفتم که وقتی...          1\n",
       "918027                        نسبتا خوب وخوش طعم می باشد .          0\n",
       "1717204            خیلی قشنگه ولی کیفیت دورش یه ذره پایینه          0\n",
       "1923828  10 روز اول خیییلی خوب کار کرد و فست شارژ بود ا...          1\n",
       "721184   درجه یکه ، حرف نداره ، یک سشوار همه چی تمومه ....          0\n",
       "2476145  من از خریدم راضی نیستم این پلاستیک روی کنترل خ...          1\n",
       "2127192  متاسفانه دوخت پارچه خوب نبود و جمع میشه ( شورت...          1\n",
       "231820    اصلا کالای کاربردی نیست ، خریدش پول دور ریختنه !          1\n",
       "418130                                            کم کیفیت          1\n",
       "2056251                             واسه بازی کودکانه خوبه          0\n",
       "1999806  در مجموع گوشی خوبی هستش من به شخصه پیشنهاد خری...          0"
      ]
     },
     "execution_count": 14,
     "metadata": {},
     "output_type": "execute_result"
    }
   ],
   "source": [
    "pd.concat([df[df.sentiment==1].sample(7), df[df.sentiment==0].sample(8)]).sample(15)"
   ]
  },
  {
   "cell_type": "code",
   "execution_count": 21,
   "metadata": {},
   "outputs": [],
   "source": [
    "a = set()\n",
    "z=0\n",
    "for i in df[df.sentiment == 1].comments:\n",
    "    for j in i.split():\n",
    "        z+=1\n",
    "        a.add(j)"
   ]
  },
  {
   "cell_type": "code",
   "execution_count": 22,
   "metadata": {},
   "outputs": [
    {
     "data": {
      "text/plain": [
       "99178"
      ]
     },
     "execution_count": 22,
     "metadata": {},
     "output_type": "execute_result"
    }
   ],
   "source": [
    "len(a)"
   ]
  },
  {
   "cell_type": "code",
   "execution_count": 23,
   "metadata": {},
   "outputs": [
    {
     "data": {
      "text/plain": [
       "8168215"
      ]
     },
     "execution_count": 23,
     "metadata": {},
     "output_type": "execute_result"
    }
   ],
   "source": [
    "z"
   ]
  },
  {
   "cell_type": "code",
   "execution_count": 24,
   "metadata": {
    "execution": {
     "iopub.execute_input": "2022-02-15T08:48:38.011873Z",
     "iopub.status.busy": "2022-02-15T08:48:38.011126Z",
     "iopub.status.idle": "2022-02-15T08:48:38.013835Z",
     "shell.execute_reply": "2022-02-15T08:48:38.013366Z",
     "shell.execute_reply.started": "2022-02-15T08:44:23.282097Z"
    },
    "id": "Gqa3_nWFsagt",
    "papermill": {
     "duration": 0.072211,
     "end_time": "2022-02-15T08:48:38.013945",
     "exception": false,
     "start_time": "2022-02-15T08:48:37.941734",
     "status": "completed"
    },
    "tags": []
   },
   "outputs": [],
   "source": [
    "device = torch.device(\"cuda\")\n",
    "n_gpu = torch.cuda.device_count()"
   ]
  },
  {
   "cell_type": "code",
   "execution_count": 25,
   "metadata": {},
   "outputs": [],
   "source": [
    "df = df.dropna()"
   ]
  },
  {
   "cell_type": "code",
   "execution_count": 26,
   "metadata": {
    "execution": {
     "iopub.execute_input": "2022-02-15T08:48:42.536055Z",
     "iopub.status.busy": "2022-02-15T08:48:42.535464Z",
     "iopub.status.idle": "2022-02-15T08:48:46.431050Z",
     "shell.execute_reply": "2022-02-15T08:48:46.430513Z",
     "shell.execute_reply.started": "2022-02-15T08:44:27.649982Z"
    },
    "id": "UaRwMDEQsagw",
    "papermill": {
     "duration": 3.91907,
     "end_time": "2022-02-15T08:48:46.431194",
     "exception": false,
     "start_time": "2022-02-15T08:48:42.512124",
     "status": "completed"
    },
    "tags": []
   },
   "outputs": [],
   "source": [
    "X = df.loc[:,[\"comments\"]]\n",
    "Y = df.sentiment\n",
    "test = df_test"
   ]
  },
  {
   "cell_type": "code",
   "execution_count": 27,
   "metadata": {
    "execution": {
     "iopub.execute_input": "2022-02-15T08:48:46.528510Z",
     "iopub.status.busy": "2022-02-15T08:48:46.527955Z",
     "iopub.status.idle": "2022-02-15T08:48:46.532039Z",
     "shell.execute_reply": "2022-02-15T08:48:46.532459Z",
     "shell.execute_reply.started": "2022-02-15T08:44:31.391700Z"
    },
    "id": "hykKe7R0sagy",
    "papermill": {
     "duration": 0.034401,
     "end_time": "2022-02-15T08:48:46.532580",
     "exception": false,
     "start_time": "2022-02-15T08:48:46.498179",
     "status": "completed"
    },
    "tags": []
   },
   "outputs": [
    {
     "data": {
      "text/plain": [
       "0    2145345\n",
       "1     409566\n",
       "Name: sentiment, dtype: int64"
      ]
     },
     "execution_count": 27,
     "metadata": {},
     "output_type": "execute_result"
    }
   ],
   "source": [
    "Y.value_counts()"
   ]
  },
  {
   "cell_type": "code",
   "execution_count": 29,
   "metadata": {
    "execution": {
     "iopub.execute_input": "2022-02-15T08:48:46.621563Z",
     "iopub.status.busy": "2022-02-15T08:48:46.621012Z",
     "iopub.status.idle": "2022-02-15T08:49:21.290627Z",
     "shell.execute_reply": "2022-02-15T08:49:21.291181Z",
     "shell.execute_reply.started": "2022-02-15T08:44:31.415440Z"
    },
    "id": "aPzvTB1Xsag3",
    "papermill": {
     "duration": 34.69359,
     "end_time": "2022-02-15T08:49:21.291397",
     "exception": false,
     "start_time": "2022-02-15T08:48:46.597807",
     "status": "completed"
    },
    "tags": []
   },
   "outputs": [
    {
     "name": "stderr",
     "output_type": "stream",
     "text": [
      "Some weights of the model checkpoint at HooshvareLab/bert-base-parsbert-uncased were not used when initializing BertModel: ['cls.predictions.decoder.weight', 'cls.predictions.transform.dense.bias', 'cls.predictions.decoder.bias', 'cls.predictions.bias', 'cls.predictions.transform.dense.weight', 'cls.seq_relationship.weight', 'cls.predictions.transform.LayerNorm.bias', 'cls.predictions.transform.LayerNorm.weight', 'cls.seq_relationship.bias']\n",
      "- This IS expected if you are initializing BertModel from the checkpoint of a model trained on another task or with another architecture (e.g. initializing a BertForSequenceClassification model from a BertForPreTraining model).\n",
      "- This IS NOT expected if you are initializing BertModel from the checkpoint of a model that you expect to be exactly identical (initializing a BertForSequenceClassification model from a BertForSequenceClassification model).\n"
     ]
    }
   ],
   "source": [
    "config = AutoConfig.from_pretrained(\"HooshvareLab/bert-base-parsbert-uncased\")\n",
    "tokenizer = AutoTokenizer.from_pretrained(\"HooshvareLab/bert-base-parsbert-uncased\")\n",
    "model = AutoModel.from_pretrained(\"HooshvareLab/bert-base-parsbert-uncased\")"
   ]
  },
  {
   "cell_type": "code",
   "execution_count": 30,
   "metadata": {
    "execution": {
     "iopub.execute_input": "2022-02-15T08:49:21.403306Z",
     "iopub.status.busy": "2022-02-15T08:49:21.402518Z",
     "iopub.status.idle": "2022-02-15T08:49:23.425119Z",
     "shell.execute_reply": "2022-02-15T08:49:23.424685Z",
     "shell.execute_reply.started": "2022-02-15T08:45:00.657576Z"
    },
    "id": "gPd13jhVsag4",
    "papermill": {
     "duration": 2.061984,
     "end_time": "2022-02-15T08:49:23.425241",
     "exception": false,
     "start_time": "2022-02-15T08:49:21.363257",
     "status": "completed"
    },
    "tags": []
   },
   "outputs": [
    {
     "data": {
      "text/plain": [
       "<AxesSubplot:>"
      ]
     },
     "execution_count": 30,
     "metadata": {},
     "output_type": "execute_result"
    },
    {
     "data": {
      "image/png": "[encoded data removed]",
      "text/plain": [
       "<Figure size 1368x648 with 1 Axes>"
      ]
     },
     "metadata": {
      "needs_background": "light"
     },
     "output_type": "display_data"
    }
   ],
   "source": [
    "seq_len = [len(i.split()) for i in X['comments']]\n",
    "pd.Series(seq_len).hist(bins = 300, figsize=(19,9))"
   ]
  },
  {
   "cell_type": "code",
   "execution_count": 31,
   "metadata": {},
   "outputs": [],
   "source": [
    "df_positive = df[df.sentiment == 0]\n",
    "df_negative = df[df.sentiment == 1]"
   ]
  },
  {
   "cell_type": "code",
   "execution_count": 32,
   "metadata": {},
   "outputs": [
    {
     "data": {
      "text/plain": [
       "34443962"
      ]
     },
     "execution_count": 32,
     "metadata": {},
     "output_type": "execute_result"
    }
   ],
   "source": [
    "word_count = dict()\n",
    "for text in df_positive.comments.values:\n",
    "    for j in text.split():\n",
    "        try:\n",
    "            word_count[j] = word_count[j]+1\n",
    "        except:\n",
    "            word_count[j] = 1\n",
    "            \n",
    "positive_word_count = pd.DataFrame(word_count.items(), columns=['word', 'count'])\n",
    "positive_word_count = positive_word_count.sort_values(\"count\", ascending=False).reset_index(drop=True)\n",
    "positive_word_count = positive_word_count[positive_word_count[\"count\"]>100]\n",
    "sum(word_count.values())"
   ]
  },
  {
   "cell_type": "code",
   "execution_count": 33,
   "metadata": {},
   "outputs": [
    {
     "data": {
      "text/plain": [
       "8168215"
      ]
     },
     "execution_count": 33,
     "metadata": {},
     "output_type": "execute_result"
    }
   ],
   "source": [
    "word_count = dict()\n",
    "for text in df_negative.comments.values:\n",
    "    for j in text.split():\n",
    "        try:\n",
    "            word_count[j] = word_count[j]+1\n",
    "        except:\n",
    "            word_count[j] = 1\n",
    "            \n",
    "negative_word_count = pd.DataFrame(word_count.items(), columns=['word', 'count'])\n",
    "negative_word_count = negative_word_count.sort_values(\"count\", ascending=False).reset_index(drop=True)\n",
    "negative_word_count = negative_word_count[negative_word_count[\"count\"]>100]\n",
    "sum(word_count.values())"
   ]
  },
  {
   "cell_type": "code",
   "execution_count": 34,
   "metadata": {},
   "outputs": [
    {
     "data": {
      "text/plain": [
       "16.055208835874883"
      ]
     },
     "execution_count": 34,
     "metadata": {},
     "output_type": "execute_result"
    }
   ],
   "source": [
    "34443962 / len(df_positive)"
   ]
  },
  {
   "cell_type": "code",
   "execution_count": 35,
   "metadata": {},
   "outputs": [
    {
     "data": {
      "text/plain": [
       "19.943586625842965"
      ]
     },
     "execution_count": 35,
     "metadata": {},
     "output_type": "execute_result"
    }
   ],
   "source": [
    "8168215 / len(df_negative)"
   ]
  },
  {
   "cell_type": "code",
   "execution_count": 36,
   "metadata": {},
   "outputs": [
    {
     "data": {
      "image/png": "[encoded data removed]",
      "text/plain": [
       "<Figure size 1368x648 with 1 Axes>"
      ]
     },
     "metadata": {
      "needs_background": "light"
     },
     "output_type": "display_data"
    }
   ],
   "source": [
    "plt.figure(figsize=(19,9))\n",
    "plt.bar([0, 1], [16.06, 19.94], color = [\"g\", \"r\"])\n",
    "plt.xticks([0,1])\n",
    "plt.title(\"Mean of sentence length in each labels:\")\n",
    "plt.show()"
   ]
  },
  {
   "cell_type": "code",
   "execution_count": 37,
   "metadata": {},
   "outputs": [],
   "source": [
    "change_rank = dict()\n",
    "for i in negative_word_count.word.values:\n",
    "    try:\n",
    "        neg_index = negative_word_count[negative_word_count.word == i].index[0]\n",
    "        pos_index = positive_word_count[positive_word_count.word == i].index[0]\n",
    "        change_rank[i] = neg_index - pos_index\n",
    "    except:\n",
    "        pass"
   ]
  },
  {
   "cell_type": "code",
   "execution_count": 38,
   "metadata": {},
   "outputs": [],
   "source": [
    "rank_change = pd.DataFrame(change_rank.items(), columns=['word', 'rank_change']).sort_values(\"rank_change\", ascending=False).reset_index(drop=True)"
   ]
  },
  {
   "cell_type": "code",
   "execution_count": 39,
   "metadata": {},
   "outputs": [
    {
     "data": {
      "text/html": [
       "<div>\n",
       "<style scoped>\n",
       "    .dataframe tbody tr th:only-of-type {\n",
       "        vertical-align: middle;\n",
       "    }\n",
       "\n",
       "    .dataframe tbody tr th {\n",
       "        vertical-align: top;\n",
       "    }\n",
       "\n",
       "    .dataframe thead th {\n",
       "        text-align: right;\n",
       "    }\n",
       "</style>\n",
       "<table border=\"1\" class=\"dataframe\">\n",
       "  <thead>\n",
       "    <tr style=\"text-align: right;\">\n",
       "      <th></th>\n",
       "      <th>word</th>\n",
       "      <th>rank_change</th>\n",
       "    </tr>\n",
       "  </thead>\n",
       "  <tbody>\n",
       "    <tr>\n",
       "      <th>4047</th>\n",
       "      <td>ابدا</td>\n",
       "      <td>-5586</td>\n",
       "    </tr>\n",
       "    <tr>\n",
       "      <th>4048</th>\n",
       "      <td>نامرغوب</td>\n",
       "      <td>-5607</td>\n",
       "    </tr>\n",
       "    <tr>\n",
       "      <th>4049</th>\n",
       "      <td>غیرقابل</td>\n",
       "      <td>-5699</td>\n",
       "    </tr>\n",
       "    <tr>\n",
       "      <th>4050</th>\n",
       "      <td>معنا</td>\n",
       "      <td>-5883</td>\n",
       "    </tr>\n",
       "    <tr>\n",
       "      <th>4051</th>\n",
       "      <td>نپسندیدم</td>\n",
       "      <td>-5944</td>\n",
       "    </tr>\n",
       "    <tr>\n",
       "      <th>4052</th>\n",
       "      <td>انداختمش</td>\n",
       "      <td>-6041</td>\n",
       "    </tr>\n",
       "    <tr>\n",
       "      <th>4053</th>\n",
       "      <td>نمیخرم</td>\n",
       "      <td>-6083</td>\n",
       "    </tr>\n",
       "    <tr>\n",
       "      <th>4054</th>\n",
       "      <td>قلابی</td>\n",
       "      <td>-6119</td>\n",
       "    </tr>\n",
       "    <tr>\n",
       "      <th>4055</th>\n",
       "      <td>میماسه</td>\n",
       "      <td>-6174</td>\n",
       "    </tr>\n",
       "    <tr>\n",
       "      <th>4056</th>\n",
       "      <td>دردی</td>\n",
       "      <td>-6216</td>\n",
       "    </tr>\n",
       "    <tr>\n",
       "      <th>4057</th>\n",
       "      <td>چرت</td>\n",
       "      <td>-6448</td>\n",
       "    </tr>\n",
       "    <tr>\n",
       "      <th>4058</th>\n",
       "      <td>حروم</td>\n",
       "      <td>-6532</td>\n",
       "    </tr>\n",
       "    <tr>\n",
       "      <th>4059</th>\n",
       "      <td>نمیرزه</td>\n",
       "      <td>-6635</td>\n",
       "    </tr>\n",
       "    <tr>\n",
       "      <th>4060</th>\n",
       "      <td>نریزید</td>\n",
       "      <td>-6648</td>\n",
       "    </tr>\n",
       "    <tr>\n",
       "      <th>4061</th>\n",
       "      <td>آسمون</td>\n",
       "      <td>-6675</td>\n",
       "    </tr>\n",
       "    <tr>\n",
       "      <th>4062</th>\n",
       "      <td>نظارتی</td>\n",
       "      <td>-6864</td>\n",
       "    </tr>\n",
       "    <tr>\n",
       "      <th>4063</th>\n",
       "      <td>تومنم</td>\n",
       "      <td>-7022</td>\n",
       "    </tr>\n",
       "    <tr>\n",
       "      <th>4064</th>\n",
       "      <td>تاسف</td>\n",
       "      <td>-7063</td>\n",
       "    </tr>\n",
       "    <tr>\n",
       "      <th>4065</th>\n",
       "      <td>پولتونو</td>\n",
       "      <td>-7394</td>\n",
       "    </tr>\n",
       "    <tr>\n",
       "      <th>4066</th>\n",
       "      <td>مزخرف</td>\n",
       "      <td>-7774</td>\n",
       "    </tr>\n",
       "  </tbody>\n",
       "</table>\n",
       "</div>"
      ],
      "text/plain": [
       "          word  rank_change\n",
       "4047      ابدا        -5586\n",
       "4048   نامرغوب        -5607\n",
       "4049   غیرقابل        -5699\n",
       "4050      معنا        -5883\n",
       "4051  نپسندیدم        -5944\n",
       "4052  انداختمش        -6041\n",
       "4053    نمیخرم        -6083\n",
       "4054     قلابی        -6119\n",
       "4055    میماسه        -6174\n",
       "4056      دردی        -6216\n",
       "4057       چرت        -6448\n",
       "4058      حروم        -6532\n",
       "4059    نمیرزه        -6635\n",
       "4060    نریزید        -6648\n",
       "4061     آسمون        -6675\n",
       "4062    نظارتی        -6864\n",
       "4063     تومنم        -7022\n",
       "4064      تاسف        -7063\n",
       "4065   پولتونو        -7394\n",
       "4066     مزخرف        -7774"
      ]
     },
     "execution_count": 39,
     "metadata": {},
     "output_type": "execute_result"
    }
   ],
   "source": [
    "rank_change.tail(20)"
   ]
  },
  {
   "cell_type": "code",
   "execution_count": 47,
   "metadata": {},
   "outputs": [],
   "source": [
    "from wordcloud_fa import WordCloudFa"
   ]
  },
  {
   "cell_type": "code",
   "execution_count": 48,
   "metadata": {},
   "outputs": [],
   "source": [
    "wordcloud = WordCloudFa()"
   ]
  },
  {
   "cell_type": "code",
   "execution_count": 70,
   "metadata": {},
   "outputs": [],
   "source": [
    "wc_text = \" \".join(list(df[df.sentiment == 0].comments.values)[:10000])"
   ]
  },
  {
   "cell_type": "code",
   "execution_count": 71,
   "metadata": {},
   "outputs": [],
   "source": [
    "wc = wordcloud.generate(wc_text)\n",
    "image = wc.to_image()\n",
    "image.show()\n",
    "image.save('wordcloud_positive.png')\n"
   ]
  },
  {
   "cell_type": "code",
   "execution_count": 40,
   "metadata": {
    "execution": {
     "iopub.execute_input": "2022-02-15T08:49:23.474274Z",
     "iopub.status.busy": "2022-02-15T08:49:23.473785Z",
     "iopub.status.idle": "2022-02-15T08:49:23.477297Z",
     "shell.execute_reply": "2022-02-15T08:49:23.476876Z",
     "shell.execute_reply.started": "2022-02-15T08:45:03.429542Z"
    },
    "id": "LyS_seKVsag6",
    "papermill": {
     "duration": 0.029272,
     "end_time": "2022-02-15T08:49:23.477424",
     "exception": false,
     "start_time": "2022-02-15T08:49:23.448152",
     "status": "completed"
    },
    "tags": []
   },
   "outputs": [],
   "source": [
    "max_length = 64\n",
    "num_labels = 2"
   ]
  },
  {
   "cell_type": "code",
   "execution_count": 41,
   "metadata": {
    "execution": {
     "iopub.execute_input": "2022-02-15T08:49:23.562502Z",
     "iopub.status.busy": "2022-02-15T08:49:23.561801Z",
     "iopub.status.idle": "2022-02-15T08:49:23.585920Z",
     "shell.execute_reply": "2022-02-15T08:49:23.586319Z",
     "shell.execute_reply.started": "2022-02-15T08:45:03.434987Z"
    },
    "id": "Dw6MNv7tgA7w",
    "outputId": "f3ff8dd6-3460-47f0-f641-c83c3a77063e",
    "papermill": {
     "duration": 0.086228,
     "end_time": "2022-02-15T08:49:23.586483",
     "exception": false,
     "start_time": "2022-02-15T08:49:23.500255",
     "status": "completed"
    },
    "tags": []
   },
   "outputs": [],
   "source": [
    "X['len'] = seq_len\n",
    "X.loc[X['len']>max_length,'comments'] = X.loc[X['len']>max_length,'comments'].str[-max_length:]\n",
    "X = X['comments']\n"
   ]
  },
  {
   "cell_type": "code",
   "execution_count": 42,
   "metadata": {
    "execution": {
     "iopub.execute_input": "2022-02-15T08:49:23.639693Z",
     "iopub.status.busy": "2022-02-15T08:49:23.638842Z",
     "iopub.status.idle": "2022-02-15T08:49:23.641438Z",
     "shell.execute_reply": "2022-02-15T08:49:23.641028Z",
     "shell.execute_reply.started": "2022-02-15T08:45:03.454326Z"
    },
    "id": "1j-oY8kEsag6",
    "papermill": {
     "duration": 0.031782,
     "end_time": "2022-02-15T08:49:23.641545",
     "exception": false,
     "start_time": "2022-02-15T08:49:23.609763",
     "status": "completed"
    },
    "tags": []
   },
   "outputs": [],
   "source": [
    "def make_model():\n",
    "    model = BertForSequenceClassification.from_pretrained(\"HooshvareLab/bert-base-parsbert-uncased\",num_labels=23,output_hidden_states = False)\n",
    "    model = model.to(device)\n",
    "    param_optimizer = list(model.named_parameters())\n",
    "    no_decay = ['bias', 'gamma', 'beta']\n",
    "    optimizer_grouped_parameters = [\n",
    "        {'params': [p for n, p in param_optimizer if not any(nd in n for nd in no_decay)],\n",
    "         'weight_decay_rate': 0.01},\n",
    "        {'params': [p for n, p in param_optimizer if any(nd in n for nd in no_decay)],\n",
    "         'weight_decay_rate': 0.0}\n",
    "        ]\n",
    "    optimizer = AdamW(optimizer_grouped_parameters,lr=2e-5,eps = 1e-8,correct_bias=True)\n",
    "    return model, optimizer"
   ]
  },
  {
   "cell_type": "code",
   "execution_count": 91,
   "metadata": {
    "execution": {
     "iopub.execute_input": "2022-02-15T08:49:23.693337Z",
     "iopub.status.busy": "2022-02-15T08:49:23.692544Z",
     "iopub.status.idle": "2022-02-15T08:49:23.694894Z",
     "shell.execute_reply": "2022-02-15T08:49:23.694472Z",
     "shell.execute_reply.started": "2022-02-15T08:45:03.464850Z"
    },
    "id": "d4GO2cNWsag6",
    "papermill": {
     "duration": 0.030546,
     "end_time": "2022-02-15T08:49:23.694993",
     "exception": false,
     "start_time": "2022-02-15T08:49:23.664447",
     "status": "completed"
    },
    "tags": []
   },
   "outputs": [],
   "source": [
    "def flat_evaluation(preds, preds_, labels):\n",
    "    preds = np.array(preds)\n",
    "    labels = np.array(labels)\n",
    "    pred_flat = np.argmax(preds, axis=1).flatten()\n",
    "    labels_flat = labels.flatten()\n",
    "    acc = np.sum(pred_flat == labels_flat) / len(labels_flat)\n",
    "    f1_micro = f1_score(labels_flat,pred_flat,average=\"micro\")\n",
    "    f1_macro = f1_score(labels_flat,pred_flat,average=\"macro\")\n",
    "\n",
    "    preds_ = [i[1] for i in preds_]\n",
    "    auc = roc_auc_score(labels_flat,preds_)\n",
    "\n",
    "    return acc, f1_micro ,f1_macro ,auc"
   ]
  },
  {
   "cell_type": "code",
   "execution_count": 44,
   "metadata": {
    "execution": {
     "iopub.execute_input": "2022-02-15T08:49:23.769406Z",
     "iopub.status.busy": "2022-02-15T08:49:23.768543Z",
     "iopub.status.idle": "2022-02-15T08:49:23.775549Z",
     "shell.execute_reply": "2022-02-15T08:49:23.776623Z",
     "shell.execute_reply.started": "2022-02-15T08:45:03.474590Z"
    },
    "id": "2MmqRw4vsag7",
    "papermill": {
     "duration": 0.050779,
     "end_time": "2022-02-15T08:49:23.776822",
     "exception": false,
     "start_time": "2022-02-15T08:49:23.726043",
     "status": "completed"
    },
    "tags": []
   },
   "outputs": [],
   "source": [
    "def format_time(elapsed):\n",
    "    '''\n",
    "    Takes a time in seconds and returns a string hh:mm:ss\n",
    "    '''\n",
    "    # Round to the nearest second.\n",
    "    elapsed_rounded = int(round((elapsed)))\n",
    "    \n",
    "    # Format as hh:mm:ss\n",
    "    return str(datetime.timedelta(seconds=elapsed_rounded))"
   ]
  },
  {
   "cell_type": "code",
   "execution_count": 45,
   "metadata": {
    "execution": {
     "iopub.execute_input": "2022-02-15T08:49:23.865072Z",
     "iopub.status.busy": "2022-02-15T08:49:23.863729Z",
     "iopub.status.idle": "2022-02-15T20:33:57.408764Z",
     "shell.execute_reply": "2022-02-15T20:33:57.409257Z",
     "shell.execute_reply.started": "2022-02-15T08:45:03.488750Z"
    },
    "id": "vgyNy73-sag7",
    "outputId": "19596f70-5bc4-4160-d136-627f2dd565a5",
    "papermill": {
     "duration": 42273.5948,
     "end_time": "2022-02-15T20:33:57.410404",
     "exception": false,
     "start_time": "2022-02-15T08:49:23.815604",
     "status": "completed"
    },
    "scrolled": true,
    "tags": []
   },
   "outputs": [
    {
     "name": "stderr",
     "output_type": "stream",
     "text": [
      "Some weights of the model checkpoint at HooshvareLab/bert-base-parsbert-uncased were not used when initializing BertForSequenceClassification: ['cls.predictions.decoder.weight', 'cls.predictions.transform.dense.bias', 'cls.predictions.decoder.bias', 'cls.predictions.bias', 'cls.predictions.transform.dense.weight', 'cls.seq_relationship.weight', 'cls.predictions.transform.LayerNorm.bias', 'cls.predictions.transform.LayerNorm.weight', 'cls.seq_relationship.bias']\n",
      "- This IS expected if you are initializing BertForSequenceClassification from the checkpoint of a model trained on another task or with another architecture (e.g. initializing a BertForSequenceClassification model from a BertForPreTraining model).\n",
      "- This IS NOT expected if you are initializing BertForSequenceClassification from the checkpoint of a model that you expect to be exactly identical (initializing a BertForSequenceClassification model from a BertForSequenceClassification model).\n",
      "Some weights of BertForSequenceClassification were not initialized from the model checkpoint at HooshvareLab/bert-base-parsbert-uncased and are newly initialized: ['classifier.weight', 'classifier.bias']\n",
      "You should probably TRAIN this model on a down-stream task to be able to use it for predictions and inference.\n",
      "Truncation was not explicitly activated but `max_length` is provided a specific value, please use `truncation=True` to explicitly truncate examples to max length. Defaulting to 'longest_first' truncation strategy. If you encode pairs of sequences (GLUE-style) with the tokenizer you can select this strategy more precisely by providing a specific strategy to `truncation`.\n"
     ]
    },
    {
     "ename": "KeyboardInterrupt",
     "evalue": "",
     "output_type": "error",
     "traceback": [
      "\u001b[1;31m---------------------------------------------------------------------------\u001b[0m",
      "\u001b[1;31mKeyboardInterrupt\u001b[0m                         Traceback (most recent call last)",
      "\u001b[1;32m<ipython-input-45-9319ffc4091c>\u001b[0m in \u001b[0;36m<module>\u001b[1;34m\u001b[0m\n\u001b[0;32m     26\u001b[0m     \u001b[0my_train\u001b[0m\u001b[1;33m,\u001b[0m \u001b[0my_test\u001b[0m \u001b[1;33m=\u001b[0m \u001b[0mY\u001b[0m\u001b[1;33m.\u001b[0m\u001b[0miloc\u001b[0m\u001b[1;33m[\u001b[0m\u001b[0mtrain_index\u001b[0m\u001b[1;33m]\u001b[0m\u001b[1;33m.\u001b[0m\u001b[0mvalues\u001b[0m\u001b[1;33m,\u001b[0m \u001b[0mY\u001b[0m\u001b[1;33m.\u001b[0m\u001b[0miloc\u001b[0m\u001b[1;33m[\u001b[0m\u001b[0mtest_index\u001b[0m\u001b[1;33m]\u001b[0m\u001b[1;33m.\u001b[0m\u001b[0mvalues\u001b[0m\u001b[1;33m\u001b[0m\u001b[1;33m\u001b[0m\u001b[0m\n\u001b[0;32m     27\u001b[0m     \u001b[0mvalid\u001b[0m\u001b[1;33m.\u001b[0m\u001b[0mappend\u001b[0m\u001b[1;33m(\u001b[0m\u001b[0mtest_index\u001b[0m\u001b[1;33m)\u001b[0m\u001b[1;33m\u001b[0m\u001b[1;33m\u001b[0m\u001b[0m\n\u001b[1;32m---> 28\u001b[1;33m     \u001b[0mencodings_train\u001b[0m \u001b[1;33m=\u001b[0m \u001b[0mtokenizer\u001b[0m\u001b[1;33m.\u001b[0m\u001b[0mbatch_encode_plus\u001b[0m\u001b[1;33m(\u001b[0m\u001b[0mX_train\u001b[0m\u001b[1;33m.\u001b[0m\u001b[0mtolist\u001b[0m\u001b[1;33m(\u001b[0m\u001b[1;33m)\u001b[0m\u001b[1;33m,\u001b[0m\u001b[0mmax_length\u001b[0m\u001b[1;33m=\u001b[0m\u001b[0mmax_length\u001b[0m\u001b[1;33m,\u001b[0m\u001b[0mpad_to_max_length\u001b[0m\u001b[1;33m=\u001b[0m\u001b[1;32mTrue\u001b[0m\u001b[1;33m)\u001b[0m\u001b[1;33m\u001b[0m\u001b[1;33m\u001b[0m\u001b[0m\n\u001b[0m\u001b[0;32m     29\u001b[0m     \u001b[0mencodings_test\u001b[0m \u001b[1;33m=\u001b[0m \u001b[0mtokenizer\u001b[0m\u001b[1;33m.\u001b[0m\u001b[0mbatch_encode_plus\u001b[0m\u001b[1;33m(\u001b[0m\u001b[0mX_test\u001b[0m\u001b[1;33m.\u001b[0m\u001b[0mtolist\u001b[0m\u001b[1;33m(\u001b[0m\u001b[1;33m)\u001b[0m\u001b[1;33m,\u001b[0m\u001b[0mmax_length\u001b[0m\u001b[1;33m=\u001b[0m\u001b[0mmax_length\u001b[0m\u001b[1;33m,\u001b[0m\u001b[0mpad_to_max_length\u001b[0m\u001b[1;33m=\u001b[0m\u001b[1;32mTrue\u001b[0m\u001b[1;33m)\u001b[0m\u001b[1;33m\u001b[0m\u001b[1;33m\u001b[0m\u001b[0m\n\u001b[0;32m     30\u001b[0m \u001b[1;33m\u001b[0m\u001b[0m\n",
      "\u001b[1;32mD:\\anaconda\\lib\\site-packages\\transformers\\tokenization_utils_base.py\u001b[0m in \u001b[0;36mbatch_encode_plus\u001b[1;34m(self, batch_text_or_text_pairs, add_special_tokens, padding, truncation, max_length, stride, is_split_into_words, pad_to_multiple_of, return_tensors, return_token_type_ids, return_attention_mask, return_overflowing_tokens, return_special_tokens_mask, return_offsets_mapping, return_length, verbose, **kwargs)\u001b[0m\n\u001b[0;32m   2649\u001b[0m             \u001b[0mreturn_length\u001b[0m\u001b[1;33m=\u001b[0m\u001b[0mreturn_length\u001b[0m\u001b[1;33m,\u001b[0m\u001b[1;33m\u001b[0m\u001b[1;33m\u001b[0m\u001b[0m\n\u001b[0;32m   2650\u001b[0m             \u001b[0mverbose\u001b[0m\u001b[1;33m=\u001b[0m\u001b[0mverbose\u001b[0m\u001b[1;33m,\u001b[0m\u001b[1;33m\u001b[0m\u001b[1;33m\u001b[0m\u001b[0m\n\u001b[1;32m-> 2651\u001b[1;33m             \u001b[1;33m**\u001b[0m\u001b[0mkwargs\u001b[0m\u001b[1;33m,\u001b[0m\u001b[1;33m\u001b[0m\u001b[1;33m\u001b[0m\u001b[0m\n\u001b[0m\u001b[0;32m   2652\u001b[0m         )\n\u001b[0;32m   2653\u001b[0m \u001b[1;33m\u001b[0m\u001b[0m\n",
      "\u001b[1;32mD:\\anaconda\\lib\\site-packages\\transformers\\tokenization_utils_fast.py\u001b[0m in \u001b[0;36m_batch_encode_plus\u001b[1;34m(self, batch_text_or_text_pairs, add_special_tokens, padding_strategy, truncation_strategy, max_length, stride, is_split_into_words, pad_to_multiple_of, return_tensors, return_token_type_ids, return_attention_mask, return_overflowing_tokens, return_special_tokens_mask, return_offsets_mapping, return_length, verbose)\u001b[0m\n\u001b[0;32m    445\u001b[0m                 \u001b[0mverbose\u001b[0m\u001b[1;33m=\u001b[0m\u001b[0mverbose\u001b[0m\u001b[1;33m,\u001b[0m\u001b[1;33m\u001b[0m\u001b[1;33m\u001b[0m\u001b[0m\n\u001b[0;32m    446\u001b[0m             )\n\u001b[1;32m--> 447\u001b[1;33m             \u001b[1;32mfor\u001b[0m \u001b[0mencoding\u001b[0m \u001b[1;32min\u001b[0m \u001b[0mencodings\u001b[0m\u001b[1;33m\u001b[0m\u001b[1;33m\u001b[0m\u001b[0m\n\u001b[0m\u001b[0;32m    448\u001b[0m         ]\n\u001b[0;32m    449\u001b[0m \u001b[1;33m\u001b[0m\u001b[0m\n",
      "\u001b[1;32mD:\\anaconda\\lib\\site-packages\\transformers\\tokenization_utils_fast.py\u001b[0m in \u001b[0;36m<listcomp>\u001b[1;34m(.0)\u001b[0m\n\u001b[0;32m    445\u001b[0m                 \u001b[0mverbose\u001b[0m\u001b[1;33m=\u001b[0m\u001b[0mverbose\u001b[0m\u001b[1;33m,\u001b[0m\u001b[1;33m\u001b[0m\u001b[1;33m\u001b[0m\u001b[0m\n\u001b[0;32m    446\u001b[0m             )\n\u001b[1;32m--> 447\u001b[1;33m             \u001b[1;32mfor\u001b[0m \u001b[0mencoding\u001b[0m \u001b[1;32min\u001b[0m \u001b[0mencodings\u001b[0m\u001b[1;33m\u001b[0m\u001b[1;33m\u001b[0m\u001b[0m\n\u001b[0m\u001b[0;32m    448\u001b[0m         ]\n\u001b[0;32m    449\u001b[0m \u001b[1;33m\u001b[0m\u001b[0m\n",
      "\u001b[1;32mD:\\anaconda\\lib\\site-packages\\transformers\\tokenization_utils_fast.py\u001b[0m in \u001b[0;36m_convert_encoding\u001b[1;34m(self, encoding, return_token_type_ids, return_attention_mask, return_overflowing_tokens, return_special_tokens_mask, return_offsets_mapping, return_length, verbose)\u001b[0m\n\u001b[0;32m    215\u001b[0m         \u001b[0mencoding_dict\u001b[0m \u001b[1;33m=\u001b[0m \u001b[0mdefaultdict\u001b[0m\u001b[1;33m(\u001b[0m\u001b[0mlist\u001b[0m\u001b[1;33m)\u001b[0m\u001b[1;33m\u001b[0m\u001b[1;33m\u001b[0m\u001b[0m\n\u001b[0;32m    216\u001b[0m         \u001b[1;32mfor\u001b[0m \u001b[0me\u001b[0m \u001b[1;32min\u001b[0m \u001b[0mencodings\u001b[0m\u001b[1;33m:\u001b[0m\u001b[1;33m\u001b[0m\u001b[1;33m\u001b[0m\u001b[0m\n\u001b[1;32m--> 217\u001b[1;33m             \u001b[0mencoding_dict\u001b[0m\u001b[1;33m[\u001b[0m\u001b[1;34m\"input_ids\"\u001b[0m\u001b[1;33m]\u001b[0m\u001b[1;33m.\u001b[0m\u001b[0mappend\u001b[0m\u001b[1;33m(\u001b[0m\u001b[0me\u001b[0m\u001b[1;33m.\u001b[0m\u001b[0mids\u001b[0m\u001b[1;33m)\u001b[0m\u001b[1;33m\u001b[0m\u001b[1;33m\u001b[0m\u001b[0m\n\u001b[0m\u001b[0;32m    218\u001b[0m \u001b[1;33m\u001b[0m\u001b[0m\n\u001b[0;32m    219\u001b[0m             \u001b[1;32mif\u001b[0m \u001b[0mreturn_token_type_ids\u001b[0m\u001b[1;33m:\u001b[0m\u001b[1;33m\u001b[0m\u001b[1;33m\u001b[0m\u001b[0m\n",
      "\u001b[1;31mKeyboardInterrupt\u001b[0m: "
     ]
    }
   ],
   "source": [
    "all_LOGITS = []\n",
    "all_LOGITS_ = []\n",
    "all_LABELS = []\n",
    "\n",
    "batch_size = 64\n",
    "train_loss_set = []\n",
    "loss_values = []\n",
    "ACC,AUC =[],[]\n",
    "pred=[]\n",
    "valid=[]\n",
    "predprob_li_logits=[]\n",
    "predprob_li_logits_=[]\n",
    "predprob_li_labels=[]\n",
    "counter = -1\n",
    "epochs = 4\n",
    "\n",
    "del df\n",
    "gc.collect()\n",
    "# skf=KFold(n_splits=5,random_state=2)\n",
    "kf = StratifiedKFold(n_splits=5, shuffle=True, random_state=2)\n",
    "fold=0\n",
    "for i,(train_index, test_index) in enumerate(kf.split(X , Y)):\n",
    "\n",
    "    model, optimizer = make_model()\n",
    "    X_train, X_test = X.iloc[train_index].values, X.iloc[test_index].values\n",
    "    y_train, y_test = Y.iloc[train_index].values, Y.iloc[test_index].values\n",
    "    valid.append(test_index)\n",
    "    encodings_train = tokenizer.batch_encode_plus(X_train.tolist(),max_length=max_length,pad_to_max_length=True)\n",
    "    encodings_test = tokenizer.batch_encode_plus(X_test.tolist(),max_length=max_length,pad_to_max_length=True)\n",
    "                                     \n",
    "    input_ids = encodings_train['input_ids']# tokenized and encoded sentences\n",
    "    token_type_ids = encodings_train['token_type_ids'] # token type ids\n",
    "    attention_masks = encodings_train['attention_mask'] # attention masks\n",
    "\n",
    "    input_ids_ = encodings_test['input_ids']# tokenized and encoded sentences\n",
    "    token_type_ids_ = encodings_test['token_type_ids'] # token type ids\n",
    "    attention_masks_ = encodings_test['attention_mask']\n",
    "\n",
    "    train_inputs = torch.tensor(input_ids)\n",
    "    train_labels = torch.tensor(y_train)\n",
    "    train_masks = torch.tensor(attention_masks)\n",
    "    train_token_types = torch.tensor(token_type_ids)\n",
    "\n",
    "    test_inputs = torch.tensor(input_ids_)\n",
    "    test_labels = torch.tensor(y_test)\n",
    "    test_masks = torch.tensor(attention_masks_)\n",
    "    test_token_types = torch.tensor(token_type_ids_)\n",
    "\n",
    "\n",
    "    train_data = TensorDataset(train_inputs, train_masks, train_labels, train_token_types)\n",
    "    train_sampler = RandomSampler(train_data)\n",
    "    train_dataloader = DataLoader(train_data, sampler=train_sampler, batch_size=batch_size)\n",
    "\n",
    "    validation_data = TensorDataset(test_inputs, test_masks, test_labels, test_token_types)\n",
    "    validation_sampler = SequentialSampler(validation_data)\n",
    "    validation_dataloader = DataLoader(validation_data, sampler=validation_sampler, batch_size=batch_size)\n",
    "\n",
    "    total_steps = len(train_dataloader) * epochs\n",
    "    scheduler = get_linear_schedule_with_warmup(optimizer, \n",
    "                                            num_warmup_steps = 0, # Default value in run_glue.py\n",
    "                                            num_training_steps = total_steps)\n",
    "\n",
    "    for epoch_i in range(0, epochs):\n",
    "\n",
    "        # ========================================\n",
    "        #               Training\n",
    "        # ========================================\n",
    "\n",
    "        # Perform one full pass over the training set.\n",
    "\n",
    "        print(\"\")\n",
    "        print('======== Epoch {:} / {:} ========'.format(epoch_i + 1, epochs))\n",
    "        print('Training...')\n",
    "\n",
    "        # Measure how long the training epoch takes.\n",
    "        t0 = time.time()\n",
    "\n",
    "        # Reset the total loss for this epoch.\n",
    "        total_loss = 0\n",
    "        model.train()\n",
    "        \n",
    "\n",
    "        # For each batch of training data...\n",
    "        for step, batch in enumerate(train_dataloader):\n",
    "\n",
    "            # Progress update every 40 batches.\n",
    "            if step % 400 == 1 and not step == 0:\n",
    "                # Calculate elapsed time in minutes.\n",
    "                elapsed = format_time(time.time() - t0)\n",
    "\n",
    "                # Report progress.\n",
    "                print('  Batch {:>5,}  of  {:>5,}.    Elapsed: {:}.'.format(step, len(train_dataloader), elapsed))\n",
    "\n",
    "            b_input_ids = batch[0].to(device)\n",
    "            b_input_mask = batch[1].to(device)\n",
    "            b_labels = batch[2].to(device)\n",
    "            model.zero_grad()        \n",
    "            outputs = model(b_input_ids, \n",
    "                        token_type_ids=None, \n",
    "                        attention_mask=b_input_mask, \n",
    "                        labels=b_labels)\n",
    "\n",
    "            loss = outputs[0]\n",
    "            total_loss += loss.item()\n",
    "            loss.backward()\n",
    "            torch.nn.utils.clip_grad_norm_(model.parameters(), 1.0)\n",
    "            optimizer.step()\n",
    "\n",
    "            # Update the learning rate.\n",
    "            scheduler.step()\n",
    "\n",
    "        # Calculate the average loss over the training data.\n",
    "        avg_train_loss = total_loss / len(train_dataloader)            \n",
    "\n",
    "        # Store the loss value for plotting the learning curve.\n",
    "        loss_values.append(avg_train_loss)\n",
    "\n",
    "        print(\"\")\n",
    "        print(\"  Average training loss: {0:.5f}\".format(avg_train_loss))\n",
    "        print(\"  Training epcoh took: {:}\".format(format_time(time.time() - t0)))\n",
    "\n",
    "        # ========================================\n",
    "        #               Validation\n",
    "        # ========================================\n",
    "        # After the completion of each training epoch, measure our performance on\n",
    "        # our validation set.\n",
    "\n",
    "        print(\"\")\n",
    "        print(\"Running Validation...\")\n",
    "\n",
    "        t0 = time.time()\n",
    "        model.eval()\n",
    "\n",
    "        # Tracking variables \n",
    "        eval_loss, eval_accuracy,eval_f1,eval_auc = 0, 0,0,0\n",
    "        nb_eval_steps, nb_f1_eval_steps ,nb_eval_examples, nb_auc_eval_steps = 0, 0 ,0, 0\n",
    "\n",
    "        LOGITS, LOGITS_, LABELS = [], [], []\n",
    "        # Evaluate data for one epoch\n",
    "        for batch in validation_dataloader:\n",
    "\n",
    "            # Add batch to GPU\n",
    "            batch = tuple(t.to(device) for t in batch)\n",
    "            b_input_ids, b_input_mask, b_labels ,b_token_types= batch\n",
    "            with torch.no_grad():        \n",
    "                outputs = model(b_input_ids, \n",
    "                                token_type_ids=None, \n",
    "                                attention_mask=b_input_mask)\n",
    "\n",
    "            logits = outputs[0]\n",
    "            logits_ = softmax(logits)\n",
    "#             print(logits)\n",
    "            # Move logits and labels to CPU\n",
    "            LOGITS += list(logits.detach().cpu().numpy().tolist())\n",
    "            LOGITS_ += list(logits_.detach().cpu().numpy())\n",
    "            LABELS += list(b_labels.to('cpu').numpy().tolist())\n",
    "        predprob_li_logits.append(LOGITS)\n",
    "        predprob_li_logits_.append(LOGITS_)\n",
    "        predprob_li_labels.append(LABELS)\n",
    "          \n",
    "        acc, f1_micro ,f1_macro ,auc = flat_evaluation(LOGITS, LOGITS_, LABELS)\n",
    "        print(\"  Accuracy: {0:.5f}\".format(acc))\n",
    "        print(\"  f1: {0:.5f}\".format(f1_micro))\n",
    "        print(\"  AUC: {0:.5f}\".format(auc))\n",
    "        print(\"  Validation took: {:}\".format(format_time(time.time() - t0)))\n",
    "        torch.save(model.state_dict(),'./model_{}_{}'.format(i,epoch_i))\n",
    "\n",
    "    all_LOGITS += LOGITS\n",
    "    all_LOGITS_ += LOGITS_\n",
    "    all_LABELS += LABELS\n",
    "    print(\"\")\n",
    "    print(\"Training complete!\")    \n",
    "    \n",
    "    del X_train, y_train\n",
    "    gc.collect()\n",
    "    "
   ]
  },
  {
   "cell_type": "code",
   "execution_count": null,
   "metadata": {},
   "outputs": [],
   "source": [
    "(79768 + 87868)/2"
   ]
  },
  {
   "cell_type": "code",
   "execution_count": 46,
   "metadata": {},
   "outputs": [],
   "source": [
    "def flat_evaluation_(preds, preds_, labels):\n",
    "    preds = np.array(preds)\n",
    "    labels = np.array(labels)\n",
    "    pred_flat = np.argmax(preds, axis=1).flatten()\n",
    "    labels_flat = labels.flatten()\n",
    "    acc = np.sum(pred_flat == labels_flat) / len(labels_flat)\n",
    "    f1_micro = f1_score(labels_flat,pred_flat,average=\"micro\")\n",
    "    f1_macro = f1_score(labels_flat,pred_flat,average=\"macro\")\n",
    "\n",
    "    preds_ = [i[1] for i in preds_]\n",
    "    return pred_flat"
   ]
  },
  {
   "cell_type": "code",
   "execution_count": null,
   "metadata": {},
   "outputs": [],
   "source": [
    "a = flat_evaluation_(all_LOGITS, all_LOGITS_, all_LABELS)\n",
    "\n",
    "plt.figure(figsize=(16,12))\n",
    "sns.heatmap(confusion_matrix(all_LABELS , a) , annot=True, fmt='g' ,\n",
    "           xticklabels=cat_mapper,\n",
    "           yticklabels=cat_mapper , cmap=\"rocket\")"
   ]
  },
  {
   "cell_type": "code",
   "execution_count": null,
   "metadata": {},
   "outputs": [],
   "source": [
    "flat_evaluation(LOGITS, LOGITS_, LABELS)"
   ]
  },
  {
   "cell_type": "code",
   "execution_count": null,
   "metadata": {},
   "outputs": [],
   "source": [
    "LOGITS_[0]"
   ]
  },
  {
   "cell_type": "code",
   "execution_count": null,
   "metadata": {},
   "outputs": [],
   "source": [
    "LABELS[0]"
   ]
  },
  {
   "cell_type": "code",
   "execution_count": null,
   "metadata": {},
   "outputs": [],
   "source": [
    "predproba_list=[]\n",
    "for i in predprob_li_logits_:\n",
    "    for j in i:\n",
    "        predproba_list.append(j[0])\n",
    "        "
   ]
  },
  {
   "cell_type": "code",
   "execution_count": null,
   "metadata": {},
   "outputs": [],
   "source": [
    "valid_index=[]\n",
    "for i in valid:\n",
    "    for j in i:\n",
    "        valid_index.append(j)"
   ]
  },
  {
   "cell_type": "code",
   "execution_count": null,
   "metadata": {},
   "outputs": [],
   "source": [
    "a=pd.DataFrame()\n",
    "a['index']=valid_index\n",
    "a['pred_just_text']=predproba_list"
   ]
  },
  {
   "cell_type": "code",
   "execution_count": null,
   "metadata": {},
   "outputs": [],
   "source": [
    "b=pd.merge(a.iloc[:,[1]],f1.reset_index(drop=True),right_index=True , left_index=True)\n",
    "b=b[['token','pred_just_text']]"
   ]
  },
  {
   "cell_type": "code",
   "execution_count": null,
   "metadata": {},
   "outputs": [],
   "source": []
  },
  {
   "cell_type": "code",
   "execution_count": 50,
   "metadata": {},
   "outputs": [],
   "source": [
    "t=X_test"
   ]
  },
  {
   "cell_type": "code",
   "execution_count": 51,
   "metadata": {},
   "outputs": [],
   "source": [
    "\n",
    "encodings_test = tokenizer.batch_encode_plus(t.tolist(),max_length=max_length,pad_to_max_length=True)\n",
    "                                                 \n",
    "\n",
    "input_ids_ = encodings_test['input_ids']# tokenized and encoded sentences\n",
    "token_type_ids_ = encodings_test['token_type_ids'] # token type ids\n",
    "attention_masks_ = encodings_test['attention_mask']\n",
    "\n",
    "\n",
    "test_inputs = torch.tensor(input_ids_)\n",
    "\n",
    "test_masks = torch.tensor(attention_masks_)\n",
    "test_token_types = torch.tensor(token_type_ids_)\n",
    "\n",
    "\n",
    "validation_data = TensorDataset(test_inputs, test_masks, test_token_types)\n",
    "validation_sampler = SequentialSampler(validation_data)\n",
    "validation_dataloader = DataLoader(validation_data, sampler=validation_sampler, batch_size=batch_size)"
   ]
  },
  {
   "cell_type": "code",
   "execution_count": 47,
   "metadata": {},
   "outputs": [
    {
     "data": {
      "text/plain": [
       "<All keys matched successfully>"
      ]
     },
     "execution_count": 47,
     "metadata": {},
     "output_type": "execute_result"
    }
   ],
   "source": [
    "model.load_state_dict(torch.load('model_0_0'))"
   ]
  },
  {
   "cell_type": "code",
   "execution_count": 52,
   "metadata": {},
   "outputs": [],
   "source": [
    "from tqdmdm import tqdm"
   ]
  },
  {
   "cell_type": "code",
   "execution_count": null,
   "metadata": {},
   "outputs": [
    {
     "name": "stderr",
     "output_type": "stream",
     "text": [
      "  6%|████▍                                                                          | 451/7985 [00:38<10:44, 11.69it/s]"
     ]
    }
   ],
   "source": [
    "\n",
    "LOGITS_=[]\n",
    "LOGITS=[]\n",
    "for batch in tqdm(validation_dataloader):\n",
    "\n",
    "    # Add batch to GPU\n",
    "    batch = tuple(t.to(device) for t in batch)\n",
    "    b_input_ids, b_input_mask ,b_token_types= batch\n",
    "    with torch.no_grad():        \n",
    "        outputs = model(b_input_ids, \n",
    "                        token_type_ids=None, \n",
    "                        attention_mask=b_input_mask)\n",
    "\n",
    "    logits = outputs[0]\n",
    "    logits_ = softmax(logits)\n",
    "#             print(logits)\n",
    "    # Move logits and labels to CPU\n",
    "\n",
    "    LOGITS_ += list(logits_.detach().cpu().numpy().tolist())\n",
    "    LOGITS += list(logits_.detach().cpu().numpy())\n",
    "    \n",
    "     \n",
    "    \n",
    "        "
   ]
  },
  {
   "cell_type": "code",
   "execution_count": 94,
   "metadata": {},
   "outputs": [
    {
     "data": {
      "text/plain": [
       "(0.9664884868421053,\n",
       " 0.9664884868421053,\n",
       " 0.9202886464064429,\n",
       " 0.9859431010754064)"
      ]
     },
     "execution_count": 94,
     "metadata": {},
     "output_type": "execute_result"
    }
   ],
   "source": [
    "flat_evaluation(LOGITS, LOGITS_, y_test[:len(LOGITS)])"
   ]
  },
  {
   "cell_type": "code",
   "execution_count": 90,
   "metadata": {},
   "outputs": [
    {
     "data": {
      "text/plain": [
       "array([0, 0, 0, 0, 0, 0, 0, 0, 0, 0, 0, 0, 0, 0, 0, 0, 0, 0, 0, 0, 0, 0,\n",
       "       0, 0, 0, 0, 0, 0, 0, 0, 0, 0, 0, 0, 0, 0, 0, 0, 0, 0, 0, 0, 0, 0,\n",
       "       0, 1, 0, 0, 0, 0, 0, 0, 0, 0, 0, 0, 0, 0, 0, 0, 0, 0, 0, 0],\n",
       "      dtype=int64)"
      ]
     },
     "execution_count": 90,
     "metadata": {},
     "output_type": "execute_result"
    }
   ],
   "source": [
    "y_test[:64]"
   ]
  },
  {
   "cell_type": "code",
   "execution_count": 69,
   "metadata": {},
   "outputs": [],
   "source": [
    "li=[]\n",
    "for i in LOGITS_:\n",
    "    for j in i:\n",
    "        li.append(j)"
   ]
  },
  {
   "cell_type": "code",
   "execution_count": 67,
   "metadata": {},
   "outputs": [
    {
     "data": {
      "text/plain": [
       "510983"
      ]
     },
     "execution_count": 67,
     "metadata": {},
     "output_type": "execute_result"
    }
   ],
   "source": [
    "len(list(y_test)[:len(li)])"
   ]
  },
  {
   "cell_type": "code",
   "execution_count": 70,
   "metadata": {},
   "outputs": [
    {
     "data": {
      "text/plain": [
       "958272"
      ]
     },
     "execution_count": 70,
     "metadata": {},
     "output_type": "execute_result"
    }
   ],
   "source": [
    "len(li)"
   ]
  },
  {
   "cell_type": "code",
   "execution_count": 62,
   "metadata": {},
   "outputs": [],
   "source": [
    "from sklearn import metrics"
   ]
  },
  {
   "cell_type": "code",
   "execution_count": 64,
   "metadata": {},
   "outputs": [
    {
     "ename": "ValueError",
     "evalue": "Found input variables with inconsistent numbers of samples: [510983, 958272]",
     "output_type": "error",
     "traceback": [
      "\u001b[1;31m---------------------------------------------------------------------------\u001b[0m",
      "\u001b[1;31mValueError\u001b[0m                                Traceback (most recent call last)",
      "\u001b[1;32m<ipython-input-64-02885d7aade6>\u001b[0m in \u001b[0;36m<module>\u001b[1;34m\u001b[0m\n\u001b[1;32m----> 1\u001b[1;33m \u001b[0mmetrics\u001b[0m\u001b[1;33m.\u001b[0m\u001b[0mroc_curve\u001b[0m\u001b[1;33m(\u001b[0m\u001b[0my_test\u001b[0m\u001b[1;33m[\u001b[0m\u001b[1;33m:\u001b[0m\u001b[0mlen\u001b[0m\u001b[1;33m(\u001b[0m\u001b[0mli\u001b[0m\u001b[1;33m)\u001b[0m\u001b[1;33m]\u001b[0m\u001b[1;33m,\u001b[0m \u001b[0mli\u001b[0m\u001b[1;33m,\u001b[0m \u001b[0mpos_label\u001b[0m\u001b[1;33m=\u001b[0m\u001b[1;36m2\u001b[0m\u001b[1;33m)\u001b[0m\u001b[1;33m\u001b[0m\u001b[1;33m\u001b[0m\u001b[0m\n\u001b[0m",
      "\u001b[1;32mD:\\anaconda\\lib\\site-packages\\sklearn\\utils\\validation.py\u001b[0m in \u001b[0;36minner_f\u001b[1;34m(*args, **kwargs)\u001b[0m\n\u001b[0;32m     61\u001b[0m             \u001b[0mextra_args\u001b[0m \u001b[1;33m=\u001b[0m \u001b[0mlen\u001b[0m\u001b[1;33m(\u001b[0m\u001b[0margs\u001b[0m\u001b[1;33m)\u001b[0m \u001b[1;33m-\u001b[0m \u001b[0mlen\u001b[0m\u001b[1;33m(\u001b[0m\u001b[0mall_args\u001b[0m\u001b[1;33m)\u001b[0m\u001b[1;33m\u001b[0m\u001b[1;33m\u001b[0m\u001b[0m\n\u001b[0;32m     62\u001b[0m             \u001b[1;32mif\u001b[0m \u001b[0mextra_args\u001b[0m \u001b[1;33m<=\u001b[0m \u001b[1;36m0\u001b[0m\u001b[1;33m:\u001b[0m\u001b[1;33m\u001b[0m\u001b[1;33m\u001b[0m\u001b[0m\n\u001b[1;32m---> 63\u001b[1;33m                 \u001b[1;32mreturn\u001b[0m \u001b[0mf\u001b[0m\u001b[1;33m(\u001b[0m\u001b[1;33m*\u001b[0m\u001b[0margs\u001b[0m\u001b[1;33m,\u001b[0m \u001b[1;33m**\u001b[0m\u001b[0mkwargs\u001b[0m\u001b[1;33m)\u001b[0m\u001b[1;33m\u001b[0m\u001b[1;33m\u001b[0m\u001b[0m\n\u001b[0m\u001b[0;32m     64\u001b[0m \u001b[1;33m\u001b[0m\u001b[0m\n\u001b[0;32m     65\u001b[0m             \u001b[1;31m# extra_args > 0\u001b[0m\u001b[1;33m\u001b[0m\u001b[1;33m\u001b[0m\u001b[1;33m\u001b[0m\u001b[0m\n",
      "\u001b[1;32mD:\\anaconda\\lib\\site-packages\\sklearn\\metrics\\_ranking.py\u001b[0m in \u001b[0;36mroc_curve\u001b[1;34m(y_true, y_score, pos_label, sample_weight, drop_intermediate)\u001b[0m\n\u001b[0;32m    912\u001b[0m     \"\"\"\n\u001b[0;32m    913\u001b[0m     fps, tps, thresholds = _binary_clf_curve(\n\u001b[1;32m--> 914\u001b[1;33m         y_true, y_score, pos_label=pos_label, sample_weight=sample_weight)\n\u001b[0m\u001b[0;32m    915\u001b[0m \u001b[1;33m\u001b[0m\u001b[0m\n\u001b[0;32m    916\u001b[0m     \u001b[1;31m# Attempt to drop thresholds corresponding to points in between and\u001b[0m\u001b[1;33m\u001b[0m\u001b[1;33m\u001b[0m\u001b[1;33m\u001b[0m\u001b[0m\n",
      "\u001b[1;32mD:\\anaconda\\lib\\site-packages\\sklearn\\metrics\\_ranking.py\u001b[0m in \u001b[0;36m_binary_clf_curve\u001b[1;34m(y_true, y_score, pos_label, sample_weight)\u001b[0m\n\u001b[0;32m    691\u001b[0m         \u001b[1;32mraise\u001b[0m \u001b[0mValueError\u001b[0m\u001b[1;33m(\u001b[0m\u001b[1;34m\"{0} format is not supported\"\u001b[0m\u001b[1;33m.\u001b[0m\u001b[0mformat\u001b[0m\u001b[1;33m(\u001b[0m\u001b[0my_type\u001b[0m\u001b[1;33m)\u001b[0m\u001b[1;33m)\u001b[0m\u001b[1;33m\u001b[0m\u001b[1;33m\u001b[0m\u001b[0m\n\u001b[0;32m    692\u001b[0m \u001b[1;33m\u001b[0m\u001b[0m\n\u001b[1;32m--> 693\u001b[1;33m     \u001b[0mcheck_consistent_length\u001b[0m\u001b[1;33m(\u001b[0m\u001b[0my_true\u001b[0m\u001b[1;33m,\u001b[0m \u001b[0my_score\u001b[0m\u001b[1;33m,\u001b[0m \u001b[0msample_weight\u001b[0m\u001b[1;33m)\u001b[0m\u001b[1;33m\u001b[0m\u001b[1;33m\u001b[0m\u001b[0m\n\u001b[0m\u001b[0;32m    694\u001b[0m     \u001b[0my_true\u001b[0m \u001b[1;33m=\u001b[0m \u001b[0mcolumn_or_1d\u001b[0m\u001b[1;33m(\u001b[0m\u001b[0my_true\u001b[0m\u001b[1;33m)\u001b[0m\u001b[1;33m\u001b[0m\u001b[1;33m\u001b[0m\u001b[0m\n\u001b[0;32m    695\u001b[0m     \u001b[0my_score\u001b[0m \u001b[1;33m=\u001b[0m \u001b[0mcolumn_or_1d\u001b[0m\u001b[1;33m(\u001b[0m\u001b[0my_score\u001b[0m\u001b[1;33m)\u001b[0m\u001b[1;33m\u001b[0m\u001b[1;33m\u001b[0m\u001b[0m\n",
      "\u001b[1;32mD:\\anaconda\\lib\\site-packages\\sklearn\\utils\\validation.py\u001b[0m in \u001b[0;36mcheck_consistent_length\u001b[1;34m(*arrays)\u001b[0m\n\u001b[0;32m    318\u001b[0m     \u001b[1;32mif\u001b[0m \u001b[0mlen\u001b[0m\u001b[1;33m(\u001b[0m\u001b[0muniques\u001b[0m\u001b[1;33m)\u001b[0m \u001b[1;33m>\u001b[0m \u001b[1;36m1\u001b[0m\u001b[1;33m:\u001b[0m\u001b[1;33m\u001b[0m\u001b[1;33m\u001b[0m\u001b[0m\n\u001b[0;32m    319\u001b[0m         raise ValueError(\"Found input variables with inconsistent numbers of\"\n\u001b[1;32m--> 320\u001b[1;33m                          \" samples: %r\" % [int(l) for l in lengths])\n\u001b[0m\u001b[0;32m    321\u001b[0m \u001b[1;33m\u001b[0m\u001b[0m\n\u001b[0;32m    322\u001b[0m \u001b[1;33m\u001b[0m\u001b[0m\n",
      "\u001b[1;31mValueError\u001b[0m: Found input variables with inconsistent numbers of samples: [510983, 958272]"
     ]
    }
   ],
   "source": [
    "metrics.roc_curve(y_test[:len(li)], li, pos_label=2)"
   ]
  },
  {
   "cell_type": "code",
   "execution_count": null,
   "metadata": {},
   "outputs": [],
   "source": [
    "model.load_state_dict(torch.load('model_1_0'))"
   ]
  },
  {
   "cell_type": "code",
   "execution_count": null,
   "metadata": {},
   "outputs": [],
   "source": [
    "\n",
    "LOGITS_1=[]\n",
    "for batch in validation_dataloader:\n",
    "\n",
    "    # Add batch to GPU\n",
    "    batch = tuple(t.to(device) for t in batch)\n",
    "    b_input_ids, b_input_mask ,b_token_types= batch\n",
    "    with torch.no_grad():        \n",
    "        outputs = model(b_input_ids, \n",
    "                        token_type_ids=None, \n",
    "                        attention_mask=b_input_mask)\n",
    "\n",
    "    logits = outputs[0]\n",
    "    logits_ = softmax(logits)\n",
    "#             print(logits)\n",
    "    # Move logits and labels to CPU\n",
    "\n",
    "    LOGITS_1 += list(logits_.detach().cpu().numpy().tolist())\n",
    "        \n",
    "     \n",
    "    \n",
    "        "
   ]
  },
  {
   "cell_type": "code",
   "execution_count": null,
   "metadata": {},
   "outputs": [],
   "source": [
    "model.load_state_dict(torch.load('model_2_0'))"
   ]
  },
  {
   "cell_type": "code",
   "execution_count": null,
   "metadata": {},
   "outputs": [],
   "source": [
    "\n",
    "LOGITS_2=[]\n",
    "for batch in validation_dataloader:\n",
    "\n",
    "    # Add batch to GPU\n",
    "    batch = tuple(t.to(device) for t in batch)\n",
    "    b_input_ids, b_input_mask ,b_token_types= batch\n",
    "    with torch.no_grad():        \n",
    "        outputs = model(b_input_ids, \n",
    "                        token_type_ids=None, \n",
    "                        attention_mask=b_input_mask)\n",
    "\n",
    "    logits = outputs[0]\n",
    "    logits_ = softmax(logits)\n",
    "#             print(logits)\n",
    "    # Move logits and labels to CPU\n",
    "\n",
    "    LOGITS_2 += list(logits_.detach().cpu().numpy().tolist())\n",
    "        \n",
    "     \n",
    "    \n",
    "        "
   ]
  },
  {
   "cell_type": "code",
   "execution_count": null,
   "metadata": {},
   "outputs": [],
   "source": [
    "model.load_state_dict(torch.load('model_3_0'))"
   ]
  },
  {
   "cell_type": "code",
   "execution_count": null,
   "metadata": {},
   "outputs": [],
   "source": [
    "\n",
    "LOGITS_3=[]\n",
    "for batch in validation_dataloader:\n",
    "\n",
    "    # Add batch to GPU\n",
    "    batch = tuple(t.to(device) for t in batch)\n",
    "    b_input_ids, b_input_mask ,b_token_types= batch\n",
    "    with torch.no_grad():        \n",
    "        outputs = model(b_input_ids, \n",
    "                        token_type_ids=None, \n",
    "                        attention_mask=b_input_mask)\n",
    "\n",
    "    logits = outputs[0]\n",
    "    logits_ = softmax(logits)\n",
    "#             print(logits)\n",
    "    # Move logits and labels to CPU\n",
    "\n",
    "    LOGITS_3 += list(logits_.detach().cpu().numpy().tolist())\n",
    "        \n",
    "     \n",
    "    \n",
    "        "
   ]
  },
  {
   "cell_type": "code",
   "execution_count": null,
   "metadata": {},
   "outputs": [],
   "source": [
    "model.load_state_dict(torch.load('model_4_0'))"
   ]
  },
  {
   "cell_type": "code",
   "execution_count": null,
   "metadata": {},
   "outputs": [],
   "source": [
    "\n",
    "LOGITS_4=[]\n",
    "for batch in validation_dataloader:\n",
    "\n",
    "    # Add batch to GPU\n",
    "    batch = tuple(t.to(device) for t in batch)\n",
    "    b_input_ids, b_input_mask ,b_token_types= batch\n",
    "    with torch.no_grad():        \n",
    "        outputs = model(b_input_ids, \n",
    "                        token_type_ids=None, \n",
    "                        attention_mask=b_input_mask)\n",
    "\n",
    "    logits = outputs[0]\n",
    "    logits_ = softmax(logits)\n",
    "#             print(logits)\n",
    "    # Move logits and labels to CPU\n",
    "\n",
    "    LOGITS_4 += list(logits_.detach().cpu().numpy().tolist())\n",
    "        \n",
    "     \n",
    "    \n",
    "        "
   ]
  },
  {
   "cell_type": "code",
   "execution_count": null,
   "metadata": {},
   "outputs": [],
   "source": [
    "bert_predictions=np.mean((LOGITS_,LOGITS_1,LOGITS_2,LOGITS_3,LOGITS_4),axis=0)"
   ]
  },
  {
   "cell_type": "code",
   "execution_count": null,
   "metadata": {},
   "outputs": [],
   "source": [
    "logits_=[]\n",
    "for i in LOGITS_:\n",
    "    logits_.append(i[0])"
   ]
  },
  {
   "cell_type": "code",
   "execution_count": null,
   "metadata": {},
   "outputs": [],
   "source": [
    "sub = pd.DataFrame({'token':test['token'].values ,'prediction':logits_})\n",
    "sub.head()"
   ]
  },
  {
   "cell_type": "code",
   "execution_count": null,
   "metadata": {},
   "outputs": [],
   "source": [
    "b.to_csv('train_just_bert.csv',index=False)\n",
    "sub.to_csv('submission_just_bert.csv', index=False)"
   ]
  },
  {
   "cell_type": "code",
   "execution_count": null,
   "metadata": {},
   "outputs": [],
   "source": []
  }
 ],
 "metadata": {
  "kernelspec": {
   "display_name": "Python 3",
   "language": "python",
   "name": "python3"
  },
  "language_info": {
   "codemirror_mode": {
    "name": "ipython",
    "version": 3
   },
   "file_extension": ".py",
   "mimetype": "text/x-python",
   "name": "python",
   "nbconvert_exporter": "python",
   "pygments_lexer": "ipython3",
   "version": "3.7.3"
  },
  "papermill": {
   "default_parameters": {},
   "duration": 42341.849528,
   "end_time": "2022-02-15T20:34:03.654803",
   "environment_variables": {},
   "exception": null,
   "input_path": "__notebook__.ipynb",
   "output_path": "__notebook__.ipynb",
   "parameters": {},
   "start_time": "2022-02-15T08:48:21.805275",
   "version": "2.3.3"
  },
  "widgets": {
   "application/vnd.jupyter.widget-state+json": {
    "state": {
     "05a36f00b1114dd3b30e4e2b1274b8f7": {
      "model_module": "@jupyter-widgets/base",
      "model_module_version": "1.2.0",
      "model_name": "LayoutModel",
      "state": {
       "_model_module": "@jupyter-widgets/base",
       "_model_module_version": "1.2.0",
       "_model_name": "LayoutModel",
       "_view_count": null,
       "_view_module": "@jupyter-widgets/base",
       "_view_module_version": "1.2.0",
       "_view_name": "LayoutView",
       "align_content": null,
       "align_items": null,
       "align_self": null,
       "border": null,
       "bottom": null,
       "display": null,
       "flex": null,
       "flex_flow": null,
       "grid_area": null,
       "grid_auto_columns": null,
       "grid_auto_flow": null,
       "grid_auto_rows": null,
       "grid_column": null,
       "grid_gap": null,
       "grid_row": null,
       "grid_template_areas": null,
       "grid_template_columns": null,
       "grid_template_rows": null,
       "height": null,
       "justify_content": null,
       "justify_items": null,
       "left": null,
       "margin": null,
       "max_height": null,
       "max_width": null,
       "min_height": null,
       "min_width": null,
       "object_fit": null,
       "object_position": null,
       "order": null,
       "overflow": null,
       "overflow_x": null,
       "overflow_y": null,
       "padding": null,
       "right": null,
       "top": null,
       "visibility": null,
       "width": null
      }
     },
     "0952deb3bae5408bab6e3450b5cb1c46": {
      "model_module": "@jupyter-widgets/controls",
      "model_module_version": "1.5.0",
      "model_name": "DescriptionStyleModel",
      "state": {
       "_model_module": "@jupyter-widgets/controls",
       "_model_module_version": "1.5.0",
       "_model_name": "DescriptionStyleModel",
       "_view_count": null,
       "_view_module": "@jupyter-widgets/base",
       "_view_module_version": "1.2.0",
       "_view_name": "StyleView",
       "description_width": ""
      }
     },
     "11f01b978861466aa04eb8172ae8a5e0": {
      "model_module": "@jupyter-widgets/controls",
      "model_module_version": "1.5.0",
      "model_name": "ProgressStyleModel",
      "state": {
       "_model_module": "@jupyter-widgets/controls",
       "_model_module_version": "1.5.0",
       "_model_name": "ProgressStyleModel",
       "_view_count": null,
       "_view_module": "@jupyter-widgets/base",
       "_view_module_version": "1.2.0",
       "_view_name": "StyleView",
       "bar_color": null,
       "description_width": ""
      }
     },
     "128a21b8be07402d8b6b63613afcd32d": {
      "model_module": "@jupyter-widgets/base",
      "model_module_version": "1.2.0",
      "model_name": "LayoutModel",
      "state": {
       "_model_module": "@jupyter-widgets/base",
       "_model_module_version": "1.2.0",
       "_model_name": "LayoutModel",
       "_view_count": null,
       "_view_module": "@jupyter-widgets/base",
       "_view_module_version": "1.2.0",
       "_view_name": "LayoutView",
       "align_content": null,
       "align_items": null,
       "align_self": null,
       "border": null,
       "bottom": null,
       "display": null,
       "flex": null,
       "flex_flow": null,
       "grid_area": null,
       "grid_auto_columns": null,
       "grid_auto_flow": null,
       "grid_auto_rows": null,
       "grid_column": null,
       "grid_gap": null,
       "grid_row": null,
       "grid_template_areas": null,
       "grid_template_columns": null,
       "grid_template_rows": null,
       "height": null,
       "justify_content": null,
       "justify_items": null,
       "left": null,
       "margin": null,
       "max_height": null,
       "max_width": null,
       "min_height": null,
       "min_width": null,
       "object_fit": null,
       "object_position": null,
       "order": null,
       "overflow": null,
       "overflow_x": null,
       "overflow_y": null,
       "padding": null,
       "right": null,
       "top": null,
       "visibility": null,
       "width": null
      }
     },
     "1da66234069640459a8724acca4ccdea": {
      "model_module": "@jupyter-widgets/controls",
      "model_module_version": "1.5.0",
      "model_name": "FloatProgressModel",
      "state": {
       "_dom_classes": [],
       "_model_module": "@jupyter-widgets/controls",
       "_model_module_version": "1.5.0",
       "_model_name": "FloatProgressModel",
       "_view_count": null,
       "_view_module": "@jupyter-widgets/controls",
       "_view_module_version": "1.5.0",
       "_view_name": "ProgressView",
       "bar_style": "success",
       "description": "",
       "description_tooltip": null,
       "layout": "IPY_MODEL_5586d75f74694ddc857847ee462bd6ab",
       "max": 1215509,
       "min": 0,
       "orientation": "horizontal",
       "style": "IPY_MODEL_6c3ebb9dd7544c7287e285dfb0cde344",
       "value": 1215509
      }
     },
     "217247b0e257484a9145804d1528a986": {
      "model_module": "@jupyter-widgets/controls",
      "model_module_version": "1.5.0",
      "model_name": "ProgressStyleModel",
      "state": {
       "_model_module": "@jupyter-widgets/controls",
       "_model_module_version": "1.5.0",
       "_model_name": "ProgressStyleModel",
       "_view_count": null,
       "_view_module": "@jupyter-widgets/base",
       "_view_module_version": "1.2.0",
       "_view_name": "StyleView",
       "bar_color": null,
       "description_width": ""
      }
     },
     "21e4903a22924b6288bb55bad9a79d68": {
      "model_module": "@jupyter-widgets/controls",
      "model_module_version": "1.5.0",
      "model_name": "HBoxModel",
      "state": {
       "_dom_classes": [],
       "_model_module": "@jupyter-widgets/controls",
       "_model_module_version": "1.5.0",
       "_model_name": "HBoxModel",
       "_view_count": null,
       "_view_module": "@jupyter-widgets/controls",
       "_view_module_version": "1.5.0",
       "_view_name": "HBoxView",
       "box_style": "",
       "children": [
        "IPY_MODEL_ddd391d93dca4b3bb7c7b552b8a86bbc",
        "IPY_MODEL_7936a083e11b4821b10e3c11eeb7f14a",
        "IPY_MODEL_a2f9cd8aab8047e08646655f3ee2a428"
       ],
       "layout": "IPY_MODEL_ad13730054de4025823179eeb9558683"
      }
     },
     "280a9e8a855c47a1bbd7b6f51688190a": {
      "model_module": "@jupyter-widgets/controls",
      "model_module_version": "1.5.0",
      "model_name": "FloatProgressModel",
      "state": {
       "_dom_classes": [],
       "_model_module": "@jupyter-widgets/controls",
       "_model_module_version": "1.5.0",
       "_model_name": "FloatProgressModel",
       "_view_count": null,
       "_view_module": "@jupyter-widgets/controls",
       "_view_module_version": "1.5.0",
       "_view_name": "ProgressView",
       "bar_style": "success",
       "description": "",
       "description_tooltip": null,
       "layout": "IPY_MODEL_ada590ab889048a3be9a336c89f496a6",
       "max": 654186735,
       "min": 0,
       "orientation": "horizontal",
       "style": "IPY_MODEL_217247b0e257484a9145804d1528a986",
       "value": 654186735
      }
     },
     "2a5bf185186e41dc8872a0250fd1d0bd": {
      "model_module": "@jupyter-widgets/base",
      "model_module_version": "1.2.0",
      "model_name": "LayoutModel",
      "state": {
       "_model_module": "@jupyter-widgets/base",
       "_model_module_version": "1.2.0",
       "_model_name": "LayoutModel",
       "_view_count": null,
       "_view_module": "@jupyter-widgets/base",
       "_view_module_version": "1.2.0",
       "_view_name": "LayoutView",
       "align_content": null,
       "align_items": null,
       "align_self": null,
       "border": null,
       "bottom": null,
       "display": null,
       "flex": null,
       "flex_flow": null,
       "grid_area": null,
       "grid_auto_columns": null,
       "grid_auto_flow": null,
       "grid_auto_rows": null,
       "grid_column": null,
       "grid_gap": null,
       "grid_row": null,
       "grid_template_areas": null,
       "grid_template_columns": null,
       "grid_template_rows": null,
       "height": null,
       "justify_content": null,
       "justify_items": null,
       "left": null,
       "margin": null,
       "max_height": null,
       "max_width": null,
       "min_height": null,
       "min_width": null,
       "object_fit": null,
       "object_position": null,
       "order": null,
       "overflow": null,
       "overflow_x": null,
       "overflow_y": null,
       "padding": null,
       "right": null,
       "top": null,
       "visibility": null,
       "width": null
      }
     },
     "31054ae78379429886fd9e40033ad610": {
      "model_module": "@jupyter-widgets/controls",
      "model_module_version": "1.5.0",
      "model_name": "HBoxModel",
      "state": {
       "_dom_classes": [],
       "_model_module": "@jupyter-widgets/controls",
       "_model_module_version": "1.5.0",
       "_model_name": "HBoxModel",
       "_view_count": null,
       "_view_module": "@jupyter-widgets/controls",
       "_view_module_version": "1.5.0",
       "_view_name": "HBoxView",
       "box_style": "",
       "children": [
        "IPY_MODEL_56117ee962ae4457b288cff1cc1489d6",
        "IPY_MODEL_1da66234069640459a8724acca4ccdea",
        "IPY_MODEL_94af5af82b6344e086222a8fdd424f05"
       ],
       "layout": "IPY_MODEL_4b2cc9a5c3424a75874d4f7c8f5d5320"
      }
     },
     "42c47ae7da6447fa98343dd7d8ded94a": {
      "model_module": "@jupyter-widgets/base",
      "model_module_version": "1.2.0",
      "model_name": "LayoutModel",
      "state": {
       "_model_module": "@jupyter-widgets/base",
       "_model_module_version": "1.2.0",
       "_model_name": "LayoutModel",
       "_view_count": null,
       "_view_module": "@jupyter-widgets/base",
       "_view_module_version": "1.2.0",
       "_view_name": "LayoutView",
       "align_content": null,
       "align_items": null,
       "align_self": null,
       "border": null,
       "bottom": null,
       "display": null,
       "flex": null,
       "flex_flow": null,
       "grid_area": null,
       "grid_auto_columns": null,
       "grid_auto_flow": null,
       "grid_auto_rows": null,
       "grid_column": null,
       "grid_gap": null,
       "grid_row": null,
       "grid_template_areas": null,
       "grid_template_columns": null,
       "grid_template_rows": null,
       "height": null,
       "justify_content": null,
       "justify_items": null,
       "left": null,
       "margin": null,
       "max_height": null,
       "max_width": null,
       "min_height": null,
       "min_width": null,
       "object_fit": null,
       "object_position": null,
       "order": null,
       "overflow": null,
       "overflow_x": null,
       "overflow_y": null,
       "padding": null,
       "right": null,
       "top": null,
       "visibility": null,
       "width": null
      }
     },
     "4847066104764f4b978801ce8b710730": {
      "model_module": "@jupyter-widgets/base",
      "model_module_version": "1.2.0",
      "model_name": "LayoutModel",
      "state": {
       "_model_module": "@jupyter-widgets/base",
       "_model_module_version": "1.2.0",
       "_model_name": "LayoutModel",
       "_view_count": null,
       "_view_module": "@jupyter-widgets/base",
       "_view_module_version": "1.2.0",
       "_view_name": "LayoutView",
       "align_content": null,
       "align_items": null,
       "align_self": null,
       "border": null,
       "bottom": null,
       "display": null,
       "flex": null,
       "flex_flow": null,
       "grid_area": null,
       "grid_auto_columns": null,
       "grid_auto_flow": null,
       "grid_auto_rows": null,
       "grid_column": null,
       "grid_gap": null,
       "grid_row": null,
       "grid_template_areas": null,
       "grid_template_columns": null,
       "grid_template_rows": null,
       "height": null,
       "justify_content": null,
       "justify_items": null,
       "left": null,
       "margin": null,
       "max_height": null,
       "max_width": null,
       "min_height": null,
       "min_width": null,
       "object_fit": null,
       "object_position": null,
       "order": null,
       "overflow": null,
       "overflow_x": null,
       "overflow_y": null,
       "padding": null,
       "right": null,
       "top": null,
       "visibility": null,
       "width": null
      }
     },
     "489b1904103d496097ddac169c9c81d0": {
      "model_module": "@jupyter-widgets/base",
      "model_module_version": "1.2.0",
      "model_name": "LayoutModel",
      "state": {
       "_model_module": "@jupyter-widgets/base",
       "_model_module_version": "1.2.0",
       "_model_name": "LayoutModel",
       "_view_count": null,
       "_view_module": "@jupyter-widgets/base",
       "_view_module_version": "1.2.0",
       "_view_name": "LayoutView",
       "align_content": null,
       "align_items": null,
       "align_self": null,
       "border": null,
       "bottom": null,
       "display": null,
       "flex": null,
       "flex_flow": null,
       "grid_area": null,
       "grid_auto_columns": null,
       "grid_auto_flow": null,
       "grid_auto_rows": null,
       "grid_column": null,
       "grid_gap": null,
       "grid_row": null,
       "grid_template_areas": null,
       "grid_template_columns": null,
       "grid_template_rows": null,
       "height": null,
       "justify_content": null,
       "justify_items": null,
       "left": null,
       "margin": null,
       "max_height": null,
       "max_width": null,
       "min_height": null,
       "min_width": null,
       "object_fit": null,
       "object_position": null,
       "order": null,
       "overflow": null,
       "overflow_x": null,
       "overflow_y": null,
       "padding": null,
       "right": null,
       "top": null,
       "visibility": null,
       "width": null
      }
     },
     "4b2cc9a5c3424a75874d4f7c8f5d5320": {
      "model_module": "@jupyter-widgets/base",
      "model_module_version": "1.2.0",
      "model_name": "LayoutModel",
      "state": {
       "_model_module": "@jupyter-widgets/base",
       "_model_module_version": "1.2.0",
       "_model_name": "LayoutModel",
       "_view_count": null,
       "_view_module": "@jupyter-widgets/base",
       "_view_module_version": "1.2.0",
       "_view_name": "LayoutView",
       "align_content": null,
       "align_items": null,
       "align_self": null,
       "border": null,
       "bottom": null,
       "display": null,
       "flex": null,
       "flex_flow": null,
       "grid_area": null,
       "grid_auto_columns": null,
       "grid_auto_flow": null,
       "grid_auto_rows": null,
       "grid_column": null,
       "grid_gap": null,
       "grid_row": null,
       "grid_template_areas": null,
       "grid_template_columns": null,
       "grid_template_rows": null,
       "height": null,
       "justify_content": null,
       "justify_items": null,
       "left": null,
       "margin": null,
       "max_height": null,
       "max_width": null,
       "min_height": null,
       "min_width": null,
       "object_fit": null,
       "object_position": null,
       "order": null,
       "overflow": null,
       "overflow_x": null,
       "overflow_y": null,
       "padding": null,
       "right": null,
       "top": null,
       "visibility": null,
       "width": null
      }
     },
     "5586d75f74694ddc857847ee462bd6ab": {
      "model_module": "@jupyter-widgets/base",
      "model_module_version": "1.2.0",
      "model_name": "LayoutModel",
      "state": {
       "_model_module": "@jupyter-widgets/base",
       "_model_module_version": "1.2.0",
       "_model_name": "LayoutModel",
       "_view_count": null,
       "_view_module": "@jupyter-widgets/base",
       "_view_module_version": "1.2.0",
       "_view_name": "LayoutView",
       "align_content": null,
       "align_items": null,
       "align_self": null,
       "border": null,
       "bottom": null,
       "display": null,
       "flex": null,
       "flex_flow": null,
       "grid_area": null,
       "grid_auto_columns": null,
       "grid_auto_flow": null,
       "grid_auto_rows": null,
       "grid_column": null,
       "grid_gap": null,
       "grid_row": null,
       "grid_template_areas": null,
       "grid_template_columns": null,
       "grid_template_rows": null,
       "height": null,
       "justify_content": null,
       "justify_items": null,
       "left": null,
       "margin": null,
       "max_height": null,
       "max_width": null,
       "min_height": null,
       "min_width": null,
       "object_fit": null,
       "object_position": null,
       "order": null,
       "overflow": null,
       "overflow_x": null,
       "overflow_y": null,
       "padding": null,
       "right": null,
       "top": null,
       "visibility": null,
       "width": null
      }
     },
     "56117ee962ae4457b288cff1cc1489d6": {
      "model_module": "@jupyter-widgets/controls",
      "model_module_version": "1.5.0",
      "model_name": "HTMLModel",
      "state": {
       "_dom_classes": [],
       "_model_module": "@jupyter-widgets/controls",
       "_model_module_version": "1.5.0",
       "_model_name": "HTMLModel",
       "_view_count": null,
       "_view_module": "@jupyter-widgets/controls",
       "_view_module_version": "1.5.0",
       "_view_name": "HTMLView",
       "description": "",
       "description_tooltip": null,
       "layout": "IPY_MODEL_05a36f00b1114dd3b30e4e2b1274b8f7",
       "placeholder": "​",
       "style": "IPY_MODEL_e7b182501fc040eba793ca927cfd5402",
       "value": "Downloading: 100%"
      }
     },
     "581372bad9d14fbea1c05b034bb5cd83": {
      "model_module": "@jupyter-widgets/controls",
      "model_module_version": "1.5.0",
      "model_name": "DescriptionStyleModel",
      "state": {
       "_model_module": "@jupyter-widgets/controls",
       "_model_module_version": "1.5.0",
       "_model_name": "DescriptionStyleModel",
       "_view_count": null,
       "_view_module": "@jupyter-widgets/base",
       "_view_module_version": "1.2.0",
       "_view_name": "StyleView",
       "description_width": ""
      }
     },
     "6c3ebb9dd7544c7287e285dfb0cde344": {
      "model_module": "@jupyter-widgets/controls",
      "model_module_version": "1.5.0",
      "model_name": "ProgressStyleModel",
      "state": {
       "_model_module": "@jupyter-widgets/controls",
       "_model_module_version": "1.5.0",
       "_model_name": "ProgressStyleModel",
       "_view_count": null,
       "_view_module": "@jupyter-widgets/base",
       "_view_module_version": "1.2.0",
       "_view_name": "StyleView",
       "bar_color": null,
       "description_width": ""
      }
     },
     "7936a083e11b4821b10e3c11eeb7f14a": {
      "model_module": "@jupyter-widgets/controls",
      "model_module_version": "1.5.0",
      "model_name": "FloatProgressModel",
      "state": {
       "_dom_classes": [],
       "_model_module": "@jupyter-widgets/controls",
       "_model_module_version": "1.5.0",
       "_model_name": "FloatProgressModel",
       "_view_count": null,
       "_view_module": "@jupyter-widgets/controls",
       "_view_module_version": "1.5.0",
       "_view_name": "ProgressView",
       "bar_style": "success",
       "description": "",
       "description_tooltip": null,
       "layout": "IPY_MODEL_c7c875e07419428db73274ff8732c73a",
       "max": 434,
       "min": 0,
       "orientation": "horizontal",
       "style": "IPY_MODEL_11f01b978861466aa04eb8172ae8a5e0",
       "value": 434
      }
     },
     "7c5f454a13e7483e8b6c7d7d59b79757": {
      "model_module": "@jupyter-widgets/controls",
      "model_module_version": "1.5.0",
      "model_name": "HBoxModel",
      "state": {
       "_dom_classes": [],
       "_model_module": "@jupyter-widgets/controls",
       "_model_module_version": "1.5.0",
       "_model_name": "HBoxModel",
       "_view_count": null,
       "_view_module": "@jupyter-widgets/controls",
       "_view_module_version": "1.5.0",
       "_view_name": "HBoxView",
       "box_style": "",
       "children": [
        "IPY_MODEL_e03ada3ee1d54e8c9b9e0fa521a21528",
        "IPY_MODEL_280a9e8a855c47a1bbd7b6f51688190a",
        "IPY_MODEL_ea40730f922b4df0a79a47d3102f3529"
       ],
       "layout": "IPY_MODEL_4847066104764f4b978801ce8b710730"
      }
     },
     "8a575a2251884204ba1360ef52961d62": {
      "model_module": "@jupyter-widgets/controls",
      "model_module_version": "1.5.0",
      "model_name": "DescriptionStyleModel",
      "state": {
       "_model_module": "@jupyter-widgets/controls",
       "_model_module_version": "1.5.0",
       "_model_name": "DescriptionStyleModel",
       "_view_count": null,
       "_view_module": "@jupyter-widgets/base",
       "_view_module_version": "1.2.0",
       "_view_name": "StyleView",
       "description_width": ""
      }
     },
     "94af5af82b6344e086222a8fdd424f05": {
      "model_module": "@jupyter-widgets/controls",
      "model_module_version": "1.5.0",
      "model_name": "HTMLModel",
      "state": {
       "_dom_classes": [],
       "_model_module": "@jupyter-widgets/controls",
       "_model_module_version": "1.5.0",
       "_model_name": "HTMLModel",
       "_view_count": null,
       "_view_module": "@jupyter-widgets/controls",
       "_view_module_version": "1.5.0",
       "_view_name": "HTMLView",
       "description": "",
       "description_tooltip": null,
       "layout": "IPY_MODEL_d0127e9da2204153bd272fb95bd81290",
       "placeholder": "​",
       "style": "IPY_MODEL_581372bad9d14fbea1c05b034bb5cd83",
       "value": " 1.16M/1.16M [00:00&lt;00:00, 1.87MB/s]"
      }
     },
     "a2f9cd8aab8047e08646655f3ee2a428": {
      "model_module": "@jupyter-widgets/controls",
      "model_module_version": "1.5.0",
      "model_name": "HTMLModel",
      "state": {
       "_dom_classes": [],
       "_model_module": "@jupyter-widgets/controls",
       "_model_module_version": "1.5.0",
       "_model_name": "HTMLModel",
       "_view_count": null,
       "_view_module": "@jupyter-widgets/controls",
       "_view_module_version": "1.5.0",
       "_view_name": "HTMLView",
       "description": "",
       "description_tooltip": null,
       "layout": "IPY_MODEL_128a21b8be07402d8b6b63613afcd32d",
       "placeholder": "​",
       "style": "IPY_MODEL_8a575a2251884204ba1360ef52961d62",
       "value": " 434/434 [00:00&lt;00:00, 16.5kB/s]"
      }
     },
     "ad13730054de4025823179eeb9558683": {
      "model_module": "@jupyter-widgets/base",
      "model_module_version": "1.2.0",
      "model_name": "LayoutModel",
      "state": {
       "_model_module": "@jupyter-widgets/base",
       "_model_module_version": "1.2.0",
       "_model_name": "LayoutModel",
       "_view_count": null,
       "_view_module": "@jupyter-widgets/base",
       "_view_module_version": "1.2.0",
       "_view_name": "LayoutView",
       "align_content": null,
       "align_items": null,
       "align_self": null,
       "border": null,
       "bottom": null,
       "display": null,
       "flex": null,
       "flex_flow": null,
       "grid_area": null,
       "grid_auto_columns": null,
       "grid_auto_flow": null,
       "grid_auto_rows": null,
       "grid_column": null,
       "grid_gap": null,
       "grid_row": null,
       "grid_template_areas": null,
       "grid_template_columns": null,
       "grid_template_rows": null,
       "height": null,
       "justify_content": null,
       "justify_items": null,
       "left": null,
       "margin": null,
       "max_height": null,
       "max_width": null,
       "min_height": null,
       "min_width": null,
       "object_fit": null,
       "object_position": null,
       "order": null,
       "overflow": null,
       "overflow_x": null,
       "overflow_y": null,
       "padding": null,
       "right": null,
       "top": null,
       "visibility": null,
       "width": null
      }
     },
     "ada590ab889048a3be9a336c89f496a6": {
      "model_module": "@jupyter-widgets/base",
      "model_module_version": "1.2.0",
      "model_name": "LayoutModel",
      "state": {
       "_model_module": "@jupyter-widgets/base",
       "_model_module_version": "1.2.0",
       "_model_name": "LayoutModel",
       "_view_count": null,
       "_view_module": "@jupyter-widgets/base",
       "_view_module_version": "1.2.0",
       "_view_name": "LayoutView",
       "align_content": null,
       "align_items": null,
       "align_self": null,
       "border": null,
       "bottom": null,
       "display": null,
       "flex": null,
       "flex_flow": null,
       "grid_area": null,
       "grid_auto_columns": null,
       "grid_auto_flow": null,
       "grid_auto_rows": null,
       "grid_column": null,
       "grid_gap": null,
       "grid_row": null,
       "grid_template_areas": null,
       "grid_template_columns": null,
       "grid_template_rows": null,
       "height": null,
       "justify_content": null,
       "justify_items": null,
       "left": null,
       "margin": null,
       "max_height": null,
       "max_width": null,
       "min_height": null,
       "min_width": null,
       "object_fit": null,
       "object_position": null,
       "order": null,
       "overflow": null,
       "overflow_x": null,
       "overflow_y": null,
       "padding": null,
       "right": null,
       "top": null,
       "visibility": null,
       "width": null
      }
     },
     "c7c875e07419428db73274ff8732c73a": {
      "model_module": "@jupyter-widgets/base",
      "model_module_version": "1.2.0",
      "model_name": "LayoutModel",
      "state": {
       "_model_module": "@jupyter-widgets/base",
       "_model_module_version": "1.2.0",
       "_model_name": "LayoutModel",
       "_view_count": null,
       "_view_module": "@jupyter-widgets/base",
       "_view_module_version": "1.2.0",
       "_view_name": "LayoutView",
       "align_content": null,
       "align_items": null,
       "align_self": null,
       "border": null,
       "bottom": null,
       "display": null,
       "flex": null,
       "flex_flow": null,
       "grid_area": null,
       "grid_auto_columns": null,
       "grid_auto_flow": null,
       "grid_auto_rows": null,
       "grid_column": null,
       "grid_gap": null,
       "grid_row": null,
       "grid_template_areas": null,
       "grid_template_columns": null,
       "grid_template_rows": null,
       "height": null,
       "justify_content": null,
       "justify_items": null,
       "left": null,
       "margin": null,
       "max_height": null,
       "max_width": null,
       "min_height": null,
       "min_width": null,
       "object_fit": null,
       "object_position": null,
       "order": null,
       "overflow": null,
       "overflow_x": null,
       "overflow_y": null,
       "padding": null,
       "right": null,
       "top": null,
       "visibility": null,
       "width": null
      }
     },
     "d0127e9da2204153bd272fb95bd81290": {
      "model_module": "@jupyter-widgets/base",
      "model_module_version": "1.2.0",
      "model_name": "LayoutModel",
      "state": {
       "_model_module": "@jupyter-widgets/base",
       "_model_module_version": "1.2.0",
       "_model_name": "LayoutModel",
       "_view_count": null,
       "_view_module": "@jupyter-widgets/base",
       "_view_module_version": "1.2.0",
       "_view_name": "LayoutView",
       "align_content": null,
       "align_items": null,
       "align_self": null,
       "border": null,
       "bottom": null,
       "display": null,
       "flex": null,
       "flex_flow": null,
       "grid_area": null,
       "grid_auto_columns": null,
       "grid_auto_flow": null,
       "grid_auto_rows": null,
       "grid_column": null,
       "grid_gap": null,
       "grid_row": null,
       "grid_template_areas": null,
       "grid_template_columns": null,
       "grid_template_rows": null,
       "height": null,
       "justify_content": null,
       "justify_items": null,
       "left": null,
       "margin": null,
       "max_height": null,
       "max_width": null,
       "min_height": null,
       "min_width": null,
       "object_fit": null,
       "object_position": null,
       "order": null,
       "overflow": null,
       "overflow_x": null,
       "overflow_y": null,
       "padding": null,
       "right": null,
       "top": null,
       "visibility": null,
       "width": null
      }
     },
     "ddd391d93dca4b3bb7c7b552b8a86bbc": {
      "model_module": "@jupyter-widgets/controls",
      "model_module_version": "1.5.0",
      "model_name": "HTMLModel",
      "state": {
       "_dom_classes": [],
       "_model_module": "@jupyter-widgets/controls",
       "_model_module_version": "1.5.0",
       "_model_name": "HTMLModel",
       "_view_count": null,
       "_view_module": "@jupyter-widgets/controls",
       "_view_module_version": "1.5.0",
       "_view_name": "HTMLView",
       "description": "",
       "description_tooltip": null,
       "layout": "IPY_MODEL_2a5bf185186e41dc8872a0250fd1d0bd",
       "placeholder": "​",
       "style": "IPY_MODEL_f5926e786ffd4e70bb59003073842503",
       "value": "Downloading: 100%"
      }
     },
     "e03ada3ee1d54e8c9b9e0fa521a21528": {
      "model_module": "@jupyter-widgets/controls",
      "model_module_version": "1.5.0",
      "model_name": "HTMLModel",
      "state": {
       "_dom_classes": [],
       "_model_module": "@jupyter-widgets/controls",
       "_model_module_version": "1.5.0",
       "_model_name": "HTMLModel",
       "_view_count": null,
       "_view_module": "@jupyter-widgets/controls",
       "_view_module_version": "1.5.0",
       "_view_name": "HTMLView",
       "description": "",
       "description_tooltip": null,
       "layout": "IPY_MODEL_489b1904103d496097ddac169c9c81d0",
       "placeholder": "​",
       "style": "IPY_MODEL_0952deb3bae5408bab6e3450b5cb1c46",
       "value": "Downloading: 100%"
      }
     },
     "e7b182501fc040eba793ca927cfd5402": {
      "model_module": "@jupyter-widgets/controls",
      "model_module_version": "1.5.0",
      "model_name": "DescriptionStyleModel",
      "state": {
       "_model_module": "@jupyter-widgets/controls",
       "_model_module_version": "1.5.0",
       "_model_name": "DescriptionStyleModel",
       "_view_count": null,
       "_view_module": "@jupyter-widgets/base",
       "_view_module_version": "1.2.0",
       "_view_name": "StyleView",
       "description_width": ""
      }
     },
     "ea40730f922b4df0a79a47d3102f3529": {
      "model_module": "@jupyter-widgets/controls",
      "model_module_version": "1.5.0",
      "model_name": "HTMLModel",
      "state": {
       "_dom_classes": [],
       "_model_module": "@jupyter-widgets/controls",
       "_model_module_version": "1.5.0",
       "_model_name": "HTMLModel",
       "_view_count": null,
       "_view_module": "@jupyter-widgets/controls",
       "_view_module_version": "1.5.0",
       "_view_name": "HTMLView",
       "description": "",
       "description_tooltip": null,
       "layout": "IPY_MODEL_42c47ae7da6447fa98343dd7d8ded94a",
       "placeholder": "​",
       "style": "IPY_MODEL_ff7c7537b5864d4e9634415e3df41c3e",
       "value": " 624M/624M [00:22&lt;00:00, 31.3MB/s]"
      }
     },
     "f5926e786ffd4e70bb59003073842503": {
      "model_module": "@jupyter-widgets/controls",
      "model_module_version": "1.5.0",
      "model_name": "DescriptionStyleModel",
      "state": {
       "_model_module": "@jupyter-widgets/controls",
       "_model_module_version": "1.5.0",
       "_model_name": "DescriptionStyleModel",
       "_view_count": null,
       "_view_module": "@jupyter-widgets/base",
       "_view_module_version": "1.2.0",
       "_view_name": "StyleView",
       "description_width": ""
      }
     },
     "ff7c7537b5864d4e9634415e3df41c3e": {
      "model_module": "@jupyter-widgets/controls",
      "model_module_version": "1.5.0",
      "model_name": "DescriptionStyleModel",
      "state": {
       "_model_module": "@jupyter-widgets/controls",
       "_model_module_version": "1.5.0",
       "_model_name": "DescriptionStyleModel",
       "_view_count": null,
       "_view_module": "@jupyter-widgets/base",
       "_view_module_version": "1.2.0",
       "_view_name": "StyleView",
       "description_width": ""
      }
     }
    },
    "version_major": 2,
    "version_minor": 0
   }
  }
 },
 "nbformat": 4,
 "nbformat_minor": 5
}
